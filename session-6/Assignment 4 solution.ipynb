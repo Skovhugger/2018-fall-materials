{
 "cells": [
  {
   "cell_type": "markdown",
   "metadata": {
    "slideshow": {
     "slide_type": "subslide"
    }
   },
   "source": [
    "## Part C: Counting words (1/4)\n",
    "\n",
    "Imagine you were to write a function called `count_word_in_text` that counts the occurrence of a single word from some text. Write down a few lines about how you would break this down into smaller problems. Think about this: what is the input? What is the expected output? What things might you need to save in variables as the program runs?"
   ]
  },
  {
   "cell_type": "markdown",
   "metadata": {
    "slideshow": {
     "slide_type": "subslide"
    }
   },
   "source": [
    "## Part D: Counting words (2/4)\n",
    "Now we can move on to writing the actual function. Your function should take one input (the word to search for) and return the number of times that the word appeared in the variable `text` (see below). Here are some examples of input and expected output:\n",
    "\n",
    "```\n",
    "'woman' -> 2 (or 3 if you count the string 'woman.')\n",
    "'drawing' -> 1\n",
    "'was' -> 4 (or 5 if you count the string 'was,')\n",
    "```\n",
    "    \n",
    "  - _Hint_: You can split a piece of text into a list where each element is a word like so:\n",
    "    \n",
    "    ```python\n",
    "    print(text.split()) # ['To', 'Sherlock', 'Holmes', ...]\n",
    "    ```\n"
   ]
  },
  {
   "cell_type": "code",
   "execution_count": 1,
   "metadata": {
    "slideshow": {
     "slide_type": "subslide"
    }
   },
   "outputs": [],
   "source": [
    "text = '''\n",
    "To Sherlock Holmes she is always the woman. I have seldom heard him\n",
    "mention her under any other name. In his eyes she eclipses and\n",
    "predominates the whole of her sex. It was not that he felt any\n",
    "emotion akin to love for Irene Adler. All emotions, and that one\n",
    "particularly, were abhorrent to his cold, precise but admirably\n",
    "balanced mind. He was, I take it, the most perfect reasoning and\n",
    "observing machine that the world has seen, but as a lover he would\n",
    "have placed himself in a false position. He never spoke of the softer\n",
    "passions, save with a gibe and a sneer. They were admirable things\n",
    "for the observer--excellent for drawing the veil from men's motives\n",
    "and actions. But for the trained reasoner to admit such intrusions\n",
    "into his own delicate and finely adjusted temperament was to\n",
    "introduce a distracting factor which might throw a doubt upon all his\n",
    "mental results. Grit in a sensitive instrument, or a crack in one of\n",
    "his own high-power lenses, would not be more disturbing than a strong\n",
    "emotion in a nature such as his. And yet there was but one woman to\n",
    "him, and that woman was the late Irene Adler, of dubious and\n",
    "questionable memory.\n",
    "'''"
   ]
  },
  {
   "cell_type": "code",
   "execution_count": 13,
   "metadata": {
    "slideshow": {
     "slide_type": "fragment"
    }
   },
   "outputs": [
    {
     "name": "stdout",
     "output_type": "stream",
     "text": [
      "20\n"
     ]
    }
   ],
   "source": [
    "def count_word_in_text(needle):\n",
    "    return text.count(needle)\n",
    "print(count_word_in_text('he'))"
   ]
  },
  {
   "cell_type": "markdown",
   "metadata": {
    "slideshow": {
     "slide_type": "subslide"
    }
   },
   "source": [
    "## Part E: Counting words (3/4)\n",
    "\n",
    "Write a second function, that goes through all the words in the `text` variable and adds them as a key-value pair of the word and the number 0 to a dictionary. The result should be a dictionary where all the keys are the unique words in the text, and all the values are numbers.\n",
    "  - _Hint_: You can create a dictionary like so:\n",
    "    \n",
    "    ```python\n",
    "    my_dictionary = {}\n",
    "    ```\n",
    "    \n",
    "  - _Hint_: You will have to create a value in your dictionary *if it does not already exist*. Two ways to do this is by iterating through the text twice, or use the `setdefault` method (google knows what this means). If you have a better idea, feel free to try it out!"
   ]
  },
  {
   "cell_type": "code",
   "execution_count": 26,
   "metadata": {
    "slideshow": {
     "slide_type": "fragment"
    }
   },
   "outputs": [
    {
     "name": "stdout",
     "output_type": "stream",
     "text": [
      "{'To': 1, 'Sherlock': 1, 'Holmes': 1, 'she': 2, 'is': 1, 'always': 1, 'the': 9, 'woman.': 1, 'I': 2, 'have': 2, 'seldom': 1, 'heard': 1, 'him': 1, 'mention': 1, 'her': 2, 'under': 1, 'any': 2, 'other': 1, 'name.': 1, 'In': 1, 'his': 5, 'eyes': 1, 'eclipses': 1, 'and': 8, 'predominates': 1, 'whole': 1, 'of': 4, 'sex.': 1, 'It': 1, 'was': 4, 'not': 2, 'that': 4, 'he': 2, 'felt': 1, 'emotion': 2, 'akin': 1, 'to': 5, 'love': 1, 'for': 4, 'Irene': 2, 'Adler.': 1, 'All': 1, 'emotions,': 1, 'one': 3, 'particularly,': 1, 'were': 2, 'abhorrent': 1, 'cold,': 1, 'precise': 1, 'but': 3, 'admirably': 1, 'balanced': 1, 'mind.': 1, 'He': 2, 'was,': 1, 'take': 1, 'it,': 1, 'most': 1, 'perfect': 1, 'reasoning': 1, 'observing': 1, 'machine': 1, 'world': 1, 'has': 1, 'seen,': 1, 'as': 2, 'a': 10, 'lover': 1, 'would': 2, 'placed': 1, 'himself': 1, 'in': 4, 'false': 1, 'position.': 1, 'never': 1, 'spoke': 1, 'softer': 1, 'passions,': 1, 'save': 1, 'with': 1, 'gibe': 1, 'sneer.': 1, 'They': 1, 'admirable': 1, 'things': 1, 'observer--excellent': 1, 'drawing': 1, 'veil': 1, 'from': 1, \"men's\": 1, 'motives': 1, 'actions.': 1, 'But': 1, 'trained': 1, 'reasoner': 1, 'admit': 1, 'such': 2, 'intrusions': 1, 'into': 1, 'own': 2, 'delicate': 1, 'finely': 1, 'adjusted': 1, 'temperament': 1, 'introduce': 1, 'distracting': 1, 'factor': 1, 'which': 1, 'might': 1, 'throw': 1, 'doubt': 1, 'upon': 1, 'all': 1, 'mental': 1, 'results.': 1, 'Grit': 1, 'sensitive': 1, 'instrument,': 1, 'or': 1, 'crack': 1, 'high-power': 1, 'lenses,': 1, 'be': 1, 'more': 1, 'disturbing': 1, 'than': 1, 'strong': 1, 'nature': 1, 'his.': 1, 'And': 1, 'yet': 1, 'there': 1, 'woman': 2, 'him,': 1, 'late': 1, 'Adler,': 1, 'dubious': 1, 'questionable': 1, 'memory.': 1}\n"
     ]
    }
   ],
   "source": [
    "def count_word_in_text2():\n",
    "    split_text = text.split()\n",
    "    my_dictionary = {}\n",
    "    for word in split_text:\n",
    "        my_dictionary[word] = 0\n",
    "    for word in split_text:\n",
    "        my_dictionary[word] += 1\n",
    "    return my_dictionary\n",
    "\n",
    "print(count_word_in_text2())"
   ]
  },
  {
   "cell_type": "markdown",
   "metadata": {
    "slideshow": {
     "slide_type": "subslide"
    }
   },
   "source": [
    "## Part F: Counting words (4/4)\n",
    "Write a third function that counts the occurrence of all the words in the text. The output should be a dictionary where the keys are all the words in the text, and the values are a number, indicating how many times that word occurred in the text.\n",
    "  - _Hint_: Inspect your dictionary from before. What are the keys? Can you exploit that somehow?\n",
    "  - _Hint_: You can iterate over a dictionary like so (print() statements simply to show what .items() does):\n",
    "    \n",
    "    ```python\n",
    "    my_dict = {'one_key': 2, 'some_key': 3, 'a_key': 5, 'still_key': 7}\n",
    "    for key, value in my_dict.items():\n",
    "        print(key)\n",
    "        print(value)\n",
    "        print()\n",
    "    ```"
   ]
  },
  {
   "cell_type": "code",
   "execution_count": null,
   "metadata": {
    "slideshow": {
     "slide_type": "fragment"
    }
   },
   "outputs": [],
   "source": [
    "def count_word_in_text3(word):\n",
    "    ..."
   ]
  }
 ],
 "metadata": {
  "celltoolbar": "Slideshow",
  "kernelspec": {
   "display_name": "Python 3",
   "language": "python",
   "name": "python3"
  },
  "language_info": {
   "codemirror_mode": {
    "name": "ipython",
    "version": 3
   },
   "file_extension": ".py",
   "mimetype": "text/x-python",
   "name": "python",
   "nbconvert_exporter": "python",
   "pygments_lexer": "ipython3",
   "version": "3.6.3"
  }
 },
 "nbformat": 4,
 "nbformat_minor": 2
}
