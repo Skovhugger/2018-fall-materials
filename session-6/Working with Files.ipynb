{
 "cells": [
  {
   "cell_type": "markdown",
   "metadata": {
    "slideshow": {
     "slide_type": "slide"
    }
   },
   "source": [
    "# Reading from a File\n",
    "\n",
    "A 'file' is what your computer can save and read as **data**.\n",
    "\n",
    "An incredible amount of data is available in files. \n",
    "\n",
    "Files can contain weather data, traffic data, socioeconomic data, literary works, and more. Reading from a file is particularly useful in data analysis applications, but it’s also applicable to any situation in which you want to analyze or modify information stored in a file. \n",
    "\n",
    "![](images/cabinet.gif)"
   ]
  },
  {
   "cell_type": "markdown",
   "metadata": {
    "slideshow": {
     "slide_type": "subslide"
    }
   },
   "source": [
    "## File types\n",
    "\n",
    "You probably noticed that files are typically of the form `name.suffix`. The `suffix` part tells us about the type of the file. Here are some file ending examples:\n",
    "\n",
    "* `.txt`    Plain text files\n",
    "* `.html`   Website files\n",
    "* `.csv`    Comma-separated values\n",
    "* `.rtf`    Rich-text formatting\n",
    "* `.doc`    Document files\n",
    "* `.pdf`    Pdf files\n",
    "\n",
    "We will get back to this later. For now let's look at a plain text file (`.txt`):"
   ]
  },
  {
   "cell_type": "code",
   "execution_count": null,
   "metadata": {
    "slideshow": {
     "slide_type": "fragment"
    }
   },
   "outputs": [],
   "source": [
    "%%bash\n",
    "cat bones_in_london.txt | head "
   ]
  },
  {
   "cell_type": "markdown",
   "metadata": {
    "slideshow": {
     "slide_type": "subslide"
    }
   },
   "source": [
    "Text files can either be read from or written to. Let's have a look at reading first."
   ]
  },
  {
   "cell_type": "markdown",
   "metadata": {
    "slideshow": {
     "slide_type": "subslide"
    }
   },
   "source": [
    "## Reading an Entire File\n",
    "\n",
    "When you want to work with the information in a text file, the first step is to read the file into memory. You can read the entire contents of a file, or you can work through the file one line at a time.\n",
    "\n",
    "To begin, we need a file with a few lines of text in it. Let’s start with a file that contains the Sherloack Holmes story _\"A Study in Scarlet\"_:"
   ]
  },
  {
   "cell_type": "code",
   "execution_count": null,
   "metadata": {
    "slideshow": {
     "slide_type": "fragment"
    }
   },
   "outputs": [],
   "source": [
    "file_name = 'a_study_in_scarlet.txt'\n",
    "with open(file_name) as file_pointer:\n",
    "    contents = file_pointer.read()\n",
    "    print(contents[:700])"
   ]
  },
  {
   "cell_type": "markdown",
   "metadata": {
    "slideshow": {
     "slide_type": "notes"
    }
   },
   "source": [
    "Let’s start by looking at the `open() function`. To do any work with a file, even just printing its contents, you first need to open the file to access it. The `open()` function needs one argument: the name of the file you want to open. Python looks for this file in the directory where the program that is currently being executed is stored. \n",
    "\n",
    "The `open()` function returns an object representing the file. Here, `open(file_name)` returns an object representing `a_study_in_scarlet.txt`. Python stores this object in `file_object`, which we will work with later in the program.\n",
    "\n",
    "The keyword `with` denotes a *Context Manager*, which essentially wraps a block of code and performs an action at the end of the block, no matter how it exits. In this case, it closes the file once access to it is no longer needed. Notice how we call `open()` in this program but not `close()`. You could open and close the file by calling `open()` and `close()`, but if a bug in your program prevents the `close()` statement from being executed, the file may never close. This may seem trivial, but improperly closed files can cause data to be lost or corrupted. And if you call `close()` too early in your program, you’ll find yourself trying to work with a closed file (a file you can’t access), which leads to more errors. It is not always easy to know exactly when you should close a file, but with the structure shown here, Python will figure that out for you. All you have to do is open the file and work with it as desired, trusting that Python will close it automatically when the time is right.\n",
    "\n",
    "Once we have a file object representing `a_study_in_scarlet.txt`, we use the `read()` method in the second line of our program to read the entire contents of the file and store it as one long string in contents. When we print the value of contents, we get the **entire** text file back.\n",
    "\n",
    "The only difference between this output and the original file is the extra blank line at the end of the output. The blank line appears because `read()` returns an empty string when it reaches the end of the file; this empty string shows up as a blank line. If you want to remove the extra blank line, you can use `rstrip()`."
   ]
  },
  {
   "cell_type": "markdown",
   "metadata": {
    "slideshow": {
     "slide_type": "slide"
    }
   },
   "source": [
    "# Files and folders\n",
    "\n",
    "Files are stored inside directories (or folders). So a directory structure could look like this:\n",
    "\n",
    "\n",
    "    python/\n",
    "    ├── counting_words_project\n",
    "    │   ├── find_caps_words.py\n",
    "    │   └── text_analysis.py\n",
    "    └── hello_world_project\n",
    "        └── hello.py\n",
    "        \n",
    "To find `hello.py` you would have to enter the `python` folder and then the `hello_world_project` folder."
   ]
  },
  {
   "cell_type": "markdown",
   "metadata": {
    "slideshow": {
     "slide_type": "slide"
    }
   },
   "source": [
    "## File Paths\n",
    "\n",
    "When you pass a simple filename like `a_study_in_scarlet.txt` to the `open()` function, Python looks in the directory where the file that is currently being executed (that is, your .py program file) is stored.\n",
    "\n",
    "Sometimes, depending on how you organize your work, the file you want to open is not located in the same directory as your program file. Therefore, you can use *relative* and *absolute file paths* as arguments to the `open()` function."
   ]
  },
  {
   "cell_type": "markdown",
   "metadata": {
    "slideshow": {
     "slide_type": "subslide"
    }
   },
   "source": [
    "### Relative file paths \n",
    "\n",
    "A relative file path tells Python to look for a given location relative to the directory where the currently running program file is stored. On Linux and OS X, you would write:\n",
    "\n",
    "```python\n",
    "with open('text_files/filename.txt') as file_object:\n",
    "    pass\n",
    "```\n",
    "\n",
    "This tells Python to look for the \"filename.txt\" file in the folder `text_files`, which is assumed to be located inside your current working directory. On Windows systems, you use a backslash (`\\`) instead of a forward slash (`/`) in the file path:\n",
    "\n",
    "```python\n",
    "with open('text_files\\filename.txt') as file_object:\n",
    "    pass\n",
    "```"
   ]
  },
  {
   "cell_type": "markdown",
   "metadata": {
    "slideshow": {
     "slide_type": "subslide"
    }
   },
   "source": [
    "### Absolute file paths \n",
    "An absolute file path, tells the Python interpreter exactly where a file is located regardless of the current working directory. On Linux and OS X, absolute paths look like:\n",
    "\n",
    "```python\n",
    "file_path = '/tmp/text_files/filename.txt' \n",
    "with open(file_path) as file_object:\n",
    "    pass\n",
    "```\n",
    "\n",
    "and on Windows they look like this:\n",
    "\n",
    "```python\n",
    "file_path = 'C:\\Users\\<username>\\AppData\\Local\\Temp\\text_files\\filename.txt' \n",
    "with open(file_path) as file_object:\n",
    "    pass\n",
    "```\n",
    "\n",
    "Note, on Windows, when you are using `GitBash` paths are translated from Windows style to Unix style. That is, a path like `C:\\Users\\helge\\AppData\\Local\\Temp\\a_study_in_scarlet.txt` is represented by `/c/Users/helge/AppData/Local/Temp/a_study_in_scarlet.txt`."
   ]
  },
  {
   "cell_type": "markdown",
   "metadata": {
    "slideshow": {
     "slide_type": "subslide"
    }
   },
   "source": [
    "## Try it out!\n",
    "\n",
    "* You have to download the file from GitHub in the session 6 repository.\n",
    "\n",
    "```python\n",
    "with open('a_study_in_scarlet.txt') as file_pointer:\n",
    "    print(file_pointer.read())\n",
    "```"
   ]
  },
  {
   "cell_type": "markdown",
   "metadata": {
    "slideshow": {
     "slide_type": "subslide"
    }
   },
   "source": [
    "## Reading Line by Line\n",
    "\n",
    "When you are reading a file, you will often want to examine each line of the file. You might be looking for certain information in the file, or you might want to modify the text in the file in some way. \n",
    "\n",
    "You can use a `for` loop on the file object to examine each line from a file one at a time."
   ]
  },
  {
   "cell_type": "code",
   "execution_count": null,
   "metadata": {
    "slideshow": {
     "slide_type": "fragment"
    }
   },
   "outputs": [],
   "source": [
    "with open('a_study_in_scarlet.txt') as file_pointer:\n",
    "    for line in file_pointer:\n",
    "        print(line)"
   ]
  },
  {
   "cell_type": "markdown",
   "metadata": {
    "slideshow": {
     "slide_type": "subslide"
    }
   },
   "source": [
    "When printing each line, we find even more blank lines. These blank lines appear because an invisible newline character is at the end of each line in the text file. The print statement adds its own newline each time we call it, so we end up with two newline characters at the end of each line: one from the file and one from the print statement. Again, using `rstrip()` on each line in the `print` statement eliminates these extra blank lines."
   ]
  },
  {
   "cell_type": "code",
   "execution_count": null,
   "metadata": {
    "slideshow": {
     "slide_type": "subslide"
    }
   },
   "outputs": [],
   "source": [
    "with open('a_study_in_scarlet.txt') as file_pointer:\n",
    "    for line in file_pointer:\n",
    "        print(line.rstrip())"
   ]
  },
  {
   "cell_type": "markdown",
   "metadata": {
    "slideshow": {
     "slide_type": "subslide"
    }
   },
   "source": [
    "## Making a List of Lines from a File\n",
    "\n",
    "When you use `with`, the file object returned by `open()` is only available inside the `with` block that contains it. If you want to retain access to a file’s contents outside the with block, you can store the file’s lines in a list inside the block and then work with that list.\n",
    "\n",
    "The following example stores the lines of `pi_30_digits.txt` in a list inside the with block and then prints the lines outside the with block."
   ]
  },
  {
   "cell_type": "code",
   "execution_count": null,
   "metadata": {
    "slideshow": {
     "slide_type": "subslide"
    }
   },
   "outputs": [],
   "source": [
    "filename = 'a_study_in_scarlet.txt'\n",
    "\n",
    "with open(filename) as file_pointer:\n",
    "    lines = file_pointer.readlines()\n",
    "\n",
    "print(lines[200])"
   ]
  },
  {
   "cell_type": "markdown",
   "metadata": {
    "slideshow": {
     "slide_type": "slide"
    }
   },
   "source": [
    "# A quick note on binary files\n",
    "\n",
    "Not all files are good to read. Let's try to open an image file in Python:"
   ]
  },
  {
   "cell_type": "code",
   "execution_count": null,
   "metadata": {
    "slideshow": {
     "slide_type": "fragment"
    }
   },
   "outputs": [],
   "source": [
    "with open('images/cabinet.gif') as file_pointer:\n",
    "    print(file_pointer.read())"
   ]
  },
  {
   "cell_type": "markdown",
   "metadata": {
    "slideshow": {
     "slide_type": "subslide"
    }
   },
   "source": [
    "Uh-oh. What happened? As you know images are not text. Neither are `.pdf`, `.docx` or `.xlsx` files. \n",
    "\n",
    "If you try to open these files as text you run into problem. They are stored as binary digits (0 or 1s) in a very specific order."
   ]
  },
  {
   "cell_type": "markdown",
   "metadata": {
    "slideshow": {
     "slide_type": "subslide"
    }
   },
   "source": [
    "## But.. What about text files?\n",
    "\n",
    "Here is a 1'000'000$ question: are text files binary?"
   ]
  },
  {
   "cell_type": "markdown",
   "metadata": {
    "slideshow": {
     "slide_type": "fragment"
    }
   },
   "source": [
    "For text files you **always** have characters and only characters. One character is set to be a *fixed number of bytes*. Python understands that.\n",
    "\n",
    "Images does not consist of characters. Simple images like `.bmp` consists of pixels, but modern images like `.png` or `.jpg` are actually quite advanced compression algorithms. They are *not* a fixed number of bytes.\n",
    "\n",
    "Similarly for binary `.pdf` files, the order in which bytes are stored matter a great deal."
   ]
  },
  {
   "cell_type": "markdown",
   "metadata": {
    "slideshow": {
     "slide_type": "fragment"
    }
   },
   "source": [
    "tl;dr: Yes, text files are stored in binary format, but we can read them because they are simply a loooong list of characters."
   ]
  },
  {
   "cell_type": "markdown",
   "metadata": {
    "slideshow": {
     "slide_type": "subslide"
    }
   },
   "source": [
    "## Recap\n",
    "\n",
    "* Files and folders\n",
    "* Reading from files\n",
    "  * ```python\n",
    "with open('file.txt') as file_object:\n",
    "       ...\n",
    "```\n",
    "  * Or on the command line: `cat file.txt`\n",
    "* Difference between text and binary files"
   ]
  },
  {
   "cell_type": "markdown",
   "metadata": {
    "slideshow": {
     "slide_type": "slide"
    }
   },
   "source": [
    "# Writing to a File\n",
    "\n",
    "One of the simplest ways to save data is to write it to a file. When you write text to a file, the output will still be available after you close the terminal containing your program’s output. You can examine output after a program finishes running, and you can share the output files with others as well. You can also write programs that read the text back into memory and work with it again later.\n",
    "\n",
    "## Writing to an Empty File\n",
    "\n",
    "To write text to a file, you need to call `open()` with a second argument telling Python that you want to write to the file. To see how this works, let’s write a simple message and store it in a file instead of printing it to the screen.\n",
    "\n",
    "The call to `open()` in the following example has two arguments. The first argument is still the name of the file we want to open. The second argument, `'w'`, tells the Python interpreter, that we want to open the file in write mode. You can open a file in *read mode* (`'r'`), *write mode* (`'w'`), *append mode* (`'a'`), or a mode that allows you to *read and write* to the file (`'r+'`). If you omit the mode argument, Python opens the file in read-only mode by default.\n",
    "\n",
    "The `open()` function automatically creates the file you are writing to if it does not already exist. However, be careful opening a file in write mode (`'w'`) because if the file does exist, Python will erase the file before returning the file object."
   ]
  },
  {
   "cell_type": "code",
   "execution_count": null,
   "metadata": {
    "slideshow": {
     "slide_type": "subslide"
    }
   },
   "outputs": [],
   "source": [
    "filename = 'cool_file.txt'\n",
    "with open(filename) as file_object:\n",
    "    file_object.write('Hullu bullu!')"
   ]
  },
  {
   "cell_type": "code",
   "execution_count": null,
   "metadata": {
    "slideshow": {
     "slide_type": "subslide"
    }
   },
   "outputs": [],
   "source": [
    "%%bash\n",
    "cat sherlock_copy.txt"
   ]
  },
  {
   "cell_type": "markdown",
   "metadata": {
    "slideshow": {
     "slide_type": "subslide"
    }
   },
   "source": [
    "## Appending to a File\n",
    "\n",
    "If you want to add content to a file instead of writing over existing content, you can open the file in append mode. When you open a file in append mode, Python does not erase the file before returning the file object. Any lines you write to the file will be added at the end of the file. If the file does not exist yet, Python will create an empty file for you."
   ]
  },
  {
   "cell_type": "code",
   "execution_count": null,
   "metadata": {
    "slideshow": {
     "slide_type": "subslide"
    }
   },
   "outputs": [],
   "source": [
    "filename = 'cool_file.txt'\n",
    "with open(filename, 'a') as file_object:\n",
    "    file_object.write('Once upon a time.\\n')\n",
    "    file_object.write('There was a frog.'\\n')\n",
    "    file_object.write('And the frog was ugly.\\n')"
   ]
  },
  {
   "cell_type": "code",
   "execution_count": null,
   "metadata": {
    "slideshow": {
     "slide_type": "subslide"
    }
   },
   "outputs": [],
   "source": [
    "%%bash\n",
    "cat sherlock_copy.txt"
   ]
  },
  {
   "cell_type": "markdown",
   "metadata": {
    "slideshow": {
     "slide_type": "subslide"
    }
   },
   "source": [
    "## The CSV File Format\n",
    "\n",
    "One simple way to store data in a text file is to write the data as a series of values separated by commas, called comma-separated values. The resulting files are called CSV files. \n",
    "For example, here are two lines of population data from Copenhagen data in CSV format:\n",
    "\n",
    "```csv\n",
    "2015,1,0,5100,614\n",
    "2015,1,0,5104,2\n",
    "```\n",
    "\n",
    "\n",
    "This is population data is from Copenhagen City with respect to year 2015. It includes the year of reference (2015 in first row), a code for the neighborhood of the city, the age of the corresponding citizens, a code of their nationality, and finally the amount of persons of that nationality and age.\n",
    "\n",
    "\n",
    "The dataset is described in more detail here: http://data.kk.dk/dataset/befolkningen-efter-ar-bydel-alder-og-statsborgerskab\n",
    "and the nationality codes are detailed here: http://www.dst.dk/da/Statistik/dokumentation/Times/forebyggelsesregistret/statkode.aspx\n",
    "\n",
    "\n",
    "\n",
    "CSV files are simple. For example, CSV files\n",
    "  * Do not have types for their values—everything is a string\n",
    "  * Do not have settings for font size or color\n",
    "  * Do not have multiple worksheets\n",
    "  * Cannot specify cell widths and heights\n",
    "  * Cannot have merged cells\n",
    "  * Cannot have images or charts embedded in them\n",
    "  \n",
    "The advantage of CSV files is simplicity. CSV files are widely supported by many types of programs, can be viewed in text editors, and are a straightforward way to represent spreadsheet data. The CSV format is exactly as advertised: It is just a text file of comma-separated values."
   ]
  },
  {
   "cell_type": "markdown",
   "metadata": {
    "slideshow": {
     "slide_type": "subslide"
    }
   },
   "source": [
    "However, it is recomended using a proper library, such as `csv` to read CSV files, instead of reading them as text files.\n",
    "\n",
    "### Parsing the CSV File Headers\n",
    "Python’s `csv` module in the standard library parses the lines in a CSV file and allows us to quickly extract the values we are interested in. Let’s start by examining the first line of the file, which contains a series of headers for the data."
   ]
  },
  {
   "cell_type": "code",
   "execution_count": null,
   "metadata": {
    "slideshow": {
     "slide_type": "subslide"
    }
   },
   "outputs": [],
   "source": [
    "# Befolkningen efter år, bydel, alder og statsborgerskab\n",
    "# http://data.kk.dk/dataset/befolkningen-efter-ar-bydel-alder-og-statsborgerskab\n",
    "import csv\n",
    "\n",
    "\n",
    "filename = 'befkbhalderstatkode.csv'\n",
    "with open(filename) as f:\n",
    "    reader = csv.reader(f)\n",
    "    header_row = next(reader)\n",
    "    print(header_row)\n"
   ]
  },
  {
   "cell_type": "markdown",
   "metadata": {
    "slideshow": {
     "slide_type": "subslide"
    }
   },
   "source": [
    "### Printing the Headers and Their Positions\n",
    "To make it easier to understand the file header data, print each header and its position, i.e. the index of its row.\n",
    "\n",
    "To read data from a CSV file with the csv module, you need to create a Reader object, see line 2 in the following. A Reader object lets you iterate over lines in the CSV file."
   ]
  },
  {
   "cell_type": "code",
   "execution_count": null,
   "metadata": {
    "slideshow": {
     "slide_type": "subslide"
    }
   },
   "outputs": [],
   "source": [
    "filename = 'befkbhalderstatkode.csv'\n",
    "with open(filename) as f:\n",
    "    reader = csv.reader(f)\n",
    "    header_row = next(reader)\n",
    "\n",
    "    for index, column_header in enumerate(header_row): \n",
    "        print(index, column_header)"
   ]
  },
  {
   "cell_type": "markdown",
   "metadata": {
    "slideshow": {
     "slide_type": "subslide"
    }
   },
   "source": [
    "### Reading Data from Reader Objects in a `for` Loop\n",
    "\n",
    "For large CSV files, you will want to use the Reader object in a `for` loop."
   ]
  },
  {
   "cell_type": "code",
   "execution_count": null,
   "metadata": {
    "slideshow": {
     "slide_type": "subslide"
    }
   },
   "outputs": [],
   "source": [
    "filename = 'befkbhalderstatkode.csv'\n",
    "with open(filename) as f:\n",
    "    reader = csv.reader(f)\n",
    "    header_row = next(reader)\n",
    "\n",
    "    for row in reader:\n",
    "        print(f'Row #{str(reader.line_num)} {str(row)}')\n",
    "        \n",
    "        # The following line is only for the example in class\n",
    "        # as the file is quite big...\n",
    "        if reader.line_num > 50:\n",
    "            break"
   ]
  },
  {
   "cell_type": "markdown",
   "metadata": {
    "slideshow": {
     "slide_type": "subslide"
    }
   },
   "source": [
    "### Extracting and Reading Data\n",
    "\n",
    "Now that we know which columns of data we need, let’s read in some of that data.\n",
    "\n",
    "We make an empty set called `ages` and then loop through the remaining rows in the file. The reader object continues from where it left off in the CSV file and automatically returns each line following its current position. Because we have already read the header row, the loop will begin at the second line where the actual data begins. On each pass through the loop, we append the data from index 2, the third column storing the age."
   ]
  },
  {
   "cell_type": "code",
   "execution_count": null,
   "metadata": {
    "slideshow": {
     "slide_type": "subslide"
    }
   },
   "outputs": [],
   "source": [
    "ages = set([])\n",
    "\n",
    "filename = 'befkbhalderstatkode.csv'\n",
    "with open(filename) as f:\n",
    "    reader = csv.reader(f)\n",
    "    header_row = next(reader)\n",
    "\n",
    "    for row in reader:\n",
    "        # OBS: cast to int otherwise we would read strings!\n",
    "        ages.add(int(row[2]))\n",
    "        \n",
    "print(sorted(ages))\n",
    "print(max(ages))"
   ]
  },
  {
   "cell_type": "markdown",
   "metadata": {
    "slideshow": {
     "slide_type": "subslide"
    }
   },
   "source": [
    "### Writing Data to CSV Files\n",
    "\n",
    "A Writer object lets you write data to a CSV file. To create a Writer object, you use the csv.writer() function. Enter the following into the interactive shell:\n",
    "\n",
    "First, call `open()` and pass it `'w'` to open a file in write mode. This will create the object you can then pass to `csv.writer()` to create a Writer object.\n",
    "\n",
    "On Windows, you’ll also need to pass a blank string for the `open()` function’s newline keyword argument. For technical reasons beyond the scope of this book, if you forget to set the newline argument, the rows in `output.csv` will be double-spaced.\n",
    "\n",
    "The `writerow()` method for Writer objects takes a list argument. Each value in the list is placed in its own cell in the output CSV file. The return value of `writerow()` is the number of characters written to the file for that row (including newline characters). Notice how the Writer object automatically escapes the comma in the value `'614,5'` with double quotes in the CSV file. The `csv` module saves you from having to handle these special cases yourself."
   ]
  },
  {
   "cell_type": "code",
   "execution_count": null,
   "metadata": {
    "slideshow": {
     "slide_type": "subslide"
    }
   },
   "outputs": [],
   "source": [
    "import csv\n",
    "import platform\n",
    "\n",
    "\n",
    "if platform.system() == 'Windows':\n",
    "    newline=''\n",
    "else:\n",
    "    newline=None\n",
    "    \n",
    "with open('output.csv', 'w', newline=newline) as output_file:\n",
    "    output_writer = csv.writer(output_file)\n",
    "    \n",
    "    output_writer.writerow(['2015', '1', '0', '5100', '614,5'])\n",
    "    output_writer.writerow(['2015', '1', '0', '5104', '2,3'])\n",
    "    output_writer.writerow(['2015', '1', '0', '5106', '1'])\n",
    "    output_writer.writerow(['2015', '1', '0', '5110', '1'])"
   ]
  },
  {
   "cell_type": "code",
   "execution_count": null,
   "metadata": {
    "slideshow": {
     "slide_type": "subslide"
    }
   },
   "outputs": [],
   "source": [
    "%%bash\n",
    "cat output.csv"
   ]
  },
  {
   "cell_type": "code",
   "execution_count": null,
   "metadata": {
    "slideshow": {
     "slide_type": "subslide"
    }
   },
   "outputs": [],
   "source": [
    "import csv\n",
    "\n",
    "with open('output.csv', 'w') as output_file:\n",
    "    output_writer = csv.writer(output_file, delimiter='\\t', quotechar='|')\n",
    "    output_writer.writerow(['2015', '1', '0', '5100', '614\\t5'])\n",
    "    output_writer.writerow(['2015', '1', '0', '5104', '2,3'])\n",
    "    output_writer.writerow(['2015', '1', '0', '5106', '1'])\n",
    "    output_writer.writerow(['2015', '1', '0', '5110', '1'])"
   ]
  }
 ],
 "metadata": {
  "celltoolbar": "Slideshow",
  "kernelspec": {
   "display_name": "Python 3",
   "language": "python",
   "name": "python3"
  },
  "language_info": {
   "codemirror_mode": {
    "name": "ipython",
    "version": 3
   },
   "file_extension": ".py",
   "mimetype": "text/x-python",
   "name": "python",
   "nbconvert_exporter": "python",
   "pygments_lexer": "ipython3",
   "version": "3.6.3"
  }
 },
 "nbformat": 4,
 "nbformat_minor": 2
}
