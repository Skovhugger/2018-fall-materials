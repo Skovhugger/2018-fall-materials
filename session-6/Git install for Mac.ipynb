{
 "cells": [
  {
   "cell_type": "markdown",
   "metadata": {},
   "source": [
    "# Installing *Git* on a *Mac*\n",
    "\n",
    "(This guide is <strike>stolen</strike> borrowed from https://gist.github.com/derhuerst/1b15ff4652a867391f03#file-mac-md)\n",
    "\n",
    "First [Open a terminal window](http://www.youtube.com/watch?v=zw7Nd67_aFw).\n",
    "\n",
    "## Step 1 – Install [*Homebrew*](http://brew.sh/)\n",
    "\n",
    "> *Homebrew* […] simplifies the installation of software on the Mac OS X operating system.\n",
    "\n",
    "– [Homebrew – Wikipedia](http://en.wikipedia.org/wiki/Homebrew_%28package_management_software%29)\n",
    "\n",
    "**Copy & paste the following** into the terminal window and **hit `Return`**.\n",
    "\n",
    "```shell\n",
    "ruby -e \"$(curl -fsSL https://raw.githubusercontent.com/Homebrew/install/master/install)\"\n",
    "brew doctor\n",
    "```\n",
    "\n",
    "You will be offered to install the *Command Line Developer Tools* from *Apple*. **Confirm by clicking *Install***. After the installation finished, continue installing *Homebrew* by **hitting `Return`** again.\n",
    "\n",
    "## Step 2 – Install *Git*\n",
    "\n",
    "**Copy & paste the following** into the terminal window and **hit `Return`**.\n",
    "\n",
    "```shell\n",
    "brew install git\n",
    "```\n",
    "\n",
    "## Step 3 - Verify installation\n",
    "\n",
    "* In a terminal write\n",
    "\n",
    "```shell\n",
    "git --version\n",
    "```"
   ]
  }
 ],
 "metadata": {
  "kernelspec": {
   "display_name": "Python 3",
   "language": "python",
   "name": "python3"
  },
  "language_info": {
   "codemirror_mode": {
    "name": "ipython",
    "version": 3
   },
   "file_extension": ".py",
   "mimetype": "text/x-python",
   "name": "python",
   "nbconvert_exporter": "python",
   "pygments_lexer": "ipython3",
   "version": "3.6.3"
  },
  "latex_envs": {
   "LaTeX_envs_menu_present": true,
   "autoclose": false,
   "autocomplete": true,
   "bibliofile": "biblio.bib",
   "cite_by": "apalike",
   "current_citInitial": 1,
   "eqLabelWithNumbers": true,
   "eqNumInitial": 1,
   "hotkeys": {
    "equation": "Ctrl-E",
    "itemize": "Ctrl-I"
   },
   "labels_anchors": false,
   "latex_user_defs": false,
   "report_style_numbering": false,
   "user_envs_cfg": false
  }
 },
 "nbformat": 4,
 "nbformat_minor": 2
}
