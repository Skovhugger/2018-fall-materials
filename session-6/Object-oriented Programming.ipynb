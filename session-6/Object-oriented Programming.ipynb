{
 "cells": [
  {
   "cell_type": "markdown",
   "metadata": {
    "slideshow": {
     "slide_type": "slide"
    }
   },
   "source": [
    "# On cats and properties\n",
    "\n",
    "![](images/cat.gif)"
   ]
  },
  {
   "cell_type": "markdown",
   "metadata": {
    "slideshow": {
     "slide_type": "fragment"
    }
   },
   "source": [
    "If you think about a cat objectively there are some universal things that is attached to the fact that is a cat.\n",
    "\n",
    "In other words, things that is there because it is a cat. And that all cats can do. Like miauing. Or purring."
   ]
  },
  {
   "cell_type": "markdown",
   "metadata": {
    "slideshow": {
     "slide_type": "subslide"
    }
   },
   "source": [
    "## On foxes and properties\n",
    "\n",
    "![](images/fox.gif)\n",
    "\n",
    "We just agreed that the cat could make a sound. And when it did, it would miau.\n",
    "\n",
    "But a fox can make a sound as well! According to Norwegians it goes something like 'RIKA DING-DING-DING'."
   ]
  },
  {
   "cell_type": "markdown",
   "metadata": {
    "slideshow": {
     "slide_type": "subslide"
    }
   },
   "source": [
    "## On animals and properties\n",
    "\n",
    "Actually, we can generalise it to all animals. We know that all animals can make a sound. So if you want to be an animal, you __need__ a sound (also the fox!).\n",
    "\n",
    "That means we have a general property for all animals: `sound`. In a way this is also a contract. You **promise** to have a sound when you are an animal.\n",
    "\n",
    "But the exact sound depends on the animal.\n",
    "\n",
    "```\n",
    "Animal:                         Cow is-a Animal:                 Cat is-a Animal:\n",
    "\n",
    "   sound: <REQUIRED>               sound: Moooo                     sound: Miau\n",
    "```"
   ]
  },
  {
   "cell_type": "markdown",
   "metadata": {
    "slideshow": {
     "slide_type": "fragment"
    }
   },
   "source": [
    "In programming this is called object-oriented programming. It is a really nice way to view the world because it works. We can do the same reduction-of-properties for cars, buildings, food, music etc. etc."
   ]
  },
  {
   "cell_type": "markdown",
   "metadata": {
    "collapsed": true,
    "slideshow": {
     "slide_type": "slide"
    }
   },
   "source": [
    "# Object-oriented Programming\n",
    "\n",
    "Object-oriented programming is one of the most common ways to write and structure software. In object-oriented programming you write classes that represent real-world things and situations, and you create objects based on these classes. \n",
    "\n",
    "When you write a class, you define the general behavior that a whole category of objects can have. \n",
    "\n",
    "When you create individual objects from the class, each object is automatically equipped with the general behavior; you can then give each object whatever unique traits you desire. \n",
    "\n",
    "Making an object from a class is called *instantiation*, and you work with instances of a class. "
   ]
  },
  {
   "cell_type": "code",
   "execution_count": null,
   "metadata": {
    "slideshow": {
     "slide_type": "subslide"
    }
   },
   "outputs": [],
   "source": [
    "class Animal:\n",
    "    def sound(self):\n",
    "        raise Exception(\"What kind of animal are you, a fox?!\")\n",
    "        \n",
    "Animal().sound()"
   ]
  },
  {
   "cell_type": "code",
   "execution_count": null,
   "metadata": {
    "slideshow": {
     "slide_type": "subslide"
    }
   },
   "outputs": [],
   "source": [
    "class Fox(Animal):\n",
    "    pass\n",
    "\n",
    "Fox().sound()"
   ]
  },
  {
   "cell_type": "code",
   "execution_count": null,
   "metadata": {
    "slideshow": {
     "slide_type": "subslide"
    }
   },
   "outputs": [],
   "source": [
    "class Cow(Animal):\n",
    "    def sound(self):\n",
    "        print(\"TCHJING-A-DING-DING\")\n",
    "\n",
    "litago = Cow()\n",
    "litago.sound()\n",
    "bessy = Cow()"
   ]
  },
  {
   "cell_type": "markdown",
   "metadata": {
    "slideshow": {
     "slide_type": "subslide"
    }
   },
   "source": [
    "## Classes and objects\n",
    "\n",
    "* Classes are **abstractions** of a type of objects\n",
    "* Objects are **instances** of that abstractions\n",
    "\n",
    "\n",
    "* Think about what you consider a 'Cow'\n",
    "* Mathilda the cow is one cow out of many cows"
   ]
  },
  {
   "cell_type": "markdown",
   "metadata": {
    "slideshow": {
     "slide_type": "subslide"
    }
   },
   "source": [
    "## Exercise: Difference between classes and objects"
   ]
  },
  {
   "cell_type": "code",
   "execution_count": 1,
   "metadata": {
    "slideshow": {
     "slide_type": "subslide"
    }
   },
   "outputs": [],
   "source": [
    "class Book:\n",
    "    def __init__(self, title, author):\n",
    "        self.title = title\n",
    "        self.author = author\n",
    "        \n",
    "book1 = Book('Game of Thrones', 'George R. R. Martin')\n",
    "book2 = Book('Game of Thrones', 'George R. R. Martin')"
   ]
  },
  {
   "cell_type": "code",
   "execution_count": 2,
   "metadata": {
    "slideshow": {
     "slide_type": "fragment"
    }
   },
   "outputs": [
    {
     "name": "stdout",
     "output_type": "stream",
     "text": [
      "False\n"
     ]
    }
   ],
   "source": [
    "# What will this give?\n",
    "print(book1 == book2)"
   ]
  },
  {
   "cell_type": "code",
   "execution_count": null,
   "metadata": {},
   "outputs": [],
   "source": []
  },
  {
   "cell_type": "markdown",
   "metadata": {
    "slideshow": {
     "slide_type": "subslide"
    }
   },
   "source": [
    "# Where does that come from?! (Nice-to-know)"
   ]
  },
  {
   "cell_type": "code",
   "execution_count": 7,
   "metadata": {
    "slideshow": {
     "slide_type": "subslide"
    }
   },
   "outputs": [
    {
     "name": "stdout",
     "output_type": "stream",
     "text": [
      "Merry Poppins\n",
      "Game of Thrones\n"
     ]
    }
   ],
   "source": [
    "book1.title = 'Merry Poppins'\n",
    "print(book1.title)\n",
    "print(book2.title)"
   ]
  },
  {
   "cell_type": "code",
   "execution_count": null,
   "metadata": {
    "slideshow": {
     "slide_type": "subslide"
    }
   },
   "outputs": [],
   "source": [
    "print(book2)"
   ]
  },
  {
   "cell_type": "code",
   "execution_count": null,
   "metadata": {
    "slideshow": {
     "slide_type": "subslide"
    }
   },
   "outputs": [],
   "source": [
    "print(book1 == book1)"
   ]
  },
  {
   "cell_type": "code",
   "execution_count": null,
   "metadata": {
    "slideshow": {
     "slide_type": "subslide"
    }
   },
   "outputs": [],
   "source": [
    "book1.__"
   ]
  },
  {
   "cell_type": "code",
   "execution_count": null,
   "metadata": {
    "slideshow": {
     "slide_type": "subslide"
    }
   },
   "outputs": [],
   "source": [
    "class Book:\n",
    "    def __init__(self, title, author):\n",
    "        self.title = title\n",
    "        self.author = author\n",
    "    def __eq__(self, other):\n",
    "        return True\n",
    "\n",
    "book1 = Book('Game of Thrones', 'George R. R. Martin')\n",
    "book2 = Book('Game of Thrones', 'George R. R. Martin')"
   ]
  },
  {
   "cell_type": "code",
   "execution_count": null,
   "metadata": {
    "slideshow": {
     "slide_type": "fragment"
    }
   },
   "outputs": [],
   "source": [
    "book1 == book2"
   ]
  },
  {
   "cell_type": "code",
   "execution_count": null,
   "metadata": {
    "slideshow": {
     "slide_type": "subslide"
    }
   },
   "outputs": [],
   "source": [
    "class Book:\n",
    "    def __init__(self, title, author):\n",
    "        self.title = title\n",
    "        self.author = author\n",
    "    def __eq__(self, other):\n",
    "        return self.title == other.title && self.author == other.author\n",
    "\n",
    "book1 = Book('Game of Thrones', 'George R. R. Martin')\n",
    "book2 = Book('Game of Thrones', 'George R. R. Martin')"
   ]
  },
  {
   "cell_type": "code",
   "execution_count": null,
   "metadata": {
    "slideshow": {
     "slide_type": "subslide"
    }
   },
   "outputs": [],
   "source": [
    "book1 == book2"
   ]
  }
 ],
 "metadata": {
  "celltoolbar": "Slideshow",
  "kernelspec": {
   "display_name": "Python 3",
   "language": "python",
   "name": "python3"
  },
  "language_info": {
   "codemirror_mode": {
    "name": "ipython",
    "version": 3
   },
   "file_extension": ".py",
   "mimetype": "text/x-python",
   "name": "python",
   "nbconvert_exporter": "python",
   "pygments_lexer": "ipython3",
   "version": "3.6.3"
  }
 },
 "nbformat": 4,
 "nbformat_minor": 2
}
