{
 "cells": [
  {
   "cell_type": "markdown",
   "metadata": {},
   "source": [
    "# Working with text\n",
    "\n",
    "In this assignment you'll familiarise yourself more with text in Python. Text is incredibly important because it's so ubiquitous. And it's nice because it requires a lot less math than coding graphics. Try to solve as much as you can, but do hand in. That is, hand in regardless of how much you've done. And don't forget to review the feedback you get!"
   ]
  },
  {
   "cell_type": "markdown",
   "metadata": {},
   "source": [
    "## Part A: What are these pieces of code doing?\n",
    "\n",
    "For this assignment you don't have to type in the code or run it. You can of course, but try **not** to. \n",
    "* The goal is for you to explain what the individual pieces of code below will print. Imagine someone runs the code; what do you think will be the output? Write one answer per code piece."
   ]
  },
  {
   "cell_type": "code",
   "execution_count": null,
   "metadata": {},
   "outputs": [],
   "source": [
    "alphabet = \"abcdefghijklmnopqrstuvxyzæøå\"\n",
    "print(alphabet[7] + alphabet[20] + alphabet[11] + alphabet[11] + alphabet[20])"
   ]
  },
  {
   "cell_type": "code",
   "execution_count": null,
   "metadata": {},
   "outputs": [],
   "source": [
    "c = 10\n",
    "while c > 1:\n",
    "    print(c)\n",
    "    c -= 10"
   ]
  },
  {
   "cell_type": "code",
   "execution_count": null,
   "metadata": {},
   "outputs": [],
   "source": [
    "my_list = [1, 2, 3, 4]\n",
    "for number in my_list:\n",
    "    print(number)"
   ]
  },
  {
   "cell_type": "markdown",
   "metadata": {},
   "source": [
    "## Part 2: Good coding practices\n",
    "In the session we had an exercise on drawing using a while loop. Can you change the below code to:\n",
    "\n",
    "* use better naming practices and\n",
    "* use an augmented assignment operator like +=?\n",
    "\n",
    "```python\n",
    "from turtle import *\n",
    "\n",
    "a = 170\n",
    "f = 200\n",
    "c = 36\n",
    "while c > 0:\n",
    "    forward(f)\n",
    "    left(a)\n",
    "    c = c - 1\n",
    "```"
   ]
  },
  {
   "cell_type": "markdown",
   "metadata": {},
   "source": [
    "## Part C: Working with lists\n",
    "\n",
    "Say you have a list like so:\n",
    "\n",
    "```python\n",
    "my_list = [4, 2, 8, 1, 9, -1, 8]\n",
    "```\n",
    "\n",
    "The code below is supposed to find the smallest number in the list, but it's not working. Your task is to:\n",
    "\n",
    "* Put the code in Mu, set a breakpoint, run the debugger, write down in text what's happening.\n",
    "* Fix the code so it actually finds the smallest number\n",
    "\n",
    "\n",
    "```python\n",
    "smallest_number = 1000000\n",
    "for number in my_list:\n",
    "    if number > smallest_number:\n",
    "        smallest_number = number\n",
    "print(\"I found the smallest number: \" + smallest_number)\n",
    "```"
   ]
  },
  {
   "cell_type": "markdown",
   "metadata": {},
   "source": [
    "## Part D: Generating names\n",
    "\n",
    "For this part you'll need to download the `us_names.py` file and put it into the same directory that you're currently working in. The reason being that you need to import and use it like so:"
   ]
  },
  {
   "cell_type": "code",
   "execution_count": null,
   "metadata": {},
   "outputs": [],
   "source": [
    "from us_names import SURNAMES, FEMALE_NAMES, MALE_NAMES"
   ]
  },
  {
   "cell_type": "markdown",
   "metadata": {},
   "source": [
    "Translated from Python to English, that simply means \"load the Python file `us_names.py` and bring me three variables from within that file: `SURNAMES`, `FEMALE_NAMES` and `MALE_NAMES`\". You can now use those variables directly in your code. Try to do that now.\n",
    "\n",
    "Here's \n",
    "your assignment:\n",
    "\n",
    "* Write a program that creates 4 valid US American names. Of these 4 names are 2 female and 2 male names. A valid name has the form `<name> <surname>` (with a space between the name and surname), such as, Shayla Maeda or Hipolito Crytser. Try different indexes to find names you like. The names are sorted by prevalence so the most common names are first and the rarest names are in the end. Your job is to retrieve those names 4 names you like from the variables above and print them.\n",
    "\n",
    "  * Hint: To form a name you need to lookup the name (gendered name + surname) in your variables\n"
   ]
  },
  {
   "cell_type": "markdown",
   "metadata": {},
   "source": [
    "## Part E: Random generated names\n",
    "\n",
    "* The code below prints out a random number between 0 and 10. Can you use that to randomize your 4 names? That is, you are right now using fixed indices to lookup the names in the variables, so they will always stay the same. Can you exploit the code below to create names that changes every time you execute the code?\n",
    "  * Hint: You can find the length of a variable like `SURNAMES` like so: \n",
    "  ```python\n",
    "len(SURNAMES)\n",
    "```"
   ]
  },
  {
   "cell_type": "code",
   "execution_count": null,
   "metadata": {},
   "outputs": [],
   "source": [
    "import random\n",
    "a_random_number = random.randint(0, 10)\n",
    "print(a_random_number)"
   ]
  },
  {
   "cell_type": "code",
   "execution_count": null,
   "metadata": {},
   "outputs": [],
   "source": []
  }
 ],
 "metadata": {
  "kernelspec": {
   "display_name": "Python 3",
   "language": "python",
   "name": "python3"
  },
  "language_info": {
   "codemirror_mode": {
    "name": "ipython",
    "version": 3
   },
   "file_extension": ".py",
   "mimetype": "text/x-python",
   "name": "python",
   "nbconvert_exporter": "python",
   "pygments_lexer": "ipython3",
   "version": "3.6.3"
  }
 },
 "nbformat": 4,
 "nbformat_minor": 2
}
