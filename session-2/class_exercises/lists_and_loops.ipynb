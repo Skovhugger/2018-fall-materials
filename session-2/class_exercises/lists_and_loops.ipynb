{
 "cells": [
  {
   "cell_type": "markdown",
   "metadata": {},
   "source": [
    "1. Cut the first two letters out of the following list:\n",
    "```python \n",
    "[2, 3, 9, 10]\n",
    "```\n",
    "2. Extract the fourth letter 'B' in the string\n",
    "```python\n",
    "'To Be or Not To Be'\n",
    "```\n",
    "3. Stop the loop after it has run 500'000 times:\n",
    "```python\n",
    "    for x in range(0, 1000000):\n",
    "        print(x)\n",
    "```\n",
    "4. Skip number 12 in this loop (don't print `'12'`) :\n",
    "```python\n",
    "    for x in [1, 2, 3, 4, 5, 6, 7, 8, 9, 10, 11, 12, 13, 14]:\n",
    "        print(x)\n",
    "```\n",
    "5. Reverse this list:\n",
    "```python\n",
    "[9, 2, 5, 1]\n",
    "```\n",
    "6. Remove the element 1 in the list above\n",
    "7. Is the number `70686` in the following range?\n",
    "```python\n",
    "range(0, 1323123, 2142)\n",
    "```\n",
    "8. What is the result of the following?\n",
    "```python\n",
    "counter = 2132 * 0 + 100\n",
    "counter += 4\n",
    "counter *= 2\n",
    "```\n",
    "9. What is the result of this?\n",
    "```python\n",
    "book_title = 'Fantastic Beasts and Where to Find them'\n",
    "book_title = book_title[:13] + book_title[14:]\n",
    "print(book_title)\n",
    "```"
   ]
  },
  {
   "cell_type": "code",
   "execution_count": null,
   "metadata": {},
   "outputs": [],
   "source": [
    "[2, 3, 9, 10][:2]"
   ]
  },
  {
   "cell_type": "code",
   "execution_count": null,
   "metadata": {},
   "outputs": [],
   "source": [
    "'To Be or Not To Be'[3]"
   ]
  },
  {
   "cell_type": "code",
   "execution_count": null,
   "metadata": {},
   "outputs": [],
   "source": [
    "for x in range(0, 500000):\n",
    "    print(x)"
   ]
  },
  {
   "cell_type": "code",
   "execution_count": null,
   "metadata": {},
   "outputs": [],
   "source": [
    "# A slightly more cumbersome way\n",
    "for x in range(0, 1000000):\n",
    "    if x == 500000:\n",
    "        # Keyword break stops a loop completely\n",
    "        # It is generally not considered good form to use break\n",
    "        break\n",
    "    else:\n",
    "        print(x)"
   ]
  },
  {
   "cell_type": "code",
   "execution_count": null,
   "metadata": {},
   "outputs": [],
   "source": [
    "for x in [1, 2, 3, 4, 5, 6, 7, 8, 9, 10, 11, 12, 13, 14]:\n",
    "    if x == 12:\n",
    "        # Keyword continue skips the rest of the loop but loop continues\n",
    "        continue\n",
    "    print(x)"
   ]
  },
  {
   "cell_type": "code",
   "execution_count": null,
   "metadata": {},
   "outputs": [],
   "source": [
    "# I know this is confusing, I'm sorry and it gets better\n",
    "numbers = [9, 2, 5, 1]\n",
    "reversed_list = []\n",
    "# range(start, stop, step) gets you a list of numbers that we can use as index\n",
    "# Try print(range()) with your own numbers in the range parenthesis in another cell\n",
    "for i in range(-1, -5, -1):\n",
    "    reversed_list.append(numbers[i])\n",
    "reversed_list"
   ]
  },
  {
   "cell_type": "code",
   "execution_count": null,
   "metadata": {},
   "outputs": [],
   "source": [
    "# This is very strange \n",
    "numbers = [9, 2, 5, 1]\n",
    "reversed_list = []\n",
    "for i in range(3, -1, -1):\n",
    "    reversed_list.append(numbers[i])\n",
    "reversed_list"
   ]
  },
  {
   "cell_type": "code",
   "execution_count": null,
   "metadata": {},
   "outputs": [],
   "source": [
    "numbers = [9, 2, 5, 1]\n",
    "list(reversed(numbers))\n",
    "# Try messing around with this code and see what's going on"
   ]
  },
  {
   "cell_type": "code",
   "execution_count": null,
   "metadata": {},
   "outputs": [],
   "source": [
    "numbers = [9, 2, 5, 1]\n",
    "numbers.remove(1)\n",
    "numbers"
   ]
  },
  {
   "cell_type": "code",
   "execution_count": null,
   "metadata": {},
   "outputs": [],
   "source": [
    "numbers = [9, 2, 5, 1]\n",
    "numbers.pop(-1)\n",
    "numbers"
   ]
  },
  {
   "cell_type": "code",
   "execution_count": null,
   "metadata": {},
   "outputs": [],
   "source": [
    "numbers = [9, 2, 5, 1]\n",
    "numbers.pop(3)\n",
    "numbers"
   ]
  },
  {
   "cell_type": "code",
   "execution_count": null,
   "metadata": {},
   "outputs": [],
   "source": [
    "numbers = [9, 2, 5, 1]\n",
    "numbers[:-1]"
   ]
  },
  {
   "cell_type": "code",
   "execution_count": null,
   "metadata": {},
   "outputs": [],
   "source": [
    "numbers = [9, 2, 5, 1]\n",
    "numbers[:3]"
   ]
  },
  {
   "cell_type": "code",
   "execution_count": null,
   "metadata": {},
   "outputs": [],
   "source": [
    "numbers = [9, 2, 5, 1]\n",
    "no_one_list = []\n",
    "for i in numbers:\n",
    "    if i == 1:\n",
    "        continue\n",
    "    no_one_list.append(i)\n",
    "no_one_list"
   ]
  },
  {
   "cell_type": "code",
   "execution_count": null,
   "metadata": {},
   "outputs": [],
   "source": [
    "for i in range(0, 1323123, 2142):\n",
    "    if i == 70686:\n",
    "        print(\"YAS BITCH YAAAAAAAAAAAS!\")\n",
    "        break"
   ]
  },
  {
   "cell_type": "code",
   "execution_count": null,
   "metadata": {},
   "outputs": [],
   "source": [
    "counter = 2132 * 0 + 100\n",
    "counter += 4\n",
    "counter *= 2\n",
    "counter"
   ]
  },
  {
   "cell_type": "code",
   "execution_count": null,
   "metadata": {},
   "outputs": [],
   "source": [
    "book_title = 'Fantastic Beasts and Where to Find them'\n",
    "book_title = book_title[:13] + book_title[14:]\n",
    "print(book_title)"
   ]
  },
  {
   "cell_type": "code",
   "execution_count": null,
   "metadata": {},
   "outputs": [],
   "source": [
    "# Now try adding a letter\n",
    "book_title = 'Fantastic Beasts and Where to Find them'\n",
    "book_title = \n",
    "print(book_title)\n",
    "# Very purile and I'm so sorry "
   ]
  },
  {
   "cell_type": "code",
   "execution_count": null,
   "metadata": {
    "collapsed": true
   },
   "outputs": [],
   "source": []
  }
 ],
 "metadata": {
  "kernelspec": {
   "display_name": "Python 3",
   "language": "python",
   "name": "python3"
  },
  "language_info": {
   "codemirror_mode": {
    "name": "ipython",
    "version": 3
   },
   "file_extension": ".py",
   "mimetype": "text/x-python",
   "name": "python",
   "nbconvert_exporter": "python",
   "pygments_lexer": "ipython3",
   "version": "3.6.3"
  }
 },
 "nbformat": 4,
 "nbformat_minor": 2
}
