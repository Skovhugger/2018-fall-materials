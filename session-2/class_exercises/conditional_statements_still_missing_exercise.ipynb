{
 "cells": [
  {
   "cell_type": "code",
   "execution_count": 9,
   "metadata": {},
   "outputs": [
    {
     "name": "stdout",
     "output_type": "stream",
     "text": [
      "Empty but still true\n",
      "True\n",
      "False\n"
     ]
    }
   ],
   "source": [
    "class Junk():\n",
    "    def __init__(self):\n",
    "        self.suck = []\n",
    "        \n",
    "jk = Junk()\n",
    "if jk:\n",
    "    print(\"Empty but still true\")\n",
    "print(bool(jk))\n",
    "    \n",
    "class Junk():\n",
    "    def __init__(self):\n",
    "        self.suck = []\n",
    "    def __bool__(self):\n",
    "        if self.suck == []:\n",
    "            return False\n",
    "        else:\n",
    "            return True\n",
    "        \n",
    "jk = Junk()\n",
    "if jk:\n",
    "    print(\"Empty but still true\")\n",
    "print(bool(jk))"
   ]
  },
  {
   "cell_type": "code",
   "execution_count": 11,
   "metadata": {},
   "outputs": [
    {
     "name": "stdout",
     "output_type": "stream",
     "text": [
      "False\n"
     ]
    }
   ],
   "source": [
    "print(bool(''))"
   ]
  },
  {
   "cell_type": "code",
   "execution_count": 5,
   "metadata": {},
   "outputs": [
    {
     "name": "stdout",
     "output_type": "stream",
     "text": [
      "Empty but still true\n"
     ]
    }
   ],
   "source": []
  },
  {
   "cell_type": "code",
   "execution_count": null,
   "metadata": {
    "collapsed": true
   },
   "outputs": [],
   "source": []
  }
 ],
 "metadata": {
  "kernelspec": {
   "display_name": "Python 3",
   "language": "python",
   "name": "python3"
  },
  "language_info": {
   "codemirror_mode": {
    "name": "ipython",
    "version": 3
   },
   "file_extension": ".py",
   "mimetype": "text/x-python",
   "name": "python",
   "nbconvert_exporter": "python",
   "pygments_lexer": "ipython3",
   "version": "3.6.3"
  }
 },
 "nbformat": 4,
 "nbformat_minor": 2
}
