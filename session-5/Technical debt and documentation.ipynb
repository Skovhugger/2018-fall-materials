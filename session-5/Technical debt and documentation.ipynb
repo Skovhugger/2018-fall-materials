{
 "cells": [
  {
   "cell_type": "markdown",
   "metadata": {
    "slideshow": {
     "slide_type": "slide"
    }
   },
   "source": [
    "## What does this function do?\n",
    "\n",
    "```python\n",
    "def o(f):\n",
    "    return f%2==0 if f > 0 else False\n",
    "```"
   ]
  },
  {
   "cell_type": "markdown",
   "metadata": {
    "slideshow": {
     "slide_type": "slide"
    }
   },
   "source": [
    "# Documentation and technical debt\n",
    "\n",
    "Code gets old. Even for the author. Yes, that's you.\n",
    "\n",
    "* Problem:\n",
    "  - You're a business that needs to develop software *fast*\n",
    "  - You have a single Python `.py` file with 2000 lines of code that looks like the above"
   ]
  },
  {
   "cell_type": "markdown",
   "metadata": {
    "slideshow": {
     "slide_type": "subslide"
    }
   },
   "source": [
    "![](images/debt.jpeg)"
   ]
  },
  {
   "cell_type": "markdown",
   "metadata": {
    "slideshow": {
     "slide_type": "fragment"
    }
   },
   "source": [
    "* Solution:\n",
    "  - You either close the business, or you make it cheaper to develop new code"
   ]
  },
  {
   "cell_type": "markdown",
   "metadata": {
    "slideshow": {
     "slide_type": "subslide"
    }
   },
   "source": [
    "## Solution part 1/3: Naming conventions\n",
    "\n",
    "* Give things reasonable names\n",
    "* Write clear code, even if it takes up more space"
   ]
  },
  {
   "cell_type": "markdown",
   "metadata": {
    "slideshow": {
     "slide_type": "subslide"
    }
   },
   "source": [
    "## What can be improved?\n",
    "\n",
    "Type this into Mu and press the `Check` button:\n",
    "```python\n",
    "def o(f):\n",
    "    return f%2==0 if f>0 else False\n",
    "```"
   ]
  },
  {
   "cell_type": "code",
   "execution_count": null,
   "metadata": {
    "slideshow": {
     "slide_type": "subslide"
    }
   },
   "outputs": [],
   "source": [
    "def o(f):\n",
    "    return f % 2 == 0 if f > 0 else False"
   ]
  },
  {
   "cell_type": "code",
   "execution_count": null,
   "metadata": {
    "slideshow": {
     "slide_type": "fragment"
    }
   },
   "outputs": [],
   "source": [
    "def is_even(f):\n",
    "    return f%2 == 0 if f > 0 else False"
   ]
  },
  {
   "cell_type": "code",
   "execution_count": 4,
   "metadata": {
    "slideshow": {
     "slide_type": "fragment"
    }
   },
   "outputs": [],
   "source": [
    "def is_even(number):\n",
    "    if number > 0:\n",
    "        return False\n",
    "    else: \n",
    "        return number % 2 == 0"
   ]
  },
  {
   "cell_type": "markdown",
   "metadata": {
    "slideshow": {
     "slide_type": "subslide"
    }
   },
   "source": [
    "## Solution 2/3: Write meta data (documentation)\n",
    "\n",
    "* Documentation helps to understand what the code does *without reading the code*\n",
    "* Familiar topics: pseudo-code"
   ]
  },
  {
   "cell_type": "markdown",
   "metadata": {
    "slideshow": {
     "slide_type": "subslide"
    }
   },
   "source": [
    "## Looking up documentation 1/2: Python documentation\n",
    "\n",
    "Search for: Python documentation\n",
    "\n",
    "Or go to `docs.python.org`"
   ]
  },
  {
   "cell_type": "markdown",
   "metadata": {
    "slideshow": {
     "slide_type": "subslide"
    }
   },
   "source": [
    "## Looking up documenation 2/2: `ipython`\n",
    "\n",
    "```bash\n",
    "$ ipython\n",
    "in [1]: str.find?\n",
    "```"
   ]
  },
  {
   "cell_type": "code",
   "execution_count": 5,
   "metadata": {
    "slideshow": {
     "slide_type": "subslide"
    }
   },
   "outputs": [],
   "source": [
    "str.find?"
   ]
  },
  {
   "cell_type": "code",
   "execution_count": null,
   "metadata": {
    "slideshow": {
     "slide_type": "subslide"
    }
   },
   "outputs": [],
   "source": [
    "is_even?"
   ]
  },
  {
   "cell_type": "markdown",
   "metadata": {
    "slideshow": {
     "slide_type": "subslide"
    }
   },
   "source": [
    "## Writing meta data\n",
    "\n",
    "* What is the purpose?\n",
    "* What is the input?\n",
    "* What is the output?"
   ]
  },
  {
   "cell_type": "markdown",
   "metadata": {
    "slideshow": {
     "slide_type": "subslide"
    }
   },
   "source": [
    "### Purpose: \n",
    "```python\n",
    "def is_even(number):\n",
    "    \"\"\"Examines whether a positive number is even. False if zero or negative\n",
    "    \"\"\"\n",
    "    if number > 0:\n",
    "        return False\n",
    "    else:\n",
    "        return number % 2 == 0\n",
    "\n",
    "```"
   ]
  },
  {
   "cell_type": "markdown",
   "metadata": {
    "slideshow": {
     "slide_type": "subslide"
    }
   },
   "source": [
    "### Input:\n",
    "\n",
    "```python\n",
    "def is_even(number):\n",
    "    \"\"\"Examines whether a positive number is even. False if negative\n",
    "    :param number: int\n",
    "        The number to examine\n",
    "    \"\"\"\n",
    "    if number > 0:\n",
    "        return False\n",
    "    else:\n",
    "        return number % 2 == 0\n",
    "```"
   ]
  },
  {
   "cell_type": "markdown",
   "metadata": {
    "slideshow": {
     "slide_type": "subslide"
    }
   },
   "source": [
    "### Output:"
   ]
  },
  {
   "cell_type": "code",
   "execution_count": 6,
   "metadata": {
    "slideshow": {
     "slide_type": "fragment"
    }
   },
   "outputs": [],
   "source": [
    "def is_even(number):\n",
    "    \"\"\"Examines whether a positive number is even. False if negative\n",
    "    :param number: int\n",
    "        The number to examine\n",
    "    :return: bool\n",
    "        True if the number is even and above 0, False otherwise\n",
    "    \"\"\"\n",
    "    if number > 0:\n",
    "        return False\n",
    "    else:\n",
    "        return number % 2 == 0"
   ]
  },
  {
   "cell_type": "code",
   "execution_count": 7,
   "metadata": {
    "slideshow": {
     "slide_type": "subslide"
    }
   },
   "outputs": [],
   "source": [
    "is_even?"
   ]
  },
  {
   "cell_type": "markdown",
   "metadata": {
    "slideshow": {
     "slide_type": "subslide"
    }
   },
   "source": [
    "## Your turn:\n",
    "\n",
    "Clean up and document this function:\n",
    "\n",
    "```python\n",
    "def p(b, z):\n",
    "    return b ** z\n",
    "```"
   ]
  },
  {
   "cell_type": "markdown",
   "metadata": {
    "slideshow": {
     "slide_type": "subslide"
    }
   },
   "source": [
    "## Summary\n",
    "\n",
    "* Naming conventions\n",
    "  - Call things what they are\n",
    "* Documentation\n",
    "  - Meta information on functions and classes"
   ]
  }
 ],
 "metadata": {
  "celltoolbar": "Slideshow",
  "kernelspec": {
   "display_name": "Python 3",
   "language": "python",
   "name": "python3"
  },
  "language_info": {
   "codemirror_mode": {
    "name": "ipython",
    "version": 3
   },
   "file_extension": ".py",
   "mimetype": "text/x-python",
   "name": "python",
   "nbconvert_exporter": "python",
   "pygments_lexer": "ipython3",
   "version": "3.6.3"
  }
 },
 "nbformat": 4,
 "nbformat_minor": 2
}
