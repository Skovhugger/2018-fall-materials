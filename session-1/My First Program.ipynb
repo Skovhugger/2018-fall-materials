{
 "cells": [
  {
   "cell_type": "markdown",
   "metadata": {
    "slideshow": {
     "slide_type": "slide"
    }
   },
   "source": [
    "# Hej ELIZA!\n",
    "\n",
    "Joseph Weizenbaum wrote the first chatbot, called _ELIZA_, from 1964 to 1966.\n",
    "![](https://c2.staticflickr.com/4/3044/2331085823_d6d4b97096.jpg)"
   ]
  },
  {
   "cell_type": "markdown",
   "metadata": {
    "slideshow": {
     "slide_type": "subslide"
    }
   },
   "source": [
    "  > ELIZA's creator, Weizenbaum regarded the program as a method to show the superficiality of communication between man and machine, but was surprised by the number of individuals who attributed human-like feelings to the computer program, including Weizenbaum’s secretary.\n",
    "  >\n",
    "  > https://en.wikipedia.org/wiki/ELIZA"
   ]
  },
  {
   "cell_type": "markdown",
   "metadata": {
    "slideshow": {
     "slide_type": "slide"
    }
   },
   "source": [
    "# My First Program\n",
    "\n",
    "As you learn speaking by continuously repeating what others say, and as you learn writing by continuously rewriting characters, words and sentences that are presented to you, you can also learn programming by typing, executing and modifying other people's programs.\n",
    "\n",
    "This is what we will do now.\n",
    "\n",
    "Type in the program that is handed out on paper in the empty code field in `Notebook.ipynb`. Copy exactly what is written on the paper. Note, that the intendation in the beginning of lines are created by pressing the tabulator (tab) key. On your keyboard this key looks something like: ⇥.\n",
    "\n",
    "After you are done typing in the program hit CTRL-Return or `▶ Run`.\n",
    "In the new code cell below write `talk_to_me()` and hit again CTRL-Return or `▶ Run`."
   ]
  },
  {
   "cell_type": "markdown",
   "metadata": {
    "slideshow": {
     "slide_type": "skip"
    }
   },
   "source": [
    "# The Hand-out\n",
    "\n",
    "Print the following program and distribute it in class.\n",
    "\n",
    "```python\n",
    "import re\n",
    "import random\n",
    "import eliza_language as lang\n",
    "\n",
    "\n",
    "def reflect(fragment):\n",
    "    tokens = fragment.lower().split()\n",
    "    for i, token in enumerate(tokens):\n",
    "        if token in lang.REFLECTIONS:\n",
    "            tokens[i] = lang.REFLECTIONS[token]\n",
    "    return ' '.join(tokens)\n",
    "\n",
    "\n",
    "def analyze(statement):\n",
    "    for pattern, responses in lang.PSYCHOBABBLE:\n",
    "        match = re.match(pattern, statement.rstrip(\".!\"))\n",
    "        if match:\n",
    "            response = random.choice(responses)\n",
    "            return response.format(*[reflect(g) for g in match.groups()])\n",
    "\n",
    "\n",
    "def talk_to_me():\n",
    "    print(\"Hello. How are you feeling today?\")\n",
    "\n",
    "    while True:\n",
    "        statement = input(\"> \")\n",
    "        print(analyze(statement))\n",
    "```"
   ]
  },
  {
   "cell_type": "code",
   "execution_count": 4,
   "metadata": {
    "slideshow": {
     "slide_type": "subslide"
    }
   },
   "outputs": [
    {
     "name": "stdout",
     "output_type": "stream",
     "text": [
      "Hello. How are you feeling today?\n",
      "> Good\n",
      "I see.  And what does that tell you?\n",
      "> Nothing?\n",
      "Please consider whether you can answer your own question.\n"
     ]
    },
    {
     "ename": "KeyboardInterrupt",
     "evalue": "",
     "output_type": "error",
     "traceback": [
      "\u001b[0;31m---------------------------------------------------------------------------\u001b[0m",
      "\u001b[0;31mKeyboardInterrupt\u001b[0m                         Traceback (most recent call last)",
      "\u001b[0;32m~/.virtualenvs/slides/lib/python3.6/site-packages/ipykernel/kernelbase.py\u001b[0m in \u001b[0;36m_input_request\u001b[0;34m(self, prompt, ident, parent, password)\u001b[0m\n\u001b[1;32m    728\u001b[0m             \u001b[0;32mtry\u001b[0m\u001b[0;34m:\u001b[0m\u001b[0;34m\u001b[0m\u001b[0m\n\u001b[0;32m--> 729\u001b[0;31m                 \u001b[0mident\u001b[0m\u001b[0;34m,\u001b[0m \u001b[0mreply\u001b[0m \u001b[0;34m=\u001b[0m \u001b[0mself\u001b[0m\u001b[0;34m.\u001b[0m\u001b[0msession\u001b[0m\u001b[0;34m.\u001b[0m\u001b[0mrecv\u001b[0m\u001b[0;34m(\u001b[0m\u001b[0mself\u001b[0m\u001b[0;34m.\u001b[0m\u001b[0mstdin_socket\u001b[0m\u001b[0;34m,\u001b[0m \u001b[0;36m0\u001b[0m\u001b[0;34m)\u001b[0m\u001b[0;34m\u001b[0m\u001b[0m\n\u001b[0m\u001b[1;32m    730\u001b[0m             \u001b[0;32mexcept\u001b[0m \u001b[0mException\u001b[0m\u001b[0;34m:\u001b[0m\u001b[0;34m\u001b[0m\u001b[0m\n",
      "\u001b[0;32m~/.virtualenvs/slides/lib/python3.6/site-packages/jupyter_client/session.py\u001b[0m in \u001b[0;36mrecv\u001b[0;34m(self, socket, mode, content, copy)\u001b[0m\n\u001b[1;32m    802\u001b[0m         \u001b[0;32mtry\u001b[0m\u001b[0;34m:\u001b[0m\u001b[0;34m\u001b[0m\u001b[0m\n\u001b[0;32m--> 803\u001b[0;31m             \u001b[0mmsg_list\u001b[0m \u001b[0;34m=\u001b[0m \u001b[0msocket\u001b[0m\u001b[0;34m.\u001b[0m\u001b[0mrecv_multipart\u001b[0m\u001b[0;34m(\u001b[0m\u001b[0mmode\u001b[0m\u001b[0;34m,\u001b[0m \u001b[0mcopy\u001b[0m\u001b[0;34m=\u001b[0m\u001b[0mcopy\u001b[0m\u001b[0;34m)\u001b[0m\u001b[0;34m\u001b[0m\u001b[0m\n\u001b[0m\u001b[1;32m    804\u001b[0m         \u001b[0;32mexcept\u001b[0m \u001b[0mzmq\u001b[0m\u001b[0;34m.\u001b[0m\u001b[0mZMQError\u001b[0m \u001b[0;32mas\u001b[0m \u001b[0me\u001b[0m\u001b[0;34m:\u001b[0m\u001b[0;34m\u001b[0m\u001b[0m\n",
      "\u001b[0;32m~/.virtualenvs/slides/lib/python3.6/site-packages/zmq/sugar/socket.py\u001b[0m in \u001b[0;36mrecv_multipart\u001b[0;34m(self, flags, copy, track)\u001b[0m\n\u001b[1;32m    465\u001b[0m         \"\"\"\n\u001b[0;32m--> 466\u001b[0;31m         \u001b[0mparts\u001b[0m \u001b[0;34m=\u001b[0m \u001b[0;34m[\u001b[0m\u001b[0mself\u001b[0m\u001b[0;34m.\u001b[0m\u001b[0mrecv\u001b[0m\u001b[0;34m(\u001b[0m\u001b[0mflags\u001b[0m\u001b[0;34m,\u001b[0m \u001b[0mcopy\u001b[0m\u001b[0;34m=\u001b[0m\u001b[0mcopy\u001b[0m\u001b[0;34m,\u001b[0m \u001b[0mtrack\u001b[0m\u001b[0;34m=\u001b[0m\u001b[0mtrack\u001b[0m\u001b[0;34m)\u001b[0m\u001b[0;34m]\u001b[0m\u001b[0;34m\u001b[0m\u001b[0m\n\u001b[0m\u001b[1;32m    467\u001b[0m         \u001b[0;31m# have first part already, only loop while more to receive\u001b[0m\u001b[0;34m\u001b[0m\u001b[0;34m\u001b[0m\u001b[0m\n",
      "\u001b[0;32mzmq/backend/cython/socket.pyx\u001b[0m in \u001b[0;36mzmq.backend.cython.socket.Socket.recv\u001b[0;34m()\u001b[0m\n",
      "\u001b[0;32mzmq/backend/cython/socket.pyx\u001b[0m in \u001b[0;36mzmq.backend.cython.socket.Socket.recv\u001b[0;34m()\u001b[0m\n",
      "\u001b[0;32mzmq/backend/cython/socket.pyx\u001b[0m in \u001b[0;36mzmq.backend.cython.socket._recv_copy\u001b[0;34m()\u001b[0m\n",
      "\u001b[0;32m~/.virtualenvs/slides/lib/python3.6/site-packages/zmq/backend/cython/checkrc.pxd\u001b[0m in \u001b[0;36mzmq.backend.cython.checkrc._check_rc\u001b[0;34m()\u001b[0m\n",
      "\u001b[0;31mKeyboardInterrupt\u001b[0m: ",
      "\nDuring handling of the above exception, another exception occurred:\n",
      "\u001b[0;31mKeyboardInterrupt\u001b[0m                         Traceback (most recent call last)",
      "\u001b[0;32m<ipython-input-4-bc2a16c7f2c0>\u001b[0m in \u001b[0;36m<module>\u001b[0;34m()\u001b[0m\n\u001b[1;32m     26\u001b[0m         \u001b[0mstatement\u001b[0m \u001b[0;34m=\u001b[0m \u001b[0minput\u001b[0m\u001b[0;34m(\u001b[0m\u001b[0;34m\"> \"\u001b[0m\u001b[0;34m)\u001b[0m\u001b[0;34m\u001b[0m\u001b[0m\n\u001b[1;32m     27\u001b[0m         \u001b[0mprint\u001b[0m\u001b[0;34m(\u001b[0m\u001b[0manalyze\u001b[0m\u001b[0;34m(\u001b[0m\u001b[0mstatement\u001b[0m\u001b[0;34m)\u001b[0m\u001b[0;34m)\u001b[0m\u001b[0;34m\u001b[0m\u001b[0m\n\u001b[0;32m---> 28\u001b[0;31m \u001b[0mtalk_to_me\u001b[0m\u001b[0;34m(\u001b[0m\u001b[0;34m)\u001b[0m\u001b[0;34m\u001b[0m\u001b[0m\n\u001b[0m",
      "\u001b[0;32m<ipython-input-4-bc2a16c7f2c0>\u001b[0m in \u001b[0;36mtalk_to_me\u001b[0;34m()\u001b[0m\n\u001b[1;32m     24\u001b[0m \u001b[0;34m\u001b[0m\u001b[0m\n\u001b[1;32m     25\u001b[0m     \u001b[0;32mwhile\u001b[0m \u001b[0;32mTrue\u001b[0m\u001b[0;34m:\u001b[0m\u001b[0;34m\u001b[0m\u001b[0m\n\u001b[0;32m---> 26\u001b[0;31m         \u001b[0mstatement\u001b[0m \u001b[0;34m=\u001b[0m \u001b[0minput\u001b[0m\u001b[0;34m(\u001b[0m\u001b[0;34m\"> \"\u001b[0m\u001b[0;34m)\u001b[0m\u001b[0;34m\u001b[0m\u001b[0m\n\u001b[0m\u001b[1;32m     27\u001b[0m         \u001b[0mprint\u001b[0m\u001b[0;34m(\u001b[0m\u001b[0manalyze\u001b[0m\u001b[0;34m(\u001b[0m\u001b[0mstatement\u001b[0m\u001b[0;34m)\u001b[0m\u001b[0;34m)\u001b[0m\u001b[0;34m\u001b[0m\u001b[0m\n\u001b[1;32m     28\u001b[0m \u001b[0mtalk_to_me\u001b[0m\u001b[0;34m(\u001b[0m\u001b[0;34m)\u001b[0m\u001b[0;34m\u001b[0m\u001b[0m\n",
      "\u001b[0;32m~/.virtualenvs/slides/lib/python3.6/site-packages/ipykernel/kernelbase.py\u001b[0m in \u001b[0;36mraw_input\u001b[0;34m(self, prompt)\u001b[0m\n\u001b[1;32m    702\u001b[0m             \u001b[0mself\u001b[0m\u001b[0;34m.\u001b[0m\u001b[0m_parent_ident\u001b[0m\u001b[0;34m,\u001b[0m\u001b[0;34m\u001b[0m\u001b[0m\n\u001b[1;32m    703\u001b[0m             \u001b[0mself\u001b[0m\u001b[0;34m.\u001b[0m\u001b[0m_parent_header\u001b[0m\u001b[0;34m,\u001b[0m\u001b[0;34m\u001b[0m\u001b[0m\n\u001b[0;32m--> 704\u001b[0;31m             \u001b[0mpassword\u001b[0m\u001b[0;34m=\u001b[0m\u001b[0;32mFalse\u001b[0m\u001b[0;34m,\u001b[0m\u001b[0;34m\u001b[0m\u001b[0m\n\u001b[0m\u001b[1;32m    705\u001b[0m         )\n\u001b[1;32m    706\u001b[0m \u001b[0;34m\u001b[0m\u001b[0m\n",
      "\u001b[0;32m~/.virtualenvs/slides/lib/python3.6/site-packages/ipykernel/kernelbase.py\u001b[0m in \u001b[0;36m_input_request\u001b[0;34m(self, prompt, ident, parent, password)\u001b[0m\n\u001b[1;32m    732\u001b[0m             \u001b[0;32mexcept\u001b[0m \u001b[0mKeyboardInterrupt\u001b[0m\u001b[0;34m:\u001b[0m\u001b[0;34m\u001b[0m\u001b[0m\n\u001b[1;32m    733\u001b[0m                 \u001b[0;31m# re-raise KeyboardInterrupt, to truncate traceback\u001b[0m\u001b[0;34m\u001b[0m\u001b[0;34m\u001b[0m\u001b[0m\n\u001b[0;32m--> 734\u001b[0;31m                 \u001b[0;32mraise\u001b[0m \u001b[0mKeyboardInterrupt\u001b[0m\u001b[0;34m\u001b[0m\u001b[0m\n\u001b[0m\u001b[1;32m    735\u001b[0m             \u001b[0;32melse\u001b[0m\u001b[0;34m:\u001b[0m\u001b[0;34m\u001b[0m\u001b[0m\n\u001b[1;32m    736\u001b[0m                 \u001b[0;32mbreak\u001b[0m\u001b[0;34m\u001b[0m\u001b[0m\n",
      "\u001b[0;31mKeyboardInterrupt\u001b[0m: "
     ]
    }
   ],
   "source": [
    "import re\n",
    "import random\n",
    "import eliza_language as lang\n",
    "\n",
    "\n",
    "def reflect(fragment):\n",
    "    tokens = fragment.lower().split()\n",
    "    for i, token in enumerate(tokens):\n",
    "        if token in lang.REFLECTIONS:\n",
    "            tokens[i] = lang.REFLECTIONS[token]\n",
    "    return ' '.join(tokens)\n",
    "\n",
    "\n",
    "def analyze(statement):\n",
    "    for pattern, responses in lang.PSYCHOBABBLE:\n",
    "        match = re.match(pattern, statement.rstrip(\".!\"))\n",
    "        if match:\n",
    "            response = random.choice(responses)\n",
    "            return response.format(*[reflect(g) for g in match.groups()])\n",
    "\n",
    "\n",
    "def talk_to_me():\n",
    "    print(\"Hello. How are you feeling today?\")\n",
    "\n",
    "    while True:\n",
    "        statement = input(\"> \")\n",
    "        print(analyze(statement))\n",
    "talk_to_me()"
   ]
  },
  {
   "cell_type": "code",
   "execution_count": null,
   "metadata": {
    "slideshow": {
     "slide_type": "subslide"
    }
   },
   "outputs": [],
   "source": [
    "talk_to_me()"
   ]
  },
  {
   "cell_type": "markdown",
   "metadata": {
    "slideshow": {
     "slide_type": "subslide"
    }
   },
   "source": [
    "## Installing Mu\n",
    "\n",
    "What you used before was an online Python editor. In this seminar we will install an editor on your own computer.\n",
    "\n",
    "That editor is called Mu. "
   ]
  },
  {
   "cell_type": "markdown",
   "metadata": {
    "slideshow": {
     "slide_type": "subslide"
    }
   },
   "source": [
    "Either see below your Eliza program for a guide to installing Mu, or go to `codewith.mu` to download and install Mu.\n",
    "\n",
    "When you're done installing Mu, open it and wait for instructions."
   ]
  },
  {
   "cell_type": "markdown",
   "metadata": {
    "slideshow": {
     "slide_type": "subslide"
    }
   },
   "source": [
    "## How to use Mu\n",
    "\n",
    "* When using Mu, you see a blank field. That is the content of your current **file**. We'll explain what a file is later.\n",
    "* Before you can code with Mu, you need to **save** that file. Press the **Save** icon and save the file with an appropriate name like `test.py`. \n",
    "  * `.py` means that this is a Python file\n",
    "* Now you are ready to code with Mu!"
   ]
  },
  {
   "cell_type": "markdown",
   "metadata": {
    "slideshow": {
     "slide_type": "subslide"
    }
   },
   "source": [
    "## Mu is very friendly\n",
    "\n",
    "If you go to `codewith.mu` you'll find some great tutorials on how to use it.\n",
    "\n",
    "If you're ever in doubt about how it works, go check out their website."
   ]
  },
  {
   "cell_type": "markdown",
   "metadata": {
    "slideshow": {
     "slide_type": "subslide"
    }
   },
   "source": [
    "-------------------------\n",
    "\n",
    "# What is a computer program?\n",
    "\n",
    "The Oxford Dictionary of English says:\n",
    "\n",
    "  > A computer program is a collection of instructions that performs a specific task when executed by a computer. A computer requires programs to function.\n",
    "  > https://en.wikipedia.org/wiki/Computer_program\n",
    "\n",
    "\n"
   ]
  },
  {
   "cell_type": "markdown",
   "metadata": {
    "slideshow": {
     "slide_type": "subslide"
    }
   },
   "source": [
    "\n",
    "    \n",
    "According to the BBC:    \n",
    "    \n",
    "  > All modern computers function on the same general model of input, process and output.\n",
    "  > https://www.bbc.co.uk/education/guides/z46s4wx/revision/2\n",
    "  \n",
    "Here the processing step is what a program is doing."
   ]
  },
  {
   "cell_type": "markdown",
   "metadata": {
    "slideshow": {
     "slide_type": "subslide"
    }
   },
   "source": [
    "# What is a computer?\n",
    "\n",
    "\n",
    "The [Oxford Dictionary of English](https://en.oxforddictionaries.com/definition/computer) says:\n",
    "  > An electronic device for storing and processing data, typically in binary form, according to instructions given to it in a variable program."
   ]
  },
  {
   "cell_type": "markdown",
   "metadata": {
    "slideshow": {
     "slide_type": "subslide"
    }
   },
   "source": [
    "The [Internet Archive](https://archive.org/details/ComputerAndTheMindOfManP3TheUniversalMachine) says:\n",
    " > A computer is a universal machine in that it is capable of doing whatever man is capable of instructing it to do."
   ]
  },
  {
   "cell_type": "markdown",
   "metadata": {
    "slideshow": {
     "slide_type": "subslide"
    }
   },
   "source": [
    "[Interactive Python](http://interactivepython.org/runestone/static/StudentCSP/CSPTuring/whatIsComputer.html) says:\n",
    "  > A computer is a device that can perform actions on input (which is also called data). The actions are specified by a program, which is a sequence of instructions."
   ]
  },
  {
   "cell_type": "markdown",
   "metadata": {
    "slideshow": {
     "slide_type": "subslide"
    }
   },
   "source": [
    "# Data Input\n",
    "\n",
    "In Python you can get input from the user via the keyboard with the help if the `input` statement.\n",
    "\n",
    "```python\n",
    "input('Give me some data: ')\n",
    "```\n",
    "\n",
    "Write the code from above into the cell below. Once you are done, execute the code by hitting F5 or by clicking `▶ Run` inside Mu."
   ]
  },
  {
   "cell_type": "markdown",
   "metadata": {
    "slideshow": {
     "slide_type": "subslide"
    }
   },
   "source": [
    "## Wait, what just happened?!\n",
    "\n",
    "Two things happened: \n",
    "1. A window appeared called `Running ...` with a the text `Give me some data: ` and a blinking cursor!\n",
    "2. The `▶ Run` button became a **`x`**` Stop` button!"
   ]
  },
  {
   "cell_type": "markdown",
   "metadata": {
    "slideshow": {
     "slide_type": "fragment"
    }
   },
   "source": [
    "Now type in some text in the field below and press `Enter`. When you do that `>>>` appears. This means that your application terminated (finished). Press F5 again or the **`x`**` Stop` button to close the window again."
   ]
  },
  {
   "cell_type": "markdown",
   "metadata": {
    "slideshow": {
     "slide_type": "subslide"
    }
   },
   "source": [
    "Try to change the text a bit (for instance `Give me MORE data: `) and run the thing again! \n",
    "\n",
    "Did it do what you expected it to do?"
   ]
  },
  {
   "cell_type": "markdown",
   "metadata": {
    "slideshow": {
     "slide_type": "subslide"
    }
   },
   "source": [
    "# Data Output\n",
    "\n",
    "\n",
    "In Python you can display information to the user with a `print` statement.\n",
    "\n",
    "```python\n",
    "print('Hey, wait! I have to tell you something important.')\n",
    "```\n",
    "\n",
    "Delete your previous code and replace it with the code above. Then execute the code by hitting F5 or by clicking `▶ Run`."
   ]
  },
  {
   "cell_type": "markdown",
   "metadata": {
    "slideshow": {
     "slide_type": "subslide"
    }
   },
   "source": [
    "## Mu can help you!\n",
    "\n",
    "Notice that when you write `print(` something happens. This is called documentation. Focus on the first couple of words for now.\n",
    "\n",
    "![](images/mu-help.png)"
   ]
  },
  {
   "cell_type": "markdown",
   "metadata": {
    "slideshow": {
     "slide_type": "subslide"
    }
   },
   "source": [
    "## A program\n",
    "\n",
    "\n",
    "```\n",
    "                +---------+\n",
    "User input  ->  | Program |  ->  Program output\n",
    "                +---------+\n",
    "\n",
    "```"
   ]
  },
  {
   "cell_type": "markdown",
   "metadata": {
    "slideshow": {
     "slide_type": "subslide"
    }
   },
   "source": [
    "## A program\n",
    "\n",
    "\n",
    "```\n",
    "                +---------+\n",
    "User input  ->  | Program |  ->  Program output\n",
    "                +---------+        (typically screen)\n",
    "\n",
    "```"
   ]
  },
  {
   "cell_type": "markdown",
   "metadata": {
    "slideshow": {
     "slide_type": "subslide"
    }
   },
   "source": [
    "## A program\n",
    "\n",
    "\n",
    "```\n",
    "                +------------+\n",
    "User input  ->  | Processing |  ->  Program output\n",
    "                +------------+        (typically screen)\n",
    "\n",
    "```"
   ]
  },
  {
   "cell_type": "markdown",
   "metadata": {
    "slideshow": {
     "slide_type": "subslide"
    }
   },
   "source": [
    "# Data Processing\n",
    "\n",
    "## Remembering\n",
    "\n",
    "We are now entering the processing part. The first important step in a program is to remember stuff, otherwise we cannot do any kind of processing.\n",
    "\n",
    "Think about your `input('Give me some data: ')`. The second you pressed enter, that data disappeared. Gone.\n",
    "\n",
    "Before we can do any processing, we have to save it somewhere. Like putting stuff on a shelf.\n"
   ]
  },
  {
   "cell_type": "markdown",
   "metadata": {
    "slideshow": {
     "slide_type": "subslide"
    }
   },
   "source": [
    "## Saving into a placeholder\n",
    "\n",
    "We need a place to store things. Safely.\n",
    "\n",
    "That placeholder is called a variable. \n",
    "\n",
    "![](images/vault.gif)"
   ]
  },
  {
   "cell_type": "markdown",
   "metadata": {
    "slideshow": {
     "slide_type": "subslide"
    }
   },
   "source": [
    "## Saving with `=`\n",
    "\n",
    "Our vaults have names to describe what they contain. So a vault called `number` probably contains a number.\n",
    "While a vault called `first_name` probably contains someones first name.\n",
    "\n",
    "This piece of python code:\n",
    "```python\n",
    "first_name = input('Give me a first name')\n",
    "```\n",
    "Is the same as saying:\n",
    "1. Build me a vault and call it `first_name`\n",
    "2. Take the input and store it safely inside the vault"
   ]
  },
  {
   "cell_type": "markdown",
   "metadata": {
    "slideshow": {
     "slide_type": "subslide"
    }
   },
   "source": [
    "Now that we can store things, we can combine input and output. This is your very first program!\n",
    "\n",
    "```python\n",
    "data = input('Give me some data: ')\n",
    "print(data)\n",
    "```\n",
    "\n",
    "Type this into Mu. When you're done, verbally explain what is happening step by step with your neighbour."
   ]
  },
  {
   "cell_type": "markdown",
   "metadata": {
    "slideshow": {
     "slide_type": "slide"
    }
   },
   "source": [
    "# Data types\n",
    "\n",
    "Python has different *types* of data. Two examples are numbers and text. \n",
    "\n",
    "* This is a piece of text: `'Give me some data: '`\n",
    "* This is a number: `10`"
   ]
  },
  {
   "cell_type": "markdown",
   "metadata": {
    "slideshow": {
     "slide_type": "fragment"
    }
   },
   "source": [
    "In Python numbers are called _integers_. _Integers_ are whole numbers like `1`, `8`, `-15`."
   ]
  },
  {
   "cell_type": "markdown",
   "metadata": {
    "slideshow": {
     "slide_type": "fragment"
    }
   },
   "source": [
    "In Python text is called _strings_. _Strings_ in Python are surrounded with a single quote like so: `'I am text'`  \n",
    "\n",
    "Note: Python also accepts quotation marks to indicate a string: `\"I am text\"`. But we will attempt to stick to the single quotes. "
   ]
  },
  {
   "cell_type": "markdown",
   "metadata": {
    "slideshow": {
     "slide_type": "fragment"
    }
   },
   "source": [
    "Delete all your code in Mu and write an integer. Just an integer. Then try to delete the number and write a string instead. Remember that you can execute your code by hitting F5 or by clicking `▶ Run`"
   ]
  },
  {
   "cell_type": "markdown",
   "metadata": {
    "slideshow": {
     "slide_type": "subslide"
    }
   },
   "source": [
    "Why is nothing showing?"
   ]
  },
  {
   "cell_type": "markdown",
   "metadata": {
    "slideshow": {
     "slide_type": "fragment"
    }
   },
   "source": [
    "Well, you're not outputting anything. Do you remember how to output something in Python?"
   ]
  },
  {
   "cell_type": "markdown",
   "metadata": {
    "slideshow": {
     "slide_type": "subslide"
    }
   },
   "source": [
    "# Doing stuff with numbers and text\n",
    "\n",
    "There is a reason for distinguishing between numbers and text. In Mu try to multiply the integer 4 with 17. \n",
    "A multiplication in Python is written with the asterix character (`*`). Multiplying 1 with 2 is written `1 * 2`."
   ]
  },
  {
   "cell_type": "markdown",
   "metadata": {
    "slideshow": {
     "slide_type": "subslide"
    }
   },
   "source": [
    "You probably expected that. But what happens if you multiply the string `'ring '` with 7 (don't forget the trailing space)? Try it out below."
   ]
  },
  {
   "cell_type": "markdown",
   "metadata": {
    "slideshow": {
     "slide_type": "fragment"
    }
   },
   "source": [
    "... Banana phone! Can you guess what happens when you execute the code below?"
   ]
  },
  {
   "cell_type": "code",
   "execution_count": 10,
   "metadata": {
    "slideshow": {
     "slide_type": "fragment"
    }
   },
   "outputs": [
    {
     "data": {
      "text/plain": [
       "'NaNaNaNaNaNaNaNaNaNaNaNaNaNaNaNa Batman!'"
      ]
     },
     "execution_count": 10,
     "metadata": {},
     "output_type": "execute_result"
    }
   ],
   "source": [
    "('Na' * 16) + ' Batman!'"
   ]
  },
  {
   "cell_type": "markdown",
   "metadata": {
    "slideshow": {
     "slide_type": "subslide"
    }
   },
   "source": [
    "## Oh oh, he just ran code on the screen!\n",
    "\n",
    "Yes, yes I did. And that's completely fine. This is also Python. The same kind of Python that you write in Mu. \n",
    "\n",
    "The difference is that it automatically prints the code.\n",
    "\n",
    "Actually this is the same technology you used to talk to Eliza. More on that in the later parts of the seminar."
   ]
  },
  {
   "cell_type": "markdown",
   "metadata": {
    "slideshow": {
     "slide_type": "subslide"
    }
   },
   "source": [
    "## More about variables\n",
    "\n",
    "Before when you used `input(...)` to get some data from the user, you stored that data in a **variable**. A variable is simply a placeholder for information. Variables have names such as `data` or `my_variable` so we can find them again. Here is a simple example on how to create a variable:\n",
    "\n",
    "    my_variable = 3"
   ]
  },
  {
   "cell_type": "markdown",
   "metadata": {
    "slideshow": {
     "slide_type": "subslide"
    }
   },
   "source": [
    "Your turn. Look at Menti."
   ]
  },
  {
   "cell_type": "markdown",
   "metadata": {
    "slideshow": {
     "slide_type": "subslide"
    }
   },
   "source": [
    "Can you store the value `'D' + 'K'` in the variable called `text`?"
   ]
  },
  {
   "cell_type": "code",
   "execution_count": null,
   "metadata": {
    "collapsed": true,
    "slideshow": {
     "slide_type": "fragment"
    }
   },
   "outputs": [],
   "source": []
  },
  {
   "cell_type": "markdown",
   "metadata": {
    "slideshow": {
     "slide_type": "subslide"
    }
   },
   "source": [
    "Can you guess what the variable contains? Try to print the content of the variable and see if it matches your expectation."
   ]
  },
  {
   "cell_type": "code",
   "execution_count": null,
   "metadata": {
    "collapsed": true,
    "slideshow": {
     "slide_type": "fragment"
    }
   },
   "outputs": [],
   "source": []
  },
  {
   "cell_type": "markdown",
   "metadata": {
    "slideshow": {
     "slide_type": "subslide"
    }
   },
   "source": [
    "Variables are great because they help us remember things. Your variable `text` now exists until you either:\n",
    "* kill the application that contains the variable (Mu) or\n",
    "* overwrite the variable\n",
    "\n",
    "We don't want to close the notebook just yet (although we encourage you to try and see what happens), so let's try to overwrite your variable. Store `'Hello'` in the variable `text` and print the content:"
   ]
  },
  {
   "cell_type": "code",
   "execution_count": null,
   "metadata": {
    "collapsed": true,
    "slideshow": {
     "slide_type": "fragment"
    }
   },
   "outputs": [],
   "source": []
  },
  {
   "cell_type": "markdown",
   "metadata": {
    "slideshow": {
     "slide_type": "subslide"
    }
   },
   "source": [
    "This form of overwriting *completely removes* the previous value of `text`. We cannot acces the previous data (`'DK'`).\n",
    "You can think of variables as placeholders: now `text` is equivalent to `'Hello'`, so every time we need the \n",
    "string `'Hello'` we can simply write `text`. \n",
    "\n",
    "This is pretty daft of course because `'Hello'` is not that much more difficult to write than `text`. But you can save much more data in a variable, and then this form of substitution becomes very handy."
   ]
  },
  {
   "cell_type": "markdown",
   "metadata": {
    "slideshow": {
     "slide_type": "subslide"
    }
   },
   "source": [
    "## Code is executed stepwise\n",
    "\n",
    "Code follows a strict logic. It executes code line-wise **one line at the time**! No exceptions."
   ]
  },
  {
   "cell_type": "markdown",
   "metadata": {
    "slideshow": {
     "slide_type": "subslide"
    }
   },
   "source": [
    "What is the result of this?"
   ]
  },
  {
   "cell_type": "code",
   "execution_count": 11,
   "metadata": {
    "slideshow": {
     "slide_type": "subslide"
    }
   },
   "outputs": [
    {
     "name": "stdout",
     "output_type": "stream",
     "text": [
      "World\n"
     ]
    }
   ],
   "source": [
    "text = 'Hello'\n",
    "text = 'World'\n",
    "print(text)"
   ]
  },
  {
   "cell_type": "code",
   "execution_count": 12,
   "metadata": {
    "slideshow": {
     "slide_type": "subslide"
    }
   },
   "outputs": [
    {
     "name": "stdout",
     "output_type": "stream",
     "text": [
      "11\n"
     ]
    }
   ],
   "source": [
    "number = 10\n",
    "number =   + 1\n",
    "print(number)"
   ]
  },
  {
   "cell_type": "markdown",
   "metadata": {
    "slideshow": {
     "slide_type": "subslide"
    }
   },
   "source": [
    "## Converting Input\n",
    "\n",
    "A Python program treats all input that it receives from the keyboard as a string. That is, as a sequence of textual characters. Even when you enter numbers, such as `1`, `2`, `3`, etc.\n",
    "\n",
    "If you wanted to input numbers and treat them as numbers and not as strings, you have to tell your program to convert the data type of your input into an integer (`int`).\n",
    "\n",
    "```python\n",
    "data = 10\n",
    "number = int(data)\n",
    "print(number)\n",
    "```"
   ]
  },
  {
   "cell_type": "markdown",
   "metadata": {
    "slideshow": {
     "slide_type": "subslide"
    }
   },
   "source": [
    "Type in this program and explain to your neighbour what it does:\n",
    "\n",
    "```python\n",
    "data = input('Give me a positive number: ')\n",
    "print('I say \"Hello\" multiple times: ' + data)\n",
    "data = int(data)\n",
    "print(data * 'Hello')\n",
    "```"
   ]
  },
  {
   "cell_type": "markdown",
   "metadata": {
    "slideshow": {
     "slide_type": "subslide"
    }
   },
   "source": [
    "Describe the difference between the two programs: \n",
    "\n",
    "```python\n",
    "data = input('Give me a positive number: ')\n",
    "print('I say \"Hello\" multiple times: ' + data)\n",
    "data = int(data)\n",
    "print(data * 'Hello')\n",
    "```\n",
    "\n",
    "---\n",
    "\n",
    "```python\n",
    "data = input('Give me a positive number: ')\n",
    "print('I say \"Hello\" multiple times: ' + data)\n",
    "print(int(data) * 'Hello')\n",
    "```"
   ]
  },
  {
   "cell_type": "code",
   "execution_count": null,
   "metadata": {
    "collapsed": true,
    "slideshow": {
     "slide_type": "fragment"
    }
   },
   "outputs": [],
   "source": []
  },
  {
   "cell_type": "markdown",
   "metadata": {
    "slideshow": {
     "slide_type": "subslide"
    }
   },
   "source": [
    "Sometimes Python gets confused about the type of your data. We saw that you could multiply a `string` with an `integer`. But what about `adding` (`+`) a string with an `integer`? Try to execute the following:"
   ]
  },
  {
   "cell_type": "code",
   "execution_count": 16,
   "metadata": {
    "slideshow": {
     "slide_type": "fragment"
    }
   },
   "outputs": [
    {
     "ename": "TypeError",
     "evalue": "must be str, not int",
     "output_type": "error",
     "traceback": [
      "\u001b[0;31m---------------------------------------------------------------------------\u001b[0m",
      "\u001b[0;31mTypeError\u001b[0m                                 Traceback (most recent call last)",
      "\u001b[0;32m<ipython-input-16-d83c75588f21>\u001b[0m in \u001b[0;36m<module>\u001b[0;34m()\u001b[0m\n\u001b[0;32m----> 1\u001b[0;31m \u001b[0;34m'Space'\u001b[0m \u001b[0;34m+\u001b[0m \u001b[0;36m10\u001b[0m\u001b[0;34m\u001b[0m\u001b[0m\n\u001b[0m",
      "\u001b[0;31mTypeError\u001b[0m: must be str, not int"
     ]
    }
   ],
   "source": [
    "'Space' + 10"
   ]
  },
  {
   "cell_type": "markdown",
   "metadata": {
    "slideshow": {
     "slide_type": "subslide"
    }
   },
   "source": [
    "What you just saw was an `Error`. You will see a lot of these in your programming career. But don't worry, it helps us to understand the root of the problem.\n",
    "\n",
    "`TypeError: must be str, not int`\n",
    "\n",
    "In other words Python gets confused about the *types* of your data. Python sees an `int` (`10`), but is expecting a `str` (`string`). Luckily we can fix this. Just like we could take a `string` and turn it into an `int` (using `int`), we can also take an `integer` and turn it into a `str` (`string`). Can you guess how and fix the code below?"
   ]
  },
  {
   "cell_type": "code",
   "execution_count": null,
   "metadata": {
    "slideshow": {
     "slide_type": "fragment"
    }
   },
   "outputs": [],
   "source": [
    "'Space' + 10"
   ]
  },
  {
   "cell_type": "markdown",
   "metadata": {
    "slideshow": {
     "slide_type": "subslide"
    }
   },
   "source": [
    "## Operations\n",
    " \n",
    "So far you have worked with `+`, `*` to manipulate your data. These are called `operators` because they `operate` on your data."
   ]
  },
  {
   "cell_type": "markdown",
   "metadata": {
    "slideshow": {
     "slide_type": "subslide"
    }
   },
   "source": [
    "The following piece of code uses the operator `*`. But it returns an empty string (`''`). Can you figure out why? And can you make it return `'Hello'`?"
   ]
  },
  {
   "cell_type": "code",
   "execution_count": null,
   "metadata": {
    "slideshow": {
     "slide_type": "fragment"
    }
   },
   "outputs": [],
   "source": [
    "'Hello' * 0"
   ]
  },
  {
   "cell_type": "markdown",
   "metadata": {
    "slideshow": {
     "slide_type": "subslide"
    }
   },
   "source": [
    "Which of these are operators and which are data?\n",
    "\n",
    "* ``+``\n",
    "* ``8``\n",
    "* ``'Yolo'``\n",
    "* ``*``\n",
    "* ``'C4rp3 Di3m'``\n",
    "* ``/``\n",
    "* ``'*'``"
   ]
  },
  {
   "cell_type": "markdown",
   "metadata": {
    "slideshow": {
     "slide_type": "subslide"
    }
   },
   "source": [
    "Before you saw an example where you added `strings` and `integers`. Let's try to expand that. Can you make the below code return '7ate9'?"
   ]
  },
  {
   "cell_type": "code",
   "execution_count": null,
   "metadata": {
    "slideshow": {
     "slide_type": "fragment"
    }
   },
   "outputs": [],
   "source": [
    "7 + 8 + 9"
   ]
  },
  {
   "cell_type": "markdown",
   "metadata": {
    "slideshow": {
     "slide_type": "subslide"
    }
   },
   "source": [
    "# A cookie dough program\n",
    "\n",
    "Now that we have learned about getting input (with `input`), printing text (strings), data types (`str` and `int`) and operators (`+`, `*` and `/`), we'll put it all together. \n",
    "\n",
    "Here is the requirement for your program:\n",
    "Your program will identify how much the user likes cookie dough. The user can give a number between 1 and 10 to indicate just how much he/she likes it. If the user types 1, you should print `'I really like cookie dough'`. If the user types 3, you should print `'I really really really like cookie dough'`. If the user types 10, we have a serious cookie dough lover, so you should print `'really'` 10 times. \n",
    "\n",
    "You can assume that the user will never enter a number outside the range of 1-10."
   ]
  },
  {
   "cell_type": "code",
   "execution_count": null,
   "metadata": {
    "collapsed": true,
    "slideshow": {
     "slide_type": "fragment"
    }
   },
   "outputs": [],
   "source": []
  },
  {
   "cell_type": "markdown",
   "metadata": {
    "slideshow": {
     "slide_type": "fragment"
    }
   },
   "source": [
    "Hint: Developing applications is hard. The best approach is to break the problem down into steps. What is the first thing you need for your program?"
   ]
  },
  {
   "cell_type": "markdown",
   "metadata": {
    "slideshow": {
     "slide_type": "subslide"
    }
   },
   "source": [
    "\n",
    "Hint: The first thing you need is input. Look above: do you remember how to get some input from the user? Now you can proceed: what type is the input you just received? And what type do you actually need?"
   ]
  },
  {
   "cell_type": "markdown",
   "metadata": {
    "slideshow": {
     "slide_type": "subslide"
    }
   },
   "source": [
    "Hint: Now that you have a number from the user (between 1 and 10) the second step is to use that number. For what do you have to use the number?"
   ]
  },
  {
   "cell_type": "markdown",
   "metadata": {
    "slideshow": {
     "slide_type": "subslide"
    }
   },
   "source": [
    "Hint: The number determines how many times the string `'really'` should be printed. Do you remember what operator can print a string multiple times?"
   ]
  },
  {
   "cell_type": "markdown",
   "metadata": {
    "slideshow": {
     "slide_type": "slide"
    }
   },
   "source": [
    "# Congratulations!\n",
    "\n",
    "You have now written your first program. And it's actually a pretty useful program. Think about it; you have \n",
    "1. received input from a user\n",
    "2. processed that into the number you needed\n",
    "3. used that number to produce some output\n",
    "4. ..that you printed back to the user\n",
    "\n",
    "Good job! Next you'll write a more sophisticated program that can talk back to you! Then we will look at exactly why you are writing code like this and why it's so useful."
   ]
  },
  {
   "cell_type": "markdown",
   "metadata": {
    "slideshow": {
     "slide_type": "slide"
    }
   },
   "source": [
    "## References\n",
    "\n",
    "The original paper describing ELIZA is: \n",
    "\n",
    "  * Joseph Weizenbaum, [ELIZA - A Computer Program For the Study of Natural Language Communication Between Man And Machine](http://www.cse.buffalo.edu/~rapaport/572/S02/weizenbaum.eliza.1966.pdf) _Communications of the ACM, Vol 9, No 1, January 1966_\n",
    "  \n",
    "The code in this session is based on the following\n",
    "  \n",
    "  * code: https://github.com/jezhiggins/eliza.py and\n",
    "  * blog post: https://www.jezuk.co.uk/blog/2017/08/eliza-in-python.html"
   ]
  }
 ],
 "metadata": {
  "celltoolbar": "Slideshow",
  "kernelspec": {
   "display_name": "Python 3",
   "language": "python",
   "name": "python3"
  },
  "language_info": {
   "codemirror_mode": {
    "name": "ipython",
    "version": 3
   },
   "file_extension": ".py",
   "mimetype": "text/x-python",
   "name": "python",
   "nbconvert_exporter": "python",
   "pygments_lexer": "ipython3",
   "version": "3.6.3"
  }
 },
 "nbformat": 4,
 "nbformat_minor": 2
}
