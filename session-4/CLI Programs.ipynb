{
 "cells": [
  {
   "cell_type": "markdown",
   "metadata": {
    "slideshow": {
     "slide_type": "slide"
    }
   },
   "source": [
    "# Always bet on text\n",
    "\n",
    "\n",
    "* Text is our *most stable communication technology*. Period.\n",
    "* Our claim: text is *by far* the most **efficient communication technology**\n",
    "\n",
    "\n",
    "* Pictures are good, but try to translate this into a picture: \"Human rights are moral principles\"\n",
    "* You are pretty much going to be working with only communication technology, so knowing text is smart\n",
    "\n",
    "<img src=\"https://upload.wikimedia.org/wikipedia/commons/thumb/2/23/Rosetta_Stone.JPG/800px-Rosetta_Stone.JPG\" style=\"width: 25%; float: right;\"/>"
   ]
  },
  {
   "cell_type": "markdown",
   "metadata": {
    "slideshow": {
     "slide_type": "skip"
    }
   },
   "source": [
    "Adapted from a highly recommended blogpost: https://graydon2.dreamwidth.org/193447.html"
   ]
  },
  {
   "cell_type": "markdown",
   "metadata": {
    "slideshow": {
     "slide_type": "subslide"
    }
   },
   "source": [
    "# The Command Line?\n",
    "\n",
    "You can start the command line as in the following:\n",
    "\n",
    "  * On Windows: double-click the `Git Bash` Icon on your Desktop\n",
    "  * On Mac OS X: press `cmd⌘+space` type in `terminal` and press return\n",
    "  * On Linux: press `ctrl+alt+t` or click on the `terminal` icon in your graphical user interface (GUI)\n",
    "  \n",
    "The command-line (or terminal) is a textual user interface to your computer's operating system. That is, you can issues commands that the computer executes accordingly."
   ]
  },
  {
   "cell_type": "markdown",
   "metadata": {
    "slideshow": {
     "slide_type": "subslide"
    }
   },
   "source": [
    "## Commanding the lines\n",
    "\n",
    "Try out these commands in your command line. After you wrote them, press the `Return` key to execute them:\n",
    "\n",
    "* `whoami`\n",
    "* `echo Hello World`\n",
    "* `clear`"
   ]
  },
  {
   "cell_type": "markdown",
   "metadata": {
    "slideshow": {
     "slide_type": "fragment"
    }
   },
   "source": [
    "These are all examples of commands that interact with your computer in one way or the other. Note that **this is exactly the same** as if you would click around in a GUI."
   ]
  },
  {
   "cell_type": "markdown",
   "metadata": {
    "slideshow": {
     "slide_type": "subslide"
    }
   },
   "source": [
    "## Running a Program from the Command-line\n",
    "\n",
    "A program is just a number of instructions you send to your computer. And you can now start them from your terminal.\n",
    "\n",
    "```bash\n",
    "$ python --version\n",
    "```\n",
    "\n",
    "That **invokes** the `python` program, and asks it to print out its version."
   ]
  },
  {
   "cell_type": "markdown",
   "metadata": {
    "slideshow": {
     "slide_type": "subslide"
    }
   },
   "source": [
    "## Passing Arguments to a Program on the Command-line\n",
    "\n",
    "When you call your programs from the CLI, you can pass arguments to it. In the most basic form this looks like:\n",
    "\n",
    "```bash\n",
    "$ python my_program.py\n",
    "```\n",
    "\n",
    "This will ask Python to run the code that exists in the file `my_program.py`. \n",
    "\n",
    "This is pretty cool, because you can actually run your own files directly from the terminal, like a real program!"
   ]
  },
  {
   "cell_type": "markdown",
   "metadata": {
    "slideshow": {
     "slide_type": "fragment"
    }
   },
   "source": [
    "### Usability\n",
    "\n",
    "**Code completion with TAB (⇥)**\n",
    "\n",
    "You can start typing and complete your command by hitting the tabulator key (⇥). In case there are many commands matching the start string, they will be displayed."
   ]
  },
  {
   "cell_type": "markdown",
   "metadata": {
    "slideshow": {
     "slide_type": "slide"
    }
   },
   "source": [
    "# Exploring files\n",
    "\n",
    "You work with files all the time. They are these things with endings like `.txt` or `.pdf`.\n",
    "\n",
    "The files are normally arranged into folders. So you have folders that can contain folders or files. Files just contain data.\n",
    "\n",
    "The terms _folders_ and _directory_ are used synonymiously."
   ]
  },
  {
   "cell_type": "markdown",
   "metadata": {
    "slideshow": {
     "slide_type": "subslide"
    }
   },
   "source": [
    "## Files and folders in Windows\n",
    "\n",
    "In Windows you can view files and folders through the 'Files explorer' program.\n",
    "\n",
    "![Internet explorer](./images/explorer.png)"
   ]
  },
  {
   "cell_type": "markdown",
   "metadata": {
    "slideshow": {
     "slide_type": "subslide"
    }
   },
   "source": [
    "## Files and folders in MacOS\n",
    "\n",
    "In MacOS you use Finder to browse your files and folders.\n",
    "\n",
    "![Finder](./images/finder.png)"
   ]
  },
  {
   "cell_type": "markdown",
   "metadata": {
    "slideshow": {
     "slide_type": "subslide"
    }
   },
   "source": [
    "## Remember: Text is superior\n",
    "\n",
    "Can we exploit text to work with files? Yes. Yes we can! \n",
    "\n",
    "Today you will learn how to move or copy a file in less than a second! Think about how fast you could do that in finder or explorer!"
   ]
  },
  {
   "cell_type": "markdown",
   "metadata": {
    "slideshow": {
     "slide_type": "fragment"
    }
   },
   "source": [
    "![Files listed in the commando prompt](./images/files_cli.png)"
   ]
  },
  {
   "cell_type": "markdown",
   "metadata": {
    "slideshow": {
     "slide_type": "slide"
    }
   },
   "source": [
    "## Working with Directories"
   ]
  },
  {
   "cell_type": "markdown",
   "metadata": {
    "slideshow": {
     "slide_type": "fragment"
    }
   },
   "source": [
    "### In which directory am I currently?\n",
    "\n",
    "The command `pwd`, prints the working directory, i.e., the one in which you _are_ currently.\n",
    "\n",
    "```bash\n",
    "$ pwd\n",
    "```\n",
    "\n",
    "Usually, when starting the CLI/terminal, the current directory is your _home_ directory.\n",
    "\n",
    "On Windows in Git Bash it is something similar to:\n",
    "\n",
    "```bash\n",
    "/c/Users/<your_user>\n",
    "```\n",
    "\n",
    "On Mac OS X it is\n",
    "\n",
    "```bash\n",
    "/Users/<your_user>\n",
    "```\n",
    "\n",
    "and on Linux it should be something like:\n",
    "\n",
    "```bash\n",
    "/home/<your_user>\n",
    "```"
   ]
  },
  {
   "cell_type": "markdown",
   "metadata": {
    "slideshow": {
     "slide_type": "subslide"
    }
   },
   "source": [
    "### Listing the Contents of a Directory\n",
    "\n",
    "The `ls` command lists the contents of a directory. In its plain form it lists the contents of the current directory\n",
    "\n",
    "```bash\n",
    "$ ls\n",
    "```\n",
    "\n",
    "If you append a path to the ls command it lists the contents of the specified directory\n",
    "\n",
    "```bash\n",
    "$ ls /tmp\n",
    "```\n",
    "\n",
    "Here `/tmp` is the first argument to the `ls` program."
   ]
  },
  {
   "cell_type": "markdown",
   "metadata": {
    "slideshow": {
     "slide_type": "subslide"
    }
   },
   "source": [
    "## Directories and Files\n",
    "\n",
    "Your computer organises information in files and directories. \n",
    "\n",
    "Directories can contain other directories and other files.\n",
    "For us files usually contain text in various formats.\n",
    "\n",
    "For example, the following is a directory tree, where the `python` directory contains the `counting_words_project` and the `hello_world_project`, which in turn contain two and one Python file respectively.\n",
    "\n",
    "```\n",
    "python/\n",
    "├── counting_words_project\n",
    "│   ├── find_caps_words.py\n",
    "│   └── text_analysis.py\n",
    "└── hello_world_project\n",
    "    └── hello.py\n",
    "```"
   ]
  },
  {
   "cell_type": "markdown",
   "metadata": {
    "slideshow": {
     "slide_type": "subslide"
    }
   },
   "source": [
    "This is the same tree structure shown in the command line: \n",
    "```\n",
    "python/\n",
    "├── counting_words_project\n",
    "│   ├── find_caps_words.py\n",
    "│   └── text_analysis.py\n",
    "└── hello_world_project\n",
    "    └── hello.py\n",
    "```\n",
    "\n",
    "![Directory listing in Linux](./images/dir_cli.png)"
   ]
  },
  {
   "cell_type": "markdown",
   "metadata": {
    "slideshow": {
     "slide_type": "subslide"
    }
   },
   "source": [
    "### Basic Operations on Files and Directories\n",
    "\n",
    "In general, there are the following operations on files and directories:\n",
    "\n",
    "  * **Create**\n",
    "  * **Move**/**Rename**\n",
    "  * **Delete**\n",
    "  \n",
    "For files you can additionally:\n",
    "\n",
    "  * **Read** from,\n",
    "  * **Write** to,\n",
    "  * **Append** to files.\n",
    "  \n",
    "  \n",
    "For directories you can additionally **list** their contents."
   ]
  },
  {
   "cell_type": "markdown",
   "metadata": {
    "slideshow": {
     "slide_type": "subslide"
    }
   },
   "source": [
    "### Creating a Directory\n",
    "\n",
    "Let's create some example directories and files in our home directory.\n",
    "\n",
    "```bash\n",
    "$ mkdir python\n",
    "```\n",
    "\n",
    "Creates the directory `python`. You can double check that by running `ls`, which should list it now.\n",
    "\n",
    "Here again, `python` is the first argument to the `mkdir` program."
   ]
  },
  {
   "cell_type": "markdown",
   "metadata": {
    "slideshow": {
     "slide_type": "fragment"
    }
   },
   "source": [
    "Now, create two more directories:\n",
    "\n",
    "```bash\n",
    "$ mkdir python/counting_words_project\n",
    "$ mkdir python/hello_world_project\n",
    "```\n",
    "\n",
    "And check with `ls` that they were really created."
   ]
  },
  {
   "cell_type": "markdown",
   "metadata": {
    "slideshow": {
     "slide_type": "subslide"
    }
   },
   "source": [
    "### Changing the Current Directory\n",
    "\n",
    "You can change to another directory with the `cd` command.\n",
    "\n",
    "```bash\n",
    "$ cd python/counting_words_project\n",
    "```\n",
    "\n",
    "Now, you are in the directory `counting_words_project` in the directory `python`."
   ]
  },
  {
   "cell_type": "markdown",
   "metadata": {
    "slideshow": {
     "slide_type": "fragment"
    }
   },
   "source": [
    "You can go one directory _up_ with the `../` notation.\n",
    "\n",
    "That is, run\n",
    "\n",
    "```bash\n",
    "$ cd ../hello_world_project\n",
    "```\n",
    "\n",
    "In which directory are you now? Check with `pwd`."
   ]
  },
  {
   "cell_type": "markdown",
   "metadata": {
    "slideshow": {
     "slide_type": "subslide"
    }
   },
   "source": [
    "#### Forms of Paths\n",
    "\n",
    "##### Absolute Paths\n",
    "\n",
    "Absolute paths start with a leading slash `/`.\n",
    "For example, `/tmp`, `/home/ropf/`, `/Users/rhp` are absolute paths.\n",
    "  \n",
    "  \n",
    "##### Relative Paths: \n",
    "\n",
    "Relative paths start with a directory name or a dot `.`.\n",
    "For example, `python/`, `python/hello_world_project/hello.py`, and `./python/hello_world_project/hello.py` are relative paths.\n",
    "\n",
    "Note, the `.` is a shorthand for the current directory.\n",
    "\n",
    "That is, `python/hello_world_project/hello.py` and `./python/hello_world_project/hello.py` are equivalent.\n"
   ]
  },
  {
   "cell_type": "markdown",
   "metadata": {
    "slideshow": {
     "slide_type": "subslide"
    }
   },
   "source": [
    "## Try it out for yourself!\n",
    "\n",
    "Now, you know these commands: `pwd`, `ls`, `mkdir` and `cd`.\n",
    "\n",
    "* Create a new directory called `gummi_bear`\n",
    "* Enter that directory\n",
    "* What is your present working directory?\n",
    "* What is the difference between `ls` and `ls .`"
   ]
  },
  {
   "cell_type": "markdown",
   "metadata": {
    "slideshow": {
     "slide_type": "subslide"
    }
   },
   "source": [
    "## Modifying the behaviour of  `ls`\n",
    "\n",
    "What if you want to know more about the files you list?\n",
    "\n",
    "Try to type the following command:\n",
    "\n",
    "```bash\n",
    "$ ls -l\n",
    "```"
   ]
  },
  {
   "cell_type": "markdown",
   "metadata": {
    "slideshow": {
     "slide_type": "subslide"
    }
   },
   "source": [
    "## Passing flags to a program on the command-line\n",
    "\n",
    "What you just saw was a flag. Meaning you can modify the behaviour of your command. \n",
    "\n",
    "So before you saw the version of `ls` instead of it printing out the files in your current directory."
   ]
  },
  {
   "cell_type": "markdown",
   "metadata": {
    "slideshow": {
     "slide_type": "fragment"
    }
   },
   "source": [
    "As most Bash commands `ls` has many switches. For example, you can tell it to get more information per file (`-l`), sort the files by modification time (`-t`), and display them in reversed order (`-r`). Note if you want to see hidden files you might be interested in the `-a` switch. In case you are not good in converting bytes to mega- and gigabytes you might be interested in the (`-h`) switch.\n",
    "\n",
    "```bash\n",
    "$ ls -ltr\n",
    "```\n",
    "\n",
    "```bash\n",
    "$ ls -ltrah ./\n",
    "```"
   ]
  },
  {
   "cell_type": "markdown",
   "metadata": {
    "slideshow": {
     "slide_type": "skip"
    }
   },
   "source": [
    "## Flag examples\n",
    "\n",
    "Most commands have these two flags available: `--help` and `--version`.\n",
    "\n",
    "Let's see what happens when you do that with the commands you already saw:\n",
    "\n",
    "```\n",
    "$ ls --help\n",
    "$ cd --help\n",
    "$ mkdir --version\n",
    "```"
   ]
  },
  {
   "cell_type": "markdown",
   "metadata": {
    "slideshow": {
     "slide_type": "slide"
    }
   },
   "source": [
    "## More commands!!\n",
    "\n",
    "<img src=\"./images/command.gif\" style=\"width: 20%; float: right\" />\n",
    "\n",
    "* Moving/renaming directory\n",
    "* Copying files\n",
    "* Creating file content\n"
   ]
  },
  {
   "cell_type": "markdown",
   "metadata": {
    "slideshow": {
     "slide_type": "fragment"
    }
   },
   "source": [
    "* Also, think about how you do this in a GUI\n",
    "  * This is so much faster to use"
   ]
  },
  {
   "cell_type": "markdown",
   "metadata": {
    "slideshow": {
     "slide_type": "subslide"
    }
   },
   "source": [
    "### Moving/Renaming a Directory\n",
    "\n",
    "You might want to rename a directory, e.g., after creating them with a wrong spelling\n",
    "\n",
    "```bash\n",
    "$ mkdir wrtings \n",
    "$ mv wrtings writing\n",
    "```\n",
    "\n",
    "Check that you now have a directory `writing` in your working directory."
   ]
  },
  {
   "cell_type": "markdown",
   "metadata": {
    "slideshow": {
     "slide_type": "subslide"
    }
   },
   "source": [
    "### Deleting a Directory\n",
    "\n",
    "**OBS**: Do this carefully! What is deleted is deleted and usually cannot be restored!\n",
    "\n",
    "```bash\n",
    "$ rm -r writing\n",
    "```\n",
    "\n",
    "What is the argument here and what is a switch? What are the two saying?"
   ]
  },
  {
   "cell_type": "markdown",
   "metadata": {
    "slideshow": {
     "slide_type": "slide"
    }
   },
   "source": [
    "## Working with Files\n",
    "\n",
    "### Creating an Empty File\n",
    "\n",
    "Assuming that you are in your home directory -you can always switch back to it with `cd ~`, where the tilde `~` is a shorthand for your home directory-, in which we created the above folders, create empty files as in the following:\n",
    "\n",
    "```bash\n",
    "$ touch hello.py\n",
    "```\n",
    "\n",
    "This creates an empty file in the current directory. Of course, you can also create \n",
    "\n",
    "```bash\n",
    "$ touch python/hello_world_project/hello.py\n",
    "```\n",
    "\n",
    "Now you can edit the contents of this file by opening it in *Mu*. For now you can do this by pressing the `Load` button inside Mu and locate your file manually.\n"
   ]
  },
  {
   "cell_type": "markdown",
   "metadata": {
    "slideshow": {
     "slide_type": "subslide"
    }
   },
   "source": [
    "### Creating a File with Contents\n",
    "\n",
    "You can create a file with contents directly, that is without using an editor, by forwarding contents directly into it.\n",
    "\n",
    "```bash\n",
    "$ echo \"print('Hello world')\" > python/hello_world_project/hello.py\n",
    "```\n",
    "\n",
    "The `echo` program just prints the arguments you give it to the console. That is, it is the `print` function of the command-line. Try it by running :\n",
    "\n",
    "```bash\n",
    "$ echo \"Hej\"\n",
    "```\n",
    "\n",
    "The `>` means overwrite the contents of the file `hello.py` with what is comming "
   ]
  },
  {
   "cell_type": "markdown",
   "metadata": {
    "slideshow": {
     "slide_type": "subslide"
    }
   },
   "source": [
    "### Printing the Contents of a File\n",
    "\n",
    "```bash\n",
    "$ cat python/hello_world_project/hello.py \n",
    "```"
   ]
  },
  {
   "cell_type": "markdown",
   "metadata": {
    "slideshow": {
     "slide_type": "subslide"
    }
   },
   "source": [
    "### Appending a Line to a File\n",
    "\n",
    "To append a single line to the end of the file use >> instead of > when forwarding your contents.\n",
    "\n",
    "\n",
    "```bash\n",
    "$ echo \"print('Hello')\" > python/hello_world_project/hello.py\n",
    "$ echo \"print('World')\" >> python/hello_world_project/hello.py\n",
    "```\n",
    "\n",
    "**OBS:** To append to a file always use the double forwared sign >>. A single forward sign > overwrites the file completely."
   ]
  },
  {
   "cell_type": "markdown",
   "metadata": {
    "slideshow": {
     "slide_type": "subslide"
    }
   },
   "source": [
    "### Copying Files\n",
    "\n",
    "The `cp` command can copy files too. It usually requires two arguments, saying _which_ file (first argument) to copy to _where_ (second argument). \n",
    "\n",
    "If you specify a directory as the second argument, then the file, which is specified by the first argument, is copied to the target directory with the original name. \n",
    "\n",
    "In case you provide a file name as the second argument, then the file is copied and renamed directly.\n",
    "\n",
    "```bash\n",
    "$ cp python/hello_world_project/hello.py ~/\n",
    "$ cp python/hello_world_project/hello.py ./new_hello.py\n",
    "```"
   ]
  },
  {
   "cell_type": "markdown",
   "metadata": {
    "slideshow": {
     "slide_type": "subslide"
    }
   },
   "source": [
    "## Copying directories\n",
    "\n",
    "Directories are a little different because you can risk not just copying one thing. So we have to modify the behaviour of copy to just take and copy everything.\n",
    "\n",
    "We can do that with the flag `-r`:\n",
    "\n",
    "```bash\n",
    "$ cp -r python python_backup\n",
    "```"
   ]
  },
  {
   "cell_type": "markdown",
   "metadata": {
    "slideshow": {
     "slide_type": "subslide"
    }
   },
   "source": [
    "### Moving/Renaming Files\n",
    "\n",
    "The `mv` command is similar to the `cp` command. However, the specified file is moved, i.e., no copy is created.\n",
    "\n",
    "```bash\n",
    "$ mv new_hello.py python/hello_world_project/\n",
    "```\n",
    "\n",
    "To rename a file you use the mv command too. Just move your file to a file with a new name.\n",
    "\n",
    "```bash\n",
    "$ mv new_hello.py python/hello_world_project/new_hello.py my_hello.py\n",
    "```"
   ]
  },
  {
   "cell_type": "markdown",
   "metadata": {
    "slideshow": {
     "slide_type": "subslide"
    }
   },
   "source": [
    "### Deleting Files\n",
    "\n",
    "Similarly to deleting directories, you can delete files with the help of the `rm` command.\n",
    "\n",
    "```bash\n",
    "$ rm my_hello.py\n",
    "```"
   ]
  },
  {
   "cell_type": "markdown",
   "metadata": {
    "slideshow": {
     "slide_type": "subslide"
    }
   },
   "source": [
    "## Command-line Primers\n",
    "\n",
    "Find more examples in the following resources:\n",
    "\n",
    "  * https://www.codecademy.com/learn/learn-the-command-line\n",
    "  * http://lifehacker.com/5633909/who-needs-a-mouse-learn-to-use-the-command-line-for-almost-anything\n",
    "  * http://www.makeuseof.com/tag/a-quick-guide-to-get-started-with-the-linux-command-line/\n",
    "  * http://mvhs-fuhsd.org/java/Units/Unit01/LinuxCommandLinePrimer.pdf\n"
   ]
  },
  {
   "cell_type": "markdown",
   "metadata": {
    "slideshow": {
     "slide_type": "slide"
    }
   },
   "source": [
    "# Running Python Programs from the Command-line\n",
    "\n",
    "When you call your Python programs from the command-line, you can pass arguments to it too. In the most basic form this looks like:\n",
    "\n",
    "```bash\n",
    "$ python your_program.py arg1 arg2\n",
    "```\n",
    "\n",
    "Passing CLI arguments is common praxis for running your program in various configurations. \n",
    "\n",
    "In this session, we will learn how to parse CLI arguments and options so that you can run your programs parametrized from the command-line."
   ]
  },
  {
   "cell_type": "markdown",
   "metadata": {
    "collapsed": true,
    "slideshow": {
     "slide_type": "slide"
    }
   },
   "source": [
    "## Parsing CLI Arguments\n",
    "\n",
    "Arguments are given -separated by spaces- after the name of your program on the CLI. Within your code, you can access them via the `argv` in the `sys` module. Here argv `argv[0]` is the script pathname (if known) and all the following elements of that list are the arguments given to your program.\n",
    "\n",
    "\n",
    "\n",
    "\n",
    "```python\n",
    "import sys\n",
    "\n",
    "print('Script is: ' + sys.argv[0])\n",
    "print('Arguments given: ' + str(sys.argv[1:]))\n",
    "```"
   ]
  },
  {
   "cell_type": "markdown",
   "metadata": {
    "slideshow": {
     "slide_type": "subslide"
    }
   },
   "source": [
    "## Your turn\n",
    "\n",
    "Clear Mu and type this in:\n",
    "\n",
    "```python\n",
    "import sys\n",
    "\n",
    "print(__file__)\n",
    "print(sys.argv[0])\n",
    "```\n",
    "\n",
    "* What do you think the two things mean (`__file__` and `sys.argv[0]`)? \n",
    "* Why do you think it prints what it prints?\n",
    "* Remove the `[0]` from the second line. Do you get what you expect?"
   ]
  },
  {
   "cell_type": "markdown",
   "metadata": {
    "slideshow": {
     "slide_type": "subslide"
    }
   },
   "source": [
    "Your program now looks like this:\n",
    "\n",
    "```python\n",
    "import sys\n",
    "\n",
    "print(__file__)\n",
    "print(sys.argv[0])\n",
    "```\n",
    "\n",
    "* Save it somewhere you can find it\n",
    "* Open a terminal, and navigate to the place where you saved the file\n",
    "* Run it with `python my_program.py`, where `my_program.py` is the name of your file\n",
    "* Do you get what you expect?"
   ]
  },
  {
   "cell_type": "markdown",
   "metadata": {
    "slideshow": {
     "slide_type": "subslide"
    }
   },
   "source": [
    "## Exercise\n",
    "\n",
    "Write a small command-line program that prints all the command-line arguments (one per line), regardless of how many arguments you give it!\n",
    "\n",
    "Executing\n",
    "```bash\n",
    "python printer.py faithful and friendly with stories to shaaaaare\n",
    "```\n",
    "\n",
    "Shall produce: \n",
    "```bash\n",
    "faithful\n",
    "and\n",
    "friendly\n",
    "with\n",
    "stories\n",
    "to \n",
    "shaaaaare\n",
    "```"
   ]
  },
  {
   "cell_type": "markdown",
   "metadata": {
    "slideshow": {
     "slide_type": "skip"
    }
   },
   "source": [
    "### Exercise:\n",
    "\n",
    "Write a small command-line program that can create lines of Scatman songs. For example, the following call\n",
    "\n",
    "```bash\n",
    "python scatman.py ba-da 2 ba-be 1 bop 2 bodda 1 bope 1\n",
    "```\n",
    "\n",
    "Shall produce the 13th line of the song: `ba-daba-da ba-be bopbop bodda bope`\n",
    "\n",
    "The arguments for your program shall be an even length list of string integer pairs, where the string denotes the _scatter_ and the integer denotes how often it appears in that line.\n",
    "\n",
    "\n",
    "See the Scatman lyrics for more possible lines to produce: https://www.azlyrics.com/lyrics/scatmanjohn/scatmanskibabopbadopbop.html\n",
    "And the song:\n",
    "https://www.youtube.com/watch?v=Hy8kmNEo1i8"
   ]
  },
  {
   "cell_type": "markdown",
   "metadata": {
    "slideshow": {
     "slide_type": "subslide"
    }
   },
   "source": [
    "## CLI options\n",
    "\n",
    "So we saw how you can give a program arguments that it **requires** before it can run. But what about optional arguments? Or flags?\n",
    "\n",
    "To provide something to a CLI program that is **optional** the convention is to use a single dash and a single character (`-h`) or double dashed and a full word (`--help`). \n",
    "\n",
    "Try that out with `python`: `python -h` and `python --help`"
   ]
  },
  {
   "cell_type": "markdown",
   "metadata": {
    "slideshow": {
     "slide_type": "subslide"
    }
   },
   "source": [
    "## Parsing CLI options and arguments\n",
    "\n",
    "You can of course parse all the arguments and options yourself, but there exist a module for exactly this: `argparse`: \n",
    "\n",
    "```python\n",
    "import argparse\n",
    "\n",
    "parser = argparse.ArgumentParser()\n",
    "parser.add_argument('person', help='A required argument!')\n",
    "parser.add_argument('-f', '--foo', help='An optional argument')\n",
    "arguments = parser.parse_args()\n",
    "\n",
    "print(\"Person: \" + arguments.person)\n",
    "print(\"Arguments: \" + arguments.foo)\n",
    "\n",
    "```"
   ]
  },
  {
   "cell_type": "markdown",
   "metadata": {
    "slideshow": {
     "slide_type": "slide"
    }
   },
   "source": [
    "# Program pipes\n",
    "\n",
    "Just like your program here in your notebooks can use `input` to read input from the user, so can your CLI program. But instead of calling `input()` we have to call a special function in the `sys.stdin` module called `read`:\n",
    "\n",
    "```python\n",
    "import sys\n",
    "\n",
    "user_input = sys.stdin.read()\n",
    "print(user_input)\n",
    "```"
   ]
  },
  {
   "cell_type": "markdown",
   "metadata": {
    "slideshow": {
     "slide_type": "subslide"
    }
   },
   "source": [
    "## Program pipes\n",
    "\n",
    "`stdin` stands for **standard input**, which is the common way to put something **into** a program.\n",
    "\n",
    "As you probably guessed, there is also a way to get something **out** of your program. And, yes, that's called `stdout`. Only, you don't have to specify that you write to `stdout`. Whenever you `print`, that is done automatically."
   ]
  },
  {
   "cell_type": "markdown",
   "metadata": {
    "slideshow": {
     "slide_type": "subslide"
    }
   },
   "source": [
    "## Piping Arguments to Your Program\n",
    "\n",
    "Here is another example (see `cli_reverse.py`), that reverses all lines that are piped to it. That is, it is called via for example `cat your.txt | python cli_reverse.py`. The program writes it's output again to `stdout`.\n",
    "\n",
    "```python\n",
    "import sys\n",
    "\n",
    "input_lines = sys.stdin.read().split('\\n')\n",
    "output_lines = reversed(input_lines)\n",
    "output_str = '\\n'.join(output_lines)\n",
    "sys.stdout.write(output_str)\n",
    "\n",
    "```"
   ]
  },
  {
   "cell_type": "markdown",
   "metadata": {
    "slideshow": {
     "slide_type": "subslide"
    }
   },
   "source": [
    "## Pipe inception!\n",
    "\n",
    "Wait!, you think. Does that mean that we can take the output of a program and feed that to another program? Why yes, yes it does.\n",
    "\n",
    "\n",
    "You can combine CLI arguments and piping support, as the following example illustrates. `cli_replace.py` replaces a match for a regular expression line by line with a replacement text. The regular expression and the replacement text are given as arguments to the program. This is done with the 'pipe' character `|`.\n",
    "\n",
    "**OBS**: When writing the following commands into your command line, use only the actual command never the first line saying `%%bash`! This is unfortuantely a technicality needed here for presentation."
   ]
  },
  {
   "cell_type": "code",
   "execution_count": null,
   "metadata": {
    "slideshow": {
     "slide_type": "subslide"
    }
   },
   "outputs": [],
   "source": [
    "%%bash\n",
    "echo 'Hello world' | rev"
   ]
  },
  {
   "cell_type": "code",
   "execution_count": null,
   "metadata": {
    "slideshow": {
     "slide_type": "subslide"
    }
   },
   "outputs": [],
   "source": [
    "%%bash\n",
    "echo 'Hello world' | wc -c"
   ]
  },
  {
   "cell_type": "code",
   "execution_count": null,
   "metadata": {
    "slideshow": {
     "slide_type": "subslide"
    }
   },
   "outputs": [],
   "source": [
    "%%bash\n",
    "cat his_last_bow.txt | wc -c"
   ]
  },
  {
   "cell_type": "code",
   "execution_count": null,
   "metadata": {
    "slideshow": {
     "slide_type": "subslide"
    }
   },
   "outputs": [],
   "source": [
    "%%bash\n",
    "cat his_last_bow.txt | rev"
   ]
  }
 ],
 "metadata": {
  "celltoolbar": "Slideshow",
  "kernelspec": {
   "display_name": "Python 3",
   "language": "python",
   "name": "python3"
  },
  "language_info": {
   "codemirror_mode": {
    "name": "ipython",
    "version": 3
   },
   "file_extension": ".py",
   "mimetype": "text/x-python",
   "name": "python",
   "nbconvert_exporter": "python",
   "pygments_lexer": "ipython3",
   "version": "3.6.3"
  }
 },
 "nbformat": 4,
 "nbformat_minor": 2
}
