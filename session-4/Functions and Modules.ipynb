{
 "cells": [
  {
   "cell_type": "markdown",
   "metadata": {
    "slideshow": {
     "slide_type": "slide"
    }
   },
   "source": [
    "# How not to do programming\n",
    "\n",
    "Imagine you get hired to help building the Electronic Patient Journal system. Your predecessor wrote around 2'000'000 lines of code. When you open the code, it all look like this:"
   ]
  },
  {
   "cell_type": "markdown",
   "metadata": {
    "slideshow": {
     "slide_type": "fragment"
    }
   },
   "source": [
    "![Matrix](./images/matrix.gif)"
   ]
  },
  {
   "cell_type": "markdown",
   "metadata": {
    "slideshow": {
     "slide_type": "fragment"
    }
   },
   "source": [
    "Even if you can understand the Matrix, 2'000'000 lines of code is simply too much to understand for any living human being. Then what?"
   ]
  },
  {
   "cell_type": "markdown",
   "metadata": {
    "slideshow": {
     "slide_type": "subslide"
    }
   },
   "source": [
    "## Structured programming\n",
    "\n",
    "Structured programming partly solves the complexity problem. It basically does it by delegation. "
   ]
  },
  {
   "cell_type": "markdown",
   "metadata": {
    "slideshow": {
     "slide_type": "fragment"
    }
   },
   "source": [
    "Instead of writing all code in one place we can put code into *structures* that have certain responsibilities."
   ]
  },
  {
   "cell_type": "markdown",
   "metadata": {
    "slideshow": {
     "slide_type": "fragment"
    }
   },
   "source": [
    "These *structures* are also called *functions*. They are tasked with solving a single problem. "
   ]
  },
  {
   "cell_type": "markdown",
   "metadata": {
    "slideshow": {
     "slide_type": "subslide"
    }
   },
   "source": [
    "# Creating a Function\n",
    "\n",
    "You have actually already used functions. Both `print()` and `len()` are functions. \n",
    "\n",
    "Python provides several built-in functions like these, but you can also write your own functions. Here is how:"
   ]
  },
  {
   "cell_type": "code",
   "execution_count": 3,
   "metadata": {
    "slideshow": {
     "slide_type": "fragment"
    }
   },
   "outputs": [],
   "source": [
    "def print_sentence():\n",
    "    print('Call me Ishmael.')"
   ]
  },
  {
   "cell_type": "code",
   "execution_count": null,
   "metadata": {
    "slideshow": {
     "slide_type": "fragment"
    }
   },
   "outputs": [],
   "source": [
    " print_sentence()"
   ]
  },
  {
   "cell_type": "code",
   "execution_count": null,
   "metadata": {
    "slideshow": {
     "slide_type": "fragment"
    }
   },
   "outputs": [],
   "source": [
    "print_sentence()"
   ]
  },
  {
   "cell_type": "markdown",
   "metadata": {
    "slideshow": {
     "slide_type": "subslide"
    }
   },
   "source": [
    "## Try it out!\n",
    "\n",
    "```python\n",
    "def print_something():\n",
    "    ...\n",
    "print_something()\n",
    "```"
   ]
  },
  {
   "cell_type": "markdown",
   "metadata": {
    "slideshow": {
     "slide_type": "subslide"
    }
   },
   "source": [
    "## Functions are tasks\n",
    "\n",
    "If you need to perform that task multiple times throughout your program, you do not need to type all the code for the same task again and again; you just call the function dedicated to handling that task.\n",
    "\n",
    "Your \"**call**\" tells Python to run the code inside the function. You will find that using functions makes your programs easier to write, read, test, and x."
   ]
  },
  {
   "cell_type": "code",
   "execution_count": null,
   "metadata": {
    "slideshow": {
     "slide_type": "subslide"
    }
   },
   "outputs": [],
   "source": [
    "def print_something():                   # <--- Function definition\n",
    "    print('Conchita Wurst is the best!') # <--- Function body\n",
    "    \n",
    "print_something()                        # <--- Function call"
   ]
  },
  {
   "cell_type": "code",
   "execution_count": null,
   "metadata": {
    "slideshow": {
     "slide_type": "subslide"
    }
   },
   "outputs": [],
   "source": [
    "def print_something():                   # <--- Function definition\n",
    "    print('Conchita Wurst is the best!') # <--- Function body\n",
    "    \n",
    "print_something()                        # <--- Function call\n",
    "print_something()                        # <--- Function call"
   ]
  },
  {
   "cell_type": "markdown",
   "metadata": {
    "slideshow": {
     "slide_type": "subslide"
    }
   },
   "source": [
    "## How to create a function\n",
    "\n",
    "```python\n",
    "def print_sentence():\n",
    "    fst_sentence = 'Call me Ishmael.'\n",
    "    print(fst_sentence)\n",
    "```\n",
    "    \n",
    "This example shows the simplest structure of a function. It contains a **function definition** and a **function body**:"
   ]
  },
  {
   "cell_type": "markdown",
   "metadata": {
    "slideshow": {
     "slide_type": "skip"
    }
   },
   "source": [
    "* The first line uses the keyword `def` to inform Python, that you are defining a function. This is the *function definition*, which tells the interpreter the name of the function and, if applicable, what kind of information the function needs to do its job. The parentheses hold that information, the *arguments*. In this case, the name of the function is `print_sentence()`, and it needs no information to do its job, so its parentheses are empty, there are no arguments. (Even so, the parentheses are required.) Finally, the definition ends in a colon.\n",
    "\n",
    "* Any indented lines that follow `def print_sentence():` make up the *body of the function*. The text in `\"\"\" \"\"\"` is a comment called a *docstring*, which describes what the function does. Docstrings are enclosed in triple quotes, which Python looks for when it generates documentation for the functions in your programs.\n",
    "\n",
    "The lines: \n",
    "\n",
    "```python\n",
    "    fst_sentence = 'Call me Ishmael.'\n",
    "    print(fst_sentence)\n",
    "```\n",
    "\n",
    "are the only lines of actual code in the body of this function, so `print_sentence()` has just one job, it prints the first sentence of Moby Dick.\n",
    "\n",
    "When you want to use this function, you call it. A *function call* tells Python to execute the code in the function. To call a function, you write the name of the function, followed by any necessary arguments in parentheses. Because no information is needed here, calling our function is as simple as entering `print_sentence()`."
   ]
  },
  {
   "cell_type": "markdown",
   "metadata": {
    "slideshow": {
     "slide_type": "subslide"
    }
   },
   "source": [
    "## An adaptive function\n",
    "\n",
    "The function above was pretty boring. It never changed behaviour.\n",
    "\n",
    "We can actually put something into the function, so it adapts to what we need:"
   ]
  },
  {
   "cell_type": "markdown",
   "metadata": {
    "slideshow": {
     "slide_type": "subslide"
    }
   },
   "source": [
    "## Functions as \"black boxes\"\n",
    "\n",
    "<img src=\"./images/function.png\" style=\"width: 50%\"/>"
   ]
  },
  {
   "cell_type": "markdown",
   "metadata": {
    "slideshow": {
     "slide_type": "slide"
    }
   },
   "source": [
    "# Functions return values\n",
    "\n",
    "Functions are delegations of code. You *delegate* work to the function, so you don't have to do it.\n",
    "\n",
    "```python\n",
    "def extremely_difficult_calculation(input_number):\n",
    "    result = input_number + 1 # Look at how difficult that was!\n",
    "    return result\n",
    "```"
   ]
  },
  {
   "cell_type": "markdown",
   "metadata": {
    "slideshow": {
     "slide_type": "subslide"
    }
   },
   "source": [
    "## Functions are reusable black boxes\n",
    "\n",
    "<img src=\"./images/function.png\" style=\"width: 50%\"/>"
   ]
  },
  {
   "cell_type": "markdown",
   "metadata": {
    "slideshow": {
     "slide_type": "subslide"
    }
   },
   "source": [
    "What happens above is that you create a function that takes an input and **returns** the output."
   ]
  },
  {
   "cell_type": "markdown",
   "metadata": {
    "slideshow": {
     "slide_type": "subslide"
    }
   },
   "source": [
    "Modify the code below to no longer *print* the name, but *return* it?\n",
    "\n",
    "```python\n",
    "def return_sentence():\n",
    "    fst_sentence = 'Call me Ishmael.'\n",
    "    print(fst_sentence)\n",
    "```"
   ]
  },
  {
   "cell_type": "markdown",
   "metadata": {
    "slideshow": {
     "slide_type": "fragment"
    }
   },
   "source": [
    "Now try to call your function. What happens? And did you expect that?"
   ]
  },
  {
   "cell_type": "markdown",
   "metadata": {
    "slideshow": {
     "slide_type": "subslide"
    }
   },
   "source": [
    "## Value assignment\n",
    "\n",
    "These two pieces of code are 100% equivalent.\n",
    "\n",
    "```python\n",
    "my_var = 'Call me Ishmael.'\n",
    "```\n",
    "\n",
    "```python\n",
    "my_var = return_sentence()\n",
    "```"
   ]
  },
  {
   "cell_type": "markdown",
   "metadata": {
    "slideshow": {
     "slide_type": "subslide"
    }
   },
   "source": [
    "## An adaptive function\n",
    "\n",
    "The function above was pretty boring. It never changed behaviour: the turtle kept doing the same over and over again. \n",
    "\n",
    "Just like a program with no `input`."
   ]
  },
  {
   "cell_type": "code",
   "execution_count": 8,
   "metadata": {
    "slideshow": {
     "slide_type": "subslide"
    }
   },
   "outputs": [],
   "source": [
    "def modify_sentence(name):    \n",
    "    fst_sentence = 'Call me ' + name + '.'\n",
    "    return fst_sentence"
   ]
  },
  {
   "cell_type": "code",
   "execution_count": null,
   "metadata": {
    "slideshow": {
     "slide_type": "fragment"
    }
   },
   "outputs": [],
   "source": [
    "modify_sentence('Ahab')"
   ]
  },
  {
   "cell_type": "code",
   "execution_count": null,
   "metadata": {
    "slideshow": {
     "slide_type": "fragment"
    }
   },
   "outputs": [],
   "source": [
    "modify_sentence('Michele')"
   ]
  },
  {
   "cell_type": "code",
   "execution_count": null,
   "metadata": {
    "slideshow": {
     "slide_type": "subslide"
    }
   },
   "outputs": [],
   "source": [
    "def modify_sentence(name):    \n",
    "    fst_sentence = 'Call me ' + name + '.'\n",
    "    return fst_sentence"
   ]
  },
  {
   "cell_type": "code",
   "execution_count": null,
   "metadata": {
    "slideshow": {
     "slide_type": "fragment"
    }
   },
   "outputs": [],
   "source": [
    "modify_sentence(23456)"
   ]
  },
  {
   "cell_type": "markdown",
   "metadata": {
    "slideshow": {
     "slide_type": "subslide"
    }
   },
   "source": [
    "## Passing Information to a Function via Arguments\n",
    "\n",
    "```python\n",
    "def modify_sentence(name):\n",
    "    ...\n",
    "```\n",
    "\n",
    "### Arguments and Parameters\n",
    "In the above example, `modify_sentence(name)` requires a value for the variable `name`. Once we called the function and gave it the information -a person’s name-, it can now do something with that name.\n",
    "\n",
    "In practice `name` becomes a `variable` inside the function. But because it is required for the function to work, it is called a **parameter**: it is  a piece of information the function *needs* to do its job. "
   ]
  },
  {
   "cell_type": "code",
   "execution_count": null,
   "metadata": {
    "slideshow": {
     "slide_type": "subslide"
    }
   },
   "outputs": [],
   "source": [
    "def modify_sentence(name):    \n",
    "    fst_sentence = 'Call me ' + name + '.'\n",
    "    return fst_sentence"
   ]
  },
  {
   "cell_type": "code",
   "execution_count": null,
   "metadata": {
    "slideshow": {
     "slide_type": "fragment"
    }
   },
   "outputs": [],
   "source": [
    "modify_sentence('Ahab')"
   ]
  },
  {
   "cell_type": "markdown",
   "metadata": {
    "slideshow": {
     "slide_type": "subslide"
    }
   },
   "source": [
    "The value `'Ahab'` in `modify_sentence('Ahab')` is an example of an argument. An argument is a piece of information that is passed from a function call to a function. When we call the function, we place the value we want the function to work with in parentheses. In this case the argument `'Ahab'` was passed to the function `modify_sentence(name)`, and the value was stored in the parameter `name`.\n",
    "\n",
    "Note, people sometimes speak of arguments and parameters interchangeably."
   ]
  },
  {
   "cell_type": "markdown",
   "metadata": {
    "slideshow": {
     "slide_type": "subslide"
    }
   },
   "source": [
    "### Argument Errors\n",
    "\n",
    "When you start to use functions, do not be surprised if you encounter errors about unmatched arguments. Unmatched arguments occur when you provide fewer or more arguments than a function needs to do its work."
   ]
  },
  {
   "cell_type": "code",
   "execution_count": null,
   "metadata": {
    "slideshow": {
     "slide_type": "fragment"
    }
   },
   "outputs": [],
   "source": [
    "def apply_division(dividend, divisor):\n",
    "    result = dividend / divisor\n",
    "    print(result)\n",
    "\n",
    "apply_division()"
   ]
  },
  {
   "cell_type": "markdown",
   "metadata": {
    "slideshow": {
     "slide_type": "subslide"
    }
   },
   "source": [
    "Can you make this code divide the number 7 with the number 3: `7 / 3`?\n",
    "\n",
    "```python\n",
    "def apply_division(dividend, divisor):\n",
    "    result = dividend / divisor\n",
    "    print(result)\n",
    "\n",
    "apply_division()\n",
    "```"
   ]
  },
  {
   "cell_type": "markdown",
   "metadata": {
    "slideshow": {
     "slide_type": "subslide"
    }
   },
   "source": [
    "## Turtle drawing with functions\n",
    "\n",
    "Type this into Mu:\n",
    "\n",
    "```python\n",
    "def forward_and_turn():\n",
    "   forward(200)\n",
    "   left(90)\n",
    "forward_and_turn()\n",
    "```"
   ]
  },
  {
   "cell_type": "markdown",
   "metadata": {
    "slideshow": {
     "slide_type": "fragment"
    }
   },
   "source": [
    "What happens if you call that function one more time? And again? Run it through the debugger."
   ]
  },
  {
   "cell_type": "markdown",
   "metadata": {
    "slideshow": {
     "slide_type": "slide"
    }
   },
   "source": [
    "## Cookie function\n",
    "\n",
    "In a previous session you wrote a piece of code that printed out how much you enjoyed cookie dough. \n",
    "\n",
    "* Can you turn the following code into a function called `cookie_likeness`? What should the argument be?\n",
    "\n",
    "```python\n",
    "data = input('How much do you like cookie dough?')\n",
    "data = int(data)\n",
    "print('You ' + 'really ' * data + 'like cookie dough')\n",
    "```"
   ]
  },
  {
   "cell_type": "code",
   "execution_count": null,
   "metadata": {
    "slideshow": {
     "slide_type": "subslide"
    }
   },
   "outputs": [],
   "source": [
    "def cookie_likeness(data):\n",
    "    message = 'I ' + 'really ' * data + ' like cookie dough'\n",
    "    return message\n",
    "\n",
    "cookie_likeness(4)"
   ]
  },
  {
   "cell_type": "markdown",
   "metadata": {
    "slideshow": {
     "slide_type": "slide"
    }
   },
   "source": [
    "## How NASA does programming\n",
    "\n",
    "One advantage of functions is the way they separate blocks of code from your main program. By using descriptive names for your functions, your main program will be much easier to follow. \n",
    "\n",
    "Organisations like NASA take things like naming and structure very very serious. Bad programming decisions are causing deaths and vast productivity losses daily. They wrote [10 rules for developing safety-critical code](http://pixelscommander.com/wp-content/uploads/2014/12/P10.pdf).\n",
    "\n",
    "Bad example: [https://en.wikipedia.org/wiki/Mariner_1](Mariner 1)\n",
    "\n",
    "![](./images/shuttle_explosion.gif)"
   ]
  },
  {
   "cell_type": "markdown",
   "metadata": {
    "slideshow": {
     "slide_type": "subslide"
    }
   },
   "source": [
    "## The fear of technical debt\n",
    "\n",
    "NASA has good reason to do this. While code gets increasingly complicated, your brain does not.\n",
    "\n",
    "Think about it this way: Every time you write a line of code, your program gets more complicated. Essentially that is a *debt* you will have to pay later when you want new features."
   ]
  },
  {
   "cell_type": "markdown",
   "metadata": {
    "slideshow": {
     "slide_type": "fragment"
    }
   },
   "source": [
    "  > The cost of never paying down this technical debt is clear; eventually the cost to deliver functionality \n",
    "  > will become so slow that it is easy for a well-designed competitive software product to overtake the \n",
    "  > badly-designed software in terms of features. \n",
    "  >\n",
    "  > - Junade Ali, Mastering PHP Design Patterns"
   ]
  },
  {
   "cell_type": "markdown",
   "metadata": {
    "slideshow": {
     "slide_type": "slide"
    }
   },
   "source": [
    "# Modules\n",
    "\n",
    "You can organise your program further by storing your functions in a separate file called a module.\n",
    "\n",
    "A module is a collection of functions that does something specific. There is for instance a module called `os` that contains functions related to your computer (operating system).\n",
    "\n",
    "Modules can be imported in python like so:\n",
    "\n",
    "```python\n",
    "import os\n",
    "```\n",
    "\n",
    "An import statement tells Python to make the code in a module available in the currently running program file."
   ]
  },
  {
   "cell_type": "markdown",
   "metadata": {
    "slideshow": {
     "slide_type": "skip"
    }
   },
   "source": [
    "Storing your functions in a separate file allows you to hide the details of your program’s code and focus on its higher-level logic. It also allows you to reuse functions in many different programs. \n",
    "\n",
    "When you store your functions in separate files, you can share those files with other programmers without having to share your entire program. Knowing how to `import` functions also allows you to use libraries of functions that other programmers have written."
   ]
  },
  {
   "cell_type": "markdown",
   "metadata": {
    "slideshow": {
     "slide_type": "subslide"
    }
   },
   "source": [
    "## Importing a Module\n",
    "\n",
    "To call a function from an imported module, enter the name of the module you imported followed by the name of the function separated by a dot.\n",
    "\n",
    "In the following examples, we import entire modules, which makes every function from the module available in your program."
   ]
  },
  {
   "cell_type": "code",
   "execution_count": null,
   "metadata": {
    "slideshow": {
     "slide_type": "fragment"
    }
   },
   "outputs": [],
   "source": [
    "import os\n",
    "\n",
    "os.cpu_count()"
   ]
  },
  {
   "cell_type": "markdown",
   "metadata": {
    "slideshow": {
     "slide_type": "skip"
    }
   },
   "source": [
    "## Stand on the shoulders of giants (and 10'000+ man hours)\n",
    "\n",
    "Storing your functions in a separate file allows you to hide the details of your program’s code and focus on its higher-level logic. It also allows you to reuse functions in many different programs. \n",
    "\n",
    "When you store your functions in separate modules, you can share those modules with other programmers without having to share your entire program. \n",
    "\n",
    "Knowing how to `import` functions also **allows you to use libraries of functions that other programmers have written**.\n",
    "\n",
    "We will learn on Monday, how to store your code in separate files, i.e., modules."
   ]
  },
  {
   "cell_type": "markdown",
   "metadata": {
    "slideshow": {
     "slide_type": "subslide"
    }
   },
   "source": [
    "## Modules are Files\n",
    "\n",
    "Modules are actually just files with a `.py` ending. So they all exist in a file: `__file__`. You can see that in Python if you write\n",
    "```python\n",
    "print(__file__)\n",
    "```"
   ]
  },
  {
   "cell_type": "markdown",
   "metadata": {
    "slideshow": {
     "slide_type": "subslide"
    }
   },
   "source": [
    "So if you write \n",
    "```python\n",
    "import string\n",
    "```\n",
    "You actually just fetch the `string.py` file."
   ]
  },
  {
   "cell_type": "code",
   "execution_count": null,
   "metadata": {
    "slideshow": {
     "slide_type": "subslide"
    }
   },
   "outputs": [],
   "source": [
    "import string\n",
    "\n",
    "print(string.__file__)"
   ]
  },
  {
   "cell_type": "markdown",
   "metadata": {
    "slideshow": {
     "slide_type": "fragment"
    }
   },
   "source": [
    "  * The property `__file__` tells you, where a module is stored. `/Users/rhp/anaconda3/lib/python3.6/string.py` is the path for where the `string.py` module is stored on https://notebooks.azure.com\n",
    "  * In Azure Notebooks click on the marked symbol"
   ]
  },
  {
   "cell_type": "markdown",
   "metadata": {
    "slideshow": {
     "slide_type": "subslide"
    }
   },
   "source": [
    "Type the following command into the terminal, hit return, and inspect the first 50 lines of the `string` module.\n",
    "\n",
    "```bash\n",
    "less -N /home/nbuser/anaconda3_420/lib/python3.5/string.py\n",
    "```\n",
    "\n",
    "<img src=\"images/azure_terminal2.png\" width=\"600px\">\n",
    "\n",
    "Describe to your neighbour what you can see on the first 50 lines of `string.py`."
   ]
  },
  {
   "cell_type": "markdown",
   "metadata": {
    "slideshow": {
     "slide_type": "subslide"
    }
   },
   "source": [
    "### Module Aliases\n",
    "\n",
    "Modules can be given aliases when imported:\n",
    "\n",
    "```python\n",
    "import module_name as mn\n",
    "```\n",
    "\n",
    "Calling the functions via a module alias is more concise and allows you to focus on the descriptive names of the functions. \n",
    "\n",
    "The function names, which clearly tell you what each function does, are more important to the readability of your code than using the full module name."
   ]
  },
  {
   "cell_type": "code",
   "execution_count": 9,
   "metadata": {
    "slideshow": {
     "slide_type": "subslide"
    }
   },
   "outputs": [
    {
     "data": {
      "text/plain": [
       "1"
      ]
     },
     "execution_count": 9,
     "metadata": {},
     "output_type": "execute_result"
    }
   ],
   "source": [
    "import random as rand\n",
    "\n",
    "rand.choice([1, 2, 3, 4, 5, 6])"
   ]
  },
  {
   "cell_type": "code",
   "execution_count": 14,
   "metadata": {
    "slideshow": {
     "slide_type": "fragment"
    }
   },
   "outputs": [
    {
     "data": {
      "text/plain": [
       "1"
      ]
     },
     "execution_count": 14,
     "metadata": {},
     "output_type": "execute_result"
    }
   ],
   "source": [
    "import random as r\n",
    "\n",
    "r.choice([1, 2, 3, 4, 5, 6])"
   ]
  },
  {
   "cell_type": "markdown",
   "metadata": {
    "slideshow": {
     "slide_type": "subslide"
    }
   },
   "source": [
    "Talk through the code with your neighbour *before* running it.\n",
    "\n",
    "When you execute it, does it do what you expected it to do?"
   ]
  },
  {
   "cell_type": "code",
   "execution_count": null,
   "metadata": {
    "slideshow": {
     "slide_type": "fragment"
    }
   },
   "outputs": [],
   "source": [
    "import random\n",
    "\n",
    "def roll_dice(number_of_rolls):\n",
    "    rolls = []\n",
    "    for rolls in range(number_of_rolls):\n",
    "        new_roll = random.choice([1,2,3,4,5,6])\n",
    "        rolls.append(rolls)\n",
    "    return rolls\n",
    "        \n",
    "number_of_times = input('How many times?')\n",
    "roll_dice(number_of_times)"
   ]
  },
  {
   "cell_type": "markdown",
   "metadata": {
    "slideshow": {
     "slide_type": "subslide"
    }
   },
   "source": [
    "## Importing Specific Functions\n",
    "\n",
    "You can also import a specific function from a module. Here’s the general syntax for this approach:\n",
    "\n",
    "```python\n",
    "from module_name import function_name\n",
    "```\n",
    "\n",
    "You can import as many functions as you want from a module by separating each function’s name with a comma:\n",
    "\n",
    "```python\n",
    "from module_name import function_0, function_1, function_2\n",
    "```"
   ]
  },
  {
   "cell_type": "code",
   "execution_count": null,
   "metadata": {
    "slideshow": {
     "slide_type": "subslide"
    }
   },
   "outputs": [],
   "source": [
    "from random import choice\n",
    "\n",
    "\n",
    "choice([1, 2, 3, 4, 5, 6])"
   ]
  },
  {
   "cell_type": "code",
   "execution_count": null,
   "metadata": {
    "slideshow": {
     "slide_type": "subslide"
    }
   },
   "outputs": [],
   "source": [
    "from random import choice, randrange\n",
    "\n",
    "\n",
    "end = choice([10, 20, 30, 40, 50, 60])\n",
    "# Choose a random item from range(start, stop[, step]).\n",
    "randrange(1, end)"
   ]
  },
  {
   "cell_type": "markdown",
   "metadata": {
    "slideshow": {
     "slide_type": "fragment"
    }
   },
   "source": [
    "With this syntax, you do not need to use the dot notation when you call a function. Because we have explicitly imported the function in the `import` statement, we can call it by name when we use the function.\n",
    "\n",
    "However, using the full name makes for more readable code, so it is better to use the normal form of the import statement."
   ]
  },
  {
   "cell_type": "markdown",
   "metadata": {
    "slideshow": {
     "slide_type": "subslide"
    }
   },
   "source": [
    "# Exercises\n",
    "\n",
    "![image](http://forums.pixeltailgames.com/uploads/default/original/2X/f/f9c0a82e6ada756bc3f549b6a678e79df2cb5e1a.gif)"
   ]
  },
  {
   "cell_type": "markdown",
   "metadata": {
    "slideshow": {
     "slide_type": "subslide"
    }
   },
   "source": [
    "* So far you have been using `print` to write text to the screen. There is one problem with `print`: it always ends with a newline (the `\\n` character). But you can actually avoid that by using the keyword argument `end`. Below is a piece of code that prints 'I am' and 'an excellent programmer' on two different lines. Can you make them print on the same line, by setting the keyword argument `end` to the empty string?"
   ]
  },
  {
   "cell_type": "code",
   "execution_count": null,
   "metadata": {
    "slideshow": {
     "slide_type": "fragment"
    }
   },
   "outputs": [],
   "source": [
    "# Read the documentation for the `end` keyword argument\n",
    "print?"
   ]
  },
  {
   "cell_type": "code",
   "execution_count": null,
   "metadata": {
    "slideshow": {
     "slide_type": "-"
    }
   },
   "outputs": [],
   "source": [
    "print('I am')\n",
    "print(' an excellent programmer')"
   ]
  },
  {
   "cell_type": "markdown",
   "metadata": {
    "slideshow": {
     "slide_type": "subslide"
    }
   },
   "source": [
    "* Given a list of ingredients (for instance `['Vodka', 'Apple Cider', 'Apple Brandy']`), write a function (`print_ingredients`) that prints the ingredients separated by a comma (`','`) except for the two last items, that should be separated by an `'and'`. So the above example should show as`Vodka, Apple Cider and Apple Brandy`\n",
    "\n",
    "  * Try it out with the following ingredient lists:\n",
    "    * `['Gin', 'Vermouth', 'Campari', 'Orange peel']`\n",
    "    * `['White port', 'Tonic water']`"
   ]
  },
  {
   "cell_type": "code",
   "execution_count": null,
   "metadata": {
    "slideshow": {
     "slide_type": "subslide"
    }
   },
   "outputs": [],
   "source": []
  },
  {
   "cell_type": "markdown",
   "metadata": {
    "slideshow": {
     "slide_type": "subslide"
    }
   },
   "source": [
    "* Change the above function to return the pretty string instead of printing it."
   ]
  },
  {
   "cell_type": "code",
   "execution_count": null,
   "metadata": {
    "slideshow": {
     "slide_type": "subslide"
    }
   },
   "outputs": [],
   "source": []
  },
  {
   "cell_type": "markdown",
   "metadata": {
    "slideshow": {
     "slide_type": "subslide"
    }
   },
   "source": [
    "* Create a new function `get_me_a_drink` that takes a list of ingredient lists and randomly selects one of the ingredient list to be printed. When an ingredient list has been selected, store it in a variable and print it. Use the list of ingredient lists below to test your function.\n",
    "  * Hint: We used a function previously in the session that could pick a random element from a list."
   ]
  },
  {
   "cell_type": "code",
   "execution_count": null,
   "metadata": {
    "slideshow": {
     "slide_type": "subslide"
    }
   },
   "outputs": [],
   "source": [
    "list_of_lists = [\n",
    "    ['Gin', 'Vermouth', 'Campari', 'Orange peel'],\n",
    "    ['White port', 'Tonic water'],\n",
    "    ['Vodka', 'Triple sec', 'Cranberry juice', 'Lime juice'],\n",
    "    ['Vodka', 'Tequila', 'Light rum', 'Triple sec', 'Gin', 'Cola'],\n",
    "    ['Vodka', 'Tomato juice', 'Worcestershire sauce']\n",
    "] "
   ]
  },
  {
   "cell_type": "code",
   "execution_count": null,
   "metadata": {},
   "outputs": [],
   "source": []
  }
 ],
 "metadata": {
  "celltoolbar": "Slideshow",
  "kernelspec": {
   "display_name": "Python 3",
   "language": "python",
   "name": "python3"
  },
  "language_info": {
   "codemirror_mode": {
    "name": "ipython",
    "version": 3
   },
   "file_extension": ".py",
   "mimetype": "text/x-python",
   "name": "python",
   "nbconvert_exporter": "python",
   "pygments_lexer": "ipython3",
   "version": "3.6.3"
  }
 },
 "nbformat": 4,
 "nbformat_minor": 2
}
