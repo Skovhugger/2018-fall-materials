{
 "cells": [
  {
   "cell_type": "markdown",
   "metadata": {
    "slideshow": {
     "slide_type": "slide"
    }
   },
   "source": [
    "# What we've been through so far"
   ]
  },
  {
   "cell_type": "markdown",
   "metadata": {
    "slideshow": {
     "slide_type": "subslide"
    }
   },
   "source": [
    "## Variables as \"vaults\"\n",
    "\n",
    "```python\n",
    "my_variable = 100\n",
    "```\n",
    "\n",
    "... later ...\n",
    "```python\n",
    "print(my_variable)\n",
    "```"
   ]
  },
  {
   "cell_type": "markdown",
   "metadata": {
    "slideshow": {
     "slide_type": "subslide"
    }
   },
   "source": [
    "## Conditionals as control logic\n",
    "\n",
    "```python\n",
    "if age < 18:\n",
    "    print('You cannot buy alcohol!')\n",
    "else:\n",
    "    print('Cheers!')\n",
    "```"
   ]
  },
  {
   "cell_type": "markdown",
   "metadata": {
    "slideshow": {
     "slide_type": "subslide"
    }
   },
   "source": [
    "## Lists\n",
    "\n",
    "```python\n",
    "numbers = [1, 2, 5, 7]\n",
    "print(numbers[0])\n",
    "```"
   ]
  },
  {
   "cell_type": "markdown",
   "metadata": {
    "slideshow": {
     "slide_type": "subslide"
    }
   },
   "source": [
    "## Loops\n",
    "\n",
    "```python\n",
    "while True:\n",
    "    print('Loopin')\n",
    "```"
   ]
  },
  {
   "cell_type": "markdown",
   "metadata": {
    "slideshow": {
     "slide_type": "subslide"
    }
   },
   "source": [
    "\n",
    "\n",
    "## Course content\n",
    "\n",
    "* Sequential execution, expression, selection, iteration, state, variable, assignment\n",
    "* String manipulation and text files\n",
    "* Testing and debugging\n",
    "* Stacks and queues, sorting\n",
    "* Worst-case running time\n",
    "* Abstract data types, types\n",
    "* Objects, classes"
   ]
  },
  {
   "cell_type": "markdown",
   "metadata": {
    "slideshow": {
     "slide_type": "subslide"
    }
   },
   "source": [
    "## What you can do now\n",
    "\n",
    "* Write actual programs that can do actual processing\n",
    "  * Text\n",
    "  * Numbers\n",
    "* Run the programs on an actual computer"
   ]
  },
  {
   "cell_type": "markdown",
   "metadata": {
    "slideshow": {
     "slide_type": "subslide"
    }
   },
   "source": [
    "## What we will learn now\n",
    "\n",
    "* Interacting with the environment\n",
    "  * Today: other people's code\n",
    "  * Next week: data on a large scale"
   ]
  },
  {
   "cell_type": "markdown",
   "metadata": {
    "slideshow": {
     "slide_type": "subslide"
    }
   },
   "source": [
    "## Learning outcomes\n",
    "\n",
    "* *analyse* a given, simple computational task such as manipulation of a text-based database or external hardware device to the extent of designing a programmatic solution and implementing it in a modern, text-base, domain-neutral programming language\n",
    "* *test* the correctness of a piece of code\n",
    "* write* program documentation\n",
    "* *reason* about the computational complexity of an algorithm\n",
    "* *express* functionality in terms of abstract data type or application programming interface\n",
    "* *use* text-based tools of program developement, including an editor, command-line tools, and a version control system."
   ]
  },
  {
   "cell_type": "markdown",
   "metadata": {
    "slideshow": {
     "slide_type": "subslide"
    }
   },
   "source": [
    "## Where you are on the curve\n",
    "\n",
    "![](../session_1/images/donning-kruger.png)"
   ]
  },
  {
   "cell_type": "markdown",
   "metadata": {
    "slideshow": {
     "slide_type": "subslide"
    }
   },
   "source": [
    "## Being wrong is ok"
   ]
  },
  {
   "cell_type": "markdown",
   "metadata": {
    "slideshow": {
     "slide_type": "fragment"
    }
   },
   "source": [
    "## ... But fail fast!"
   ]
  },
  {
   "cell_type": "markdown",
   "metadata": {
    "slideshow": {
     "slide_type": "subslide"
    }
   },
   "source": [
    "# A note on the hand-in\n",
    "\n",
    "I wrote an erroneous message to all of you about the assignments.\n",
    "\n",
    "There were some misunderstandings about the topic. I'm very sorry for the confusion, but I forgot to properly update the assignment.\n",
    "\n",
    "Please refresh the assignment, so you're not working on the wrong assignment!"
   ]
  }
 ],
 "metadata": {
  "celltoolbar": "Slideshow",
  "kernelspec": {
   "display_name": "Python 3",
   "language": "python",
   "name": "python3"
  },
  "language_info": {
   "codemirror_mode": {
    "name": "ipython",
    "version": 3
   },
   "file_extension": ".py",
   "mimetype": "text/x-python",
   "name": "python",
   "nbconvert_exporter": "python",
   "pygments_lexer": "ipython3",
   "version": "3.6.3"
  }
 },
 "nbformat": 4,
 "nbformat_minor": 2
}
