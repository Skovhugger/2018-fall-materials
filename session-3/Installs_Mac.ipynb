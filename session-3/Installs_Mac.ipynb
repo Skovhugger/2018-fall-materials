{
 "cells": [
  {
   "cell_type": "markdown",
   "metadata": {},
   "source": [
    "# Installation Guide MacOS\n",
    "\n",
    "We will now install a number of tools you will need throughout the seminar.\n",
    "\n",
    "Please follow the order below, and **read the instructions carefully**. Don't hesitate to ask a TA or lecturer if you see anything weird or unexpected.\n",
    "\n",
    "**Note:** If you encounter a *warning* when running any of the below commands, that probably normal. Be concerned if you see an *error* though!"
   ]
  },
  {
   "cell_type": "markdown",
   "metadata": {},
   "source": [
    "## 1  - The Terminal \n",
    "\n",
    "Open a terminal: \n",
    "* either open Spotlight with Command+Space and type 'terminal' and Enter\n",
    "* or click the icon if it is present on your Dock \n",
    "\n",
    "![First image](images/Mac_terminal.png)\n",
    "\n",
    "### Test  \n",
    "\n",
    "In the terminal enter the following (the first '\\$' indicates a command line in a terminal so don't write that): \n",
    "\n",
    "```bash\n",
    "$ echo $0\n",
    "```\n",
    "\n",
    "which should return `bash` and \n",
    "\n",
    "```bash\n",
    "$ echo $SHELL\n",
    "```\n",
    "\n",
    "which should return `/bin/bash` or similar. If you got 'tsh' or 'zsh' instead of 'bash' for these two commands then contact an instructor.  \n",
    "\n",
    "![First image](images/Mac_shell.png)\n",
    "\n",
    "\n",
    "Now try \n",
    "\n",
    "```bash\n",
    "$ top\n",
    "```\n",
    "\n",
    "which gives you an overview of the running processes on your computer. 'q' to exit. "
   ]
  },
  {
   "cell_type": "markdown",
   "metadata": {
    "collapsed": true
   },
   "source": [
    "## 2 - Installing Anaconda from USB key or Website.\n",
    "\n",
    "If you are in class and have access to one of the distributed USB keys, then copy the folder named `Mac` to your computer. Subsequently, pass the USB key on to one of your fellow students or an instructor **before** proceeding.  \n",
    "\n",
    "If you are performing the installation at home instead of at ITU navigate to https://www.anaconda.com/download/#macos and download Anaconda with Python 3.6 by clicking the big green download button.\n",
    "\n",
    "Run the installer `Anaconda3-5.2.0-MacOSX-x86_64.pkg` either from the `Mac` folder in case you had access to a USB key or from the `Downloads` folder in case you are working from home.\n",
    "\n",
    "For detailed installation instructions, navigate to https://docs.anaconda.com/anaconda/install/mac-os#macos-graphical-install and follow the instructions from **step 3**.  \n",
    "Do **not** install VS Code. It is in the folder you copied from the USB stick and we will install it separately, see below.  \n",
    "\n",
    "While you are waiting for the download and installer, have a look at this introduction to Python and command lines: https://opentechschool.github.io/python-beginners/en/getting_started.html#what-is-python-exactly\n",
    "\n",
    "### Test your Anaconda installation.  \n",
    "\n",
    "In the terminal run  \n",
    "\n",
    "```bash \n",
    "$ conda list\n",
    "```\n",
    "\n",
    "which should return something similar to:\n",
    "\n",
    "``` \n",
    "# packages in environment at /home/user/anaconda:\n",
    "#\n",
    "anaconda                  custom           py36hbbc8b67_0  \n",
    "anaconda-client           1.6.5            py36h19c0dcd_0  \n",
    "anaconda-navigator        1.6.9            py36h11ddaaa_0  \n",
    "```\n",
    "\n",
    "The three columns continue, the left one being package names, the middle one version numbers, the right one being what programming language the package belongs to.  \n",
    "Next run \n",
    "\n",
    "```bash \n",
    "$ python --version\n",
    "```\n",
    "\n",
    "which should return `Python 3.6.X`, where `X` is 4 or above."
   ]
  },
  {
   "cell_type": "markdown",
   "metadata": {},
   "source": [
    "## 3 - pytest  \n",
    "\n",
    "`pytest` should have been installed with Anaconda and Python. Run it from the terminal like so: \n",
    "\n",
    "```bash \n",
    "$ pytest --version\n",
    "```\n",
    "\n",
    "If it is installed it will return something like \n",
    "\n",
    "``` \n",
    "This is pytest version 3.3.2, imported from /.../anaconda3/lib/python3.6/site-packages/pytest.py\n",
    "```\n",
    "\n",
    "If it is not installed you will get an error message about the command not being found. If that is the case, use the following command in the terminal to install `pytest`:\n",
    "\n",
    "```bash \n",
    "$ pip install pytest\n",
    "```  \n",
    "\n",
    "If `pip` also gives you an error message then go: \n",
    "\n",
    "```bash \n",
    "$ conda install pip \n",
    "```"
   ]
  }
 ],
 "metadata": {
  "kernelspec": {
   "display_name": "Python 3",
   "language": "python",
   "name": "python3"
  },
  "language_info": {
   "codemirror_mode": {
    "name": "ipython",
    "version": 3
   },
   "file_extension": ".py",
   "mimetype": "text/x-python",
   "name": "python",
   "nbconvert_exporter": "python",
   "pygments_lexer": "ipython3",
   "version": "3.6.3"
  },
  "latex_envs": {
   "LaTeX_envs_menu_present": true,
   "autoclose": false,
   "autocomplete": true,
   "bibliofile": "biblio.bib",
   "cite_by": "apalike",
   "current_citInitial": 1,
   "eqLabelWithNumbers": true,
   "eqNumInitial": 1,
   "hotkeys": {
    "equation": "Ctrl-E",
    "itemize": "Ctrl-I"
   },
   "labels_anchors": false,
   "latex_user_defs": false,
   "report_style_numbering": false,
   "user_envs_cfg": false
  }
 },
 "nbformat": 4,
 "nbformat_minor": 2
}
