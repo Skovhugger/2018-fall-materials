{
 "cells": [
  {
   "cell_type": "markdown",
   "metadata": {
    "slideshow": {
     "slide_type": "slide"
    }
   },
   "source": [
    "## Creating Python programs\n",
    "\n",
    "So far you have been working with a Python file inside Mu. Mu is just one way to interact with Python.\n",
    "\n",
    "All the programs on your computer is also programmed by progammers like you. But when you run a program on your computer, you don't see them in Mu!"
   ]
  },
  {
   "cell_type": "markdown",
   "metadata": {
    "slideshow": {
     "slide_type": "subslide"
    }
   },
   "source": [
    "## Programs as files\n",
    "\n",
    "Actually all programs are files. Code files. They contain instructions that you can give to your computer to execute.\n",
    "\n",
    "That's why you can click on a program and run it without an editor like Mu."
   ]
  },
  {
   "cell_type": "markdown",
   "metadata": {
    "slideshow": {
     "slide_type": "slide"
    }
   },
   "source": [
    "# Working with the terminal\n",
    "\n",
    "The aim of this session is to get you settled using the terminal.\n",
    "\n",
    "We will install the _Python_ programming language (version 3.6) via a distribution called _Anaconda_."
   ]
  },
  {
   "cell_type": "markdown",
   "metadata": {
    "slideshow": {
     "slide_type": "subslide"
    }
   },
   "source": [
    "Here is what you need to do:\n",
    "\n",
    "1. Open the session repository on GitHub [https://github.com/itu-qsp/](github.com/itu-qsp/) in your browser. \n",
    "2. Locate the `2018-fall-materials` repository and open `session-3`.\n",
    "3. Notice the three notebooks prefixed with `Installs_`\n",
    "4. Follow the guide for your platform, and don't be afraid to ask questions\n",
    "\n",
    "![](images/working.gif)"
   ]
  }
 ],
 "metadata": {
  "celltoolbar": "Slideshow",
  "kernelspec": {
   "display_name": "Python 3",
   "language": "python",
   "name": "python3"
  },
  "language_info": {
   "codemirror_mode": {
    "name": "ipython",
    "version": 3
   },
   "file_extension": ".py",
   "mimetype": "text/x-python",
   "name": "python",
   "nbconvert_exporter": "python",
   "pygments_lexer": "ipython3",
   "version": "3.6.4"
  }
 },
 "nbformat": 4,
 "nbformat_minor": 2
}
