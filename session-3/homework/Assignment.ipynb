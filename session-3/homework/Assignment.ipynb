{
 "cells": [
  {
   "cell_type": "markdown",
   "metadata": {},
   "source": [
    "# Assignment 3: Programs and modules\n",
    "\n",
    "Please remember to hand in the solutions in a single `.zip` file, where you give the answers for each part in separate files.\n",
    "\n",
    "## Part 1: Using the command line\n",
    "\n",
    "Practice using the command line by creating a new folder called `my folder`. The enter it and create a python file called `incrementor.py`. Open it in Mu to verify that it exists and is empty.\n",
    "\n",
    "## Part 2: Debugging loops\n",
    "Download the file `loops.py`, open it in Mu and use the debugger to understand the program. Answer the following questions:\n",
    "\n",
    "* What is the difference between the variable called `ingredients` and the variable called `ingredient`?\n",
    "* Why are there two `for` loops? \n",
    "\n",
    "Finally, rewrite the code to do the same thing, but using one single `for` loop. In other words you need to replace line 13 and 14 with something that replaces the lines, but without using a loop.\n",
    "* Hint: Do you remember how to convert a list of strings into a single string using `join`?\n",
    "\n",
    "## Part 3: Understanding command line programs\n",
    "Download the file `cli_program.py`, open it in Mu and describe what it does. Write a few lines of prose describing the program in general terms. Then answer the following questions:\n",
    "\n",
    "* What does `sys.argv[1]` mean? \n",
    "* What does `for line in sys.stdin` mean?\n",
    "* What does `line.replace(...)` mean?\n",
    "\n",
    "## Part 4: Creating a command line Python program\n",
    "Your job is to write the code necessary for a program to take an argument from the command line and return its value increased by one. \n",
    "\n",
    "Assuming your file is called `incrementor.py`, the goal is to make the following command give back the number `3`:\n",
    "```bash\n",
    "python incrementor.py 2\n",
    "```\n",
    "\n",
    "* Hint: Break this down into smaller steps. First, can you write a program that prints out the number you give it? (And **ONLY** prints it out, nothing else -- wait with the rest!). So if you write `python incrementor.py 9` can you make it print `9`? Next step: can you make it print out `10`?\n",
    "* Hint: If you don't remember what an argument it, now's a good time to revisit the materials we prepared for you."
   ]
  },
  {
   "cell_type": "code",
   "execution_count": null,
   "metadata": {},
   "outputs": [],
   "source": []
  }
 ],
 "metadata": {
  "kernelspec": {
   "display_name": "Python 3",
   "language": "python",
   "name": "python3"
  },
  "language_info": {
   "codemirror_mode": {
    "name": "ipython",
    "version": 3
   },
   "file_extension": ".py",
   "mimetype": "text/x-python",
   "name": "python",
   "nbconvert_exporter": "python",
   "pygments_lexer": "ipython3",
   "version": "3.6.6"
  }
 },
 "nbformat": 4,
 "nbformat_minor": 2
}
