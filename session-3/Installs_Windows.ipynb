{
 "cells": [
  {
   "cell_type": "markdown",
   "metadata": {},
   "source": [
    "# Installation Guide for Windows\n",
    "\n",
    "We will now install a number of tools you will need throughout the seminar.\n",
    "\n",
    "Please follow the order below, and **read the instructions carefully**. Don't hesitate to ask a TA or lecturer if you see anything weird or unexpected.\n",
    "\n",
    "**Note:** If you encounter a *warning* when running any of the below commands, that probably normal. Be concerned if you see an *error* though!"
   ]
  },
  {
   "cell_type": "markdown",
   "metadata": {},
   "source": [
    "## 1  - Install Git Bash.\n",
    "\n",
    "Go to https://gitforwindows.org and download Git for Windows. After download completes, run the installer and choose the following settings\n",
    "\n",
    "![First image](images/1.png)\n",
    "\n",
    "![First image](images/2.png)\n",
    "\n",
    "![First image](images/3.png)\n",
    "\n",
    "![First image](images/4.png)\n",
    "\n",
    "\n",
    "\n",
    "\n",
    "### Very important to choose the Nano as in the image below\n",
    "\n",
    "![First image](images/5.png)\n",
    "\n",
    "![First image](images/6.png)\n",
    "\n",
    "![First image](images/7.png)\n",
    "\n",
    "\n",
    "\n",
    "### Very important to choose the setting shown below\n",
    "\n",
    "![First image](images/8.png)\n",
    "\n",
    "\n",
    "The rest is just default settings.\n"
   ]
  },
  {
   "cell_type": "markdown",
   "metadata": {},
   "source": [
    "## 2 - Installing Anaconda from USB key or Website.\n",
    "\n",
    "If you are in class and have access to one of the distributed USB keys, then copy the folder named `Windows` to your computer. Subsequently, pass the key on to one of your fellow students.\n",
    "\n",
    "If you are working from home or you do not have a USB port then go to the following website https://www.anaconda.com/download/#windows and download Anaconda with Python 3.6 by clicking the big green download button.\n",
    "\n",
    "The download will take quite some time. Once completed, run the installer and choose the default settings except for the advanced options. Here you will choose the settings as shown below.\n",
    "\n",
    "While you are waiting for the download and installer, have a look at this introduction to Python and command lines: https://opentechschool.github.io/python-beginners/en/getting_started.html#what-is-python-exactly\n",
    "\n",
    "![First image](images/Ana_1.png)\n",
    "   "
   ]
  },
  {
   "cell_type": "markdown",
   "metadata": {},
   "source": [
    "\n",
    "## 3 - Test your Anaconda installation.\n",
    "\n",
    "Open Git Bash by clicking it's icon and type:\n",
    "Note, the first `$` indicates a command line in a terminal so don't write that.\n",
    "\n",
    "```bash \n",
    "$ python --version\n",
    "```\n",
    "\n",
    "which should return `Python 3.6.X` (X should be 4 or above)\n",
    "\n",
    "##### I get Python version 2, not 3\n",
    "\n",
    "If your python is version 2, then you may need to change the Windows `PATH` variable.\n",
    "\n",
    "Here you need to open `Komandoprompt` (`command prompt` on an English setup) as in the image below.\n",
    "\n",
    "![First image](images/komando.png)\n",
    "\n",
    "In the `Komandoprompt` window type the following:\n",
    "\n",
    "**OBS**: Replace the `<your username>` in the pathes below with your username when typing in the command.\n",
    "\n",
    "```bash \n",
    "$ SETX PATH \"%PATH%;C:/Users/<your username>/Anaconda3/Scripts;C:/Users/<your username>/Anaconda3\"\n",
    "```\n",
    "\n",
    "Remember to change the path so it conatains your actual username.\n",
    "    \n",
    "That should return\n",
    "\n",
    "```bash \n",
    " SUCCESS: Specified value was saved. \n",
    "```\n"
   ]
  },
  {
   "cell_type": "markdown",
   "metadata": {},
   "source": [
    "## 4 - pytest  \n",
    "\n",
    "`pytest` should have been installed with Anaconda and Python. Run it from the Git Bash like so: \n",
    "\n",
    "```bash \n",
    "$ pytest --version\n",
    "```\n",
    "\n",
    "If it is installed it will print something similar to the following:\n",
    "\n",
    "``` \n",
    "This is pytest version 3.3.2, imported from /.../anaconda3/lib/python3.6/site-packages/pytest.py\n",
    "```\n",
    "\n",
    "If it is not installed you will get an error message about the command not being found. If that is the case, use the following command to install `pytest`: \n",
    "\n",
    "```bash \n",
    "$ pip install pytest\n",
    "```  \n",
    "\n",
    "If `pip` also gives you an error message then install `pip` via: \n",
    "\n",
    "```bash \n",
    "$ conda install pip \n",
    "```"
   ]
  }
 ],
 "metadata": {
  "kernelspec": {
   "display_name": "Python 3",
   "language": "python",
   "name": "python3"
  },
  "language_info": {
   "codemirror_mode": {
    "name": "ipython",
    "version": 3
   },
   "file_extension": ".py",
   "mimetype": "text/x-python",
   "name": "python",
   "nbconvert_exporter": "python",
   "pygments_lexer": "ipython3",
   "version": "3.6.4"
  }
 },
 "nbformat": 4,
 "nbformat_minor": 2
}
