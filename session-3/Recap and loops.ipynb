{
 "cells": [
  {
   "cell_type": "markdown",
   "metadata": {},
   "source": [
    "# Hej! "
   ]
  },
  {
   "cell_type": "markdown",
   "metadata": {
    "slideshow": {
     "slide_type": "subslide"
    }
   },
   "source": [
    "## How to hand in\n",
    "\n",
    "![](images/handins.png)"
   ]
  },
  {
   "cell_type": "markdown",
   "metadata": {
    "slideshow": {
     "slide_type": "subslide"
    }
   },
   "source": [
    "## For hand ins, we need\n",
    "\n",
    "1. To see who submitted it (ITU username)\n",
    "2. To not mess with 1000 differently named files\n",
    "\n",
    "**Please** call your hand in: **sol-xxx.zip** where **xxx** is your ITU username"
   ]
  },
  {
   "cell_type": "markdown",
   "metadata": {
    "slideshow": {
     "slide_type": "slide"
    }
   },
   "source": [
    "# What have we learned so far?"
   ]
  },
  {
   "cell_type": "markdown",
   "metadata": {
    "slideshow": {
     "slide_type": "subslide"
    }
   },
   "source": [
    "## Control Structures\n",
    "\n",
    "  * Sequences of statements\n",
    "  ```python\n",
    "    fst_sentence = 'Call me Ishmael.'\n",
    "    fst_sentence = fst_sentence.split()\n",
    "    fst_sentence[-1] = 'Jens.'\n",
    "    print(' '.join(fst_sentence))\n",
    "  ```"
   ]
  },
  {
   "cell_type": "markdown",
   "metadata": {
    "slideshow": {
     "slide_type": "subslide"
    }
   },
   "source": [
    "  * Conditional statements \n",
    "  ```python\n",
    "    if filename == 'sol-ropf.zip':\n",
    "        do_something()\n",
    "    else:\n",
    "        do_something_else()\n",
    "  ```"
   ]
  },
  {
   "cell_type": "markdown",
   "metadata": {
    "slideshow": {
     "slide_type": "subslide"
    }
   },
   "source": [
    "  * Grouping of repetitive tasks in loops\n",
    "  ```python\n",
    "    for element in collection:\n",
    "        do_something_with(element)\n",
    "  ```\n",
    "  ```python\n",
    "    while condition:\n",
    "        do_something()\n",
    "  ```"
   ]
  },
  {
   "cell_type": "markdown",
   "metadata": {
    "slideshow": {
     "slide_type": "fragment"
    }
   },
   "source": [
    "More on loops in a moment..."
   ]
  },
  {
   "cell_type": "markdown",
   "metadata": {
    "slideshow": {
     "slide_type": "subslide"
    }
   },
   "source": [
    "## Datastructures\n",
    "\n",
    "  * Basic Datatypes: Integer, Float, String\n",
    "  ```python\n",
    "    print(42)\n",
    "    print(42.0)\n",
    "    print('Fourtytwo!')\n",
    "  ```\n",
    "  * Lists\n",
    "  ```python\n",
    "    print([42, 42.0, 'Fourtytwo!'])\n",
    "  ```  "
   ]
  },
  {
   "cell_type": "markdown",
   "metadata": {
    "slideshow": {
     "slide_type": "subslide"
    }
   },
   "source": [
    "## More on loops\n",
    "\n",
    "Loops are a way to **repeat the same code** again and again, but for different inputs.\n",
    "\n",
    "Imagine that you run a chatroom, and you want to print how many users are online *every time* someone logs in.\n",
    "\n",
    "That message would be `'Users online: X'` where `X` is the number of users. In Python that would be\n",
    "```python\n",
    "print('Users online: ' + str(users_online))\n",
    "```\n",
    "... where the **variable** `users_online` is an integer"
   ]
  },
  {
   "cell_type": "markdown",
   "metadata": {
    "slideshow": {
     "slide_type": "subslide"
    }
   },
   "source": [
    "So in *pseudocode* we need something like:\n",
    "\n",
    "```\n",
    "set users_online to 0\n",
    "Everytime a user logs in:\n",
    "   print 'Users online X'\n",
    "   wait for another user to log in\n",
    "```"
   ]
  },
  {
   "cell_type": "markdown",
   "metadata": {
    "slideshow": {
     "slide_type": "subslide"
    }
   },
   "source": [
    "This code has a bug. Fix it and then run this through the debugger step by step:\n",
    "```python\n",
    "online_users = 0\n",
    "\n",
    "while online_users < 100:\n",
    "    message = 'Users online: ' + users_online\n",
    "    print(message)\n",
    "    online_users += 1\n",
    "```"
   ]
  },
  {
   "cell_type": "markdown",
   "metadata": {
    "slideshow": {
     "slide_type": "subslide"
    }
   },
   "source": [
    "Run this through the debugger step by step:\n",
    "\n",
    "```python\n",
    "from turtle import forward, right\n",
    "\n",
    "\n",
    "while True:\n",
    "    forward(100)\n",
    "    right(45)\n",
    "```"
   ]
  },
  {
   "cell_type": "markdown",
   "metadata": {
    "slideshow": {
     "slide_type": "subslide"
    }
   },
   "source": [
    "Run this through the debugger step by step:\n",
    "\n",
    "```python\n",
    "\n",
    "my_list = [1, 2, 3, 4]\n",
    "for i in my_list:\n",
    "    print(i)\n",
    "```"
   ]
  },
  {
   "cell_type": "markdown",
   "metadata": {
    "slideshow": {
     "slide_type": "subslide"
    }
   },
   "source": [
    "Run this through the debugger step by step:\n",
    "\n",
    "```python\n",
    "from turtle import forward, left\n",
    "\n",
    "\n",
    "turtle_moves = [100, 200, 100, -20]\n",
    "for move in turtle_moves:\n",
    "    forward(move)\n",
    "    left(90)\n",
    "```"
   ]
  },
  {
   "cell_type": "markdown",
   "metadata": {
    "slideshow": {
     "slide_type": "subslide"
    }
   },
   "source": [
    "## The infinite loop\n",
    "\n",
    "```python\n",
    "while True:\n",
    "    ...\n",
    "```"
   ]
  },
  {
   "cell_type": "markdown",
   "metadata": {
    "slideshow": {
     "slide_type": "subslide"
    }
   },
   "source": [
    "\n",
    "Seen on SWU memes\n",
    "\n",
    "![](images/loops.jpg)"
   ]
  }
 ],
 "metadata": {
  "celltoolbar": "Slideshow",
  "kernelspec": {
   "display_name": "Python 3",
   "language": "python",
   "name": "python3"
  },
  "language_info": {
   "codemirror_mode": {
    "name": "ipython",
    "version": 3
   },
   "file_extension": ".py",
   "mimetype": "text/x-python",
   "name": "python",
   "nbconvert_exporter": "python",
   "pygments_lexer": "ipython3",
   "version": "3.6.4"
  }
 },
 "nbformat": 4,
 "nbformat_minor": 2
}
