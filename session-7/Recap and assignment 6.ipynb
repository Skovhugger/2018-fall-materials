{
 "cells": [
  {
   "cell_type": "markdown",
   "metadata": {
    "slideshow": {
     "slide_type": "slide"
    }
   },
   "source": [
    "# The seminar so far....\n",
    "\n",
    "* Session 1: Data types and variables\n",
    "* Session 2: Lists and loops\n",
    "* Session 3: Command-line interface\n",
    "* Session 4: Functions and modules\n",
    "* Session 5: Files and objects\n",
    "* Session 6: Excel and tests"
   ]
  },
  {
   "cell_type": "markdown",
   "metadata": {
    "slideshow": {
     "slide_type": "subslide"
    }
   },
   "source": [
    "## Remaining sessions\n",
    "\n",
    "* Session 7: Algorithms and runtimes\n",
    "* Session 8: Abstract data types\n",
    "* Session 9: Network and the internet\n",
    "* Session 10: Project and Q&A"
   ]
  },
  {
   "cell_type": "markdown",
   "metadata": {
    "slideshow": {
     "slide_type": "subslide"
    }
   },
   "source": [
    "## Assignment 6: refactoring"
   ]
  },
  {
   "cell_type": "markdown",
   "metadata": {
    "slideshow": {
     "slide_type": "fragment"
    }
   },
   "source": [
    "* Two functions doing almost the same - except for one string\n",
    "* Solution: Turn the string into a parameter\n",
    "  - Also known as parameterisation"
   ]
  },
  {
   "cell_type": "markdown",
   "metadata": {
    "slideshow": {
     "slide_type": "subslide"
    }
   },
   "source": [
    "## Visual studio code\n",
    "\n",
    "* Mu keeps crashing for some students\n",
    "* Visual Studio Code is an alternative (see LearnIT)"
   ]
  }
 ],
 "metadata": {
  "celltoolbar": "Slideshow",
  "kernelspec": {
   "display_name": "Python 3",
   "language": "python",
   "name": "python3"
  },
  "language_info": {
   "codemirror_mode": {
    "name": "ipython",
    "version": 3
   },
   "file_extension": ".py",
   "mimetype": "text/x-python",
   "name": "python",
   "nbconvert_exporter": "python",
   "pygments_lexer": "ipython3",
   "version": "3.6.3"
  }
 },
 "nbformat": 4,
 "nbformat_minor": 2
}
