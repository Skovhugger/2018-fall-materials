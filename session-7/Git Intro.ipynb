{
 "cells": [
  {
   "cell_type": "markdown",
   "metadata": {
    "slideshow": {
     "slide_type": "slide"
    }
   },
   "source": [
    "# Programming is a social activity\n",
    "\n",
    "* Windows: ~60 MLOC\n",
    "* Mac OSX: ~50 MLOC\n",
    "* Linux: ~20 MLOC\n",
    "\n",
    "* Computer programs are so complicated, that it is _very_ rare to work on them alone"
   ]
  },
  {
   "cell_type": "markdown",
   "metadata": {
    "slideshow": {
     "slide_type": "fragment"
    }
   },
   "source": [
    "* How do you collaborate on code?"
   ]
  },
  {
   "cell_type": "markdown",
   "metadata": {
    "slideshow": {
     "slide_type": "subslide"
    }
   },
   "source": [
    "## 1: Collaboration by copy-pasting\n",
    "\n",
    "1. Write code locally\n",
    "2. Copy code to friend\n",
    "3. Deal with the differences"
   ]
  },
  {
   "cell_type": "markdown",
   "metadata": {
    "slideshow": {
     "slide_type": "subslide"
    }
   },
   "source": [
    "## 2: \"Lock\" code until one collaborator is done\n",
    "\n",
    "1. Acquire permission to work on code exclusively\n",
    "2. Do your work\n",
    "3. Release permission to the next programmer"
   ]
  },
  {
   "cell_type": "markdown",
   "metadata": {
    "slideshow": {
     "slide_type": "subslide"
    }
   },
   "source": [
    "## 3: Have a central \"code manager\"\n",
    "\n",
    "1. Developers ask central authority for latest version\n",
    "2. Developers updates that version with new functionality\n",
    "3. Developers pushes their new version to the central authority"
   ]
  },
  {
   "cell_type": "markdown",
   "metadata": {
    "slideshow": {
     "slide_type": "fragment"
    }
   },
   "source": [
    "* Also known as a **version control system** (VCS)"
   ]
  },
  {
   "cell_type": "markdown",
   "metadata": {
    "slideshow": {
     "slide_type": "slide"
    }
   },
   "source": [
    "# Git - A Version Control System (VCS)\n",
    "\n",
    "Git is a Version Control System (VCS), which was originally developed by Linus Torvalds the creator of the Linux kernel.\n",
    "\n",
    "<img src=\"http://fossbytes.com/wp-content/uploads/2015/10/linus-torvalds-linux-kernel-arm.jpg\" alt=\"Drawing\" style=\"width: 500px;\"/>"
   ]
  },
  {
   "cell_type": "markdown",
   "metadata": {
    "slideshow": {
     "slide_type": "subslide"
    }
   },
   "source": [
    "You can use Git for many things. One of the main features of VCSs is that you can keep track of your changes to your files. That is, you can use it as a kind of memory in which you can jump back and forth.\n",
    "\n",
    "Importantly, you can manage any files of any project with Git. So that might be relevant for your studies even when you are not necessarily coding.\n",
    "\n",
    "Let's try that on an example project."
   ]
  },
  {
   "cell_type": "markdown",
   "metadata": {
    "slideshow": {
     "slide_type": "subslide"
    }
   },
   "source": [
    "## The `git` command\n",
    "\n",
    "Git can be invoked from your terminal with the command `git`. Try to type that now."
   ]
  },
  {
   "cell_type": "markdown",
   "metadata": {
    "slideshow": {
     "slide_type": "fragment"
    }
   },
   "source": [
    "You will get a looooong list possible ways to interact with git.\n",
    "\n",
    "We will **not** cover them now. We will only cover how to *get* and *update* the course material."
   ]
  },
  {
   "cell_type": "markdown",
   "metadata": {
    "slideshow": {
     "slide_type": "slide"
    }
   },
   "source": [
    "## GitHub as a git VCS server\n",
    "\n",
    "![](images/git.png)\n",
    "\n",
    "* Our course material is of course using a version control system. And it is hosted by the GitHub service."
   ]
  },
  {
   "cell_type": "markdown",
   "metadata": {
    "slideshow": {
     "slide_type": "subslide"
    }
   },
   "source": [
    "## Cloning the course material\n",
    "\n",
    "* Last session you **cloned** the qualification seminar materials **repository**, to get all the changes so far.\n",
    "  * `git clone ...`\n",
    "  \n",
    " \n",
    "![](images/clone.png)\n"
   ]
  },
  {
   "cell_type": "markdown",
   "metadata": {
    "slideshow": {
     "slide_type": "subslide"
    }
   },
   "source": [
    "## Getting up to date material\n",
    "\n",
    "* Cloning the material gets you the **current version**\n",
    "* Spoiler alert: We have updated the code since Wednesday..."
   ]
  },
  {
   "cell_type": "markdown",
   "metadata": {
    "slideshow": {
     "slide_type": "subslide"
    }
   },
   "source": [
    "## `git status`\n",
    "\n",
    "* After cloning the repository you have an actual git repository\n",
    "* You can now type in `git status` to see the current state of the repository\n",
    "* You will probably see some red files like so:\n",
    "\n",
    "![](images/status.png)"
   ]
  },
  {
   "cell_type": "markdown",
   "metadata": {
    "slideshow": {
     "slide_type": "subslide"
    }
   },
   "source": [
    "## Save your local changes!\n",
    "\n",
    "* If you have red lines like that it means that you **changed some files**\n",
    "* These changes **only exists locally**. No one else knows about this\n",
    "\n",
    "\n",
    "* Unfortunately we cannot allow you to add your changes to the common repository\n",
    "* We will now **overwrite** your changes. If you want to save them you have to copy them somewhere else!"
   ]
  },
  {
   "cell_type": "markdown",
   "metadata": {
    "slideshow": {
     "slide_type": "subslide"
    }
   },
   "source": [
    "## Using `git pull`\n",
    "\n",
    "* To get the newest version from GitHub you could just type:\n",
    "  * `git pull`\n",
    "  \n",
    "* If you don't have any changes, this will work fine\n",
    "* If you changed some files, then you have to \"hide\" them first. You can do this by typing\n",
    "  * `git stash` <-- **ONLY do this AFTER you backed up your changes**"
   ]
  },
  {
   "cell_type": "markdown",
   "metadata": {
    "slideshow": {
     "slide_type": "subslide"
    }
   },
   "source": [
    "## That's it!\n",
    "\n",
    "* You know have the latest version of your material.\n",
    "* Do the `git pull` once in a while to get the latest version of the slides, exercises, assignments and solutions\n",
    "\n",
    "\n",
    "* You can always find the most up-to-date version here: https://github.com/itu-summer/qualification-seminar-materials-2018"
   ]
  },
  {
   "cell_type": "markdown",
   "metadata": {
    "slideshow": {
     "slide_type": "subslide"
    }
   },
   "source": [
    "-------------------\n",
    "\n",
    "\n",
    "\n",
    "# Starting to work with git\n",
    "\n",
    "* We will explain how to create and work with your own git repository below. \n",
    "* There is a great tutorial on how to do this available here: https://try.github.io/\n",
    "\n",
    "* If you have time, try to run through the below examples and play around with the tutorial. But this is not mandatory."
   ]
  },
  {
   "cell_type": "markdown",
   "metadata": {
    "slideshow": {
     "slide_type": "subslide"
    }
   },
   "source": [
    "Create a new directory in your favourite workspace directory:\n",
    "\n",
    "```bash\n",
    "cd my-workspace-directory/     # Could be ~/Documents/workspace/ or just ~/workspace/\n",
    "mkdir my_new_python_project\n",
    "```"
   ]
  },
  {
   "cell_type": "markdown",
   "metadata": {
    "slideshow": {
     "slide_type": "subslide"
    }
   },
   "source": [
    "Change into this new directory and confirm that it is empty.\n",
    "\n",
    "```bash\n",
    "cd my_new_python_project/\n",
    "ls\n",
    "```"
   ]
  },
  {
   "cell_type": "markdown",
   "metadata": {
    "slideshow": {
     "slide_type": "subslide"
    }
   },
   "source": [
    "# Initializing a Git repository\n",
    "\n",
    "Now, we convert our normal directory into a Git _repository_. You can do so via:\n",
    "\n",
    "```bash\n",
    "\n",
    "$ git init\n",
    "Initialized empty Git repository in /Users/rhp/my_new_python_project/.git/\n",
    "```\n",
    "\n",
    "A _repository_ is just a normal directory for which you want to enable tracking of history."
   ]
  },
  {
   "cell_type": "markdown",
   "metadata": {
    "slideshow": {
     "slide_type": "subslide"
    }
   },
   "source": [
    "## Hidden directories\n",
    "\n",
    "* Your computer can **hide** files and folders from you. That is normally done by prefixing a `.` to their name.\n",
    "\n",
    "* Examples are `.` and `..`, meaning \"current directory\" and \"parent directory\" respectively\"\n",
    "\n",
    "* Another example is the `.git` directory"
   ]
  },
  {
   "cell_type": "markdown",
   "metadata": {
    "slideshow": {
     "slide_type": "subslide"
    }
   },
   "source": [
    "The thing that characterizes a Git _repository_ is a hidden directory called `.git`. Within this hidden `.git` directory the history of the files in the current directory `my_new_python_project` is stored. You can see that `.git` directory listed with:\n",
    "\n",
    "```bash\n",
    "$ ls -a\n",
    ".\t..\t.git\n",
    "```"
   ]
  },
  {
   "cell_type": "markdown",
   "metadata": {
    "slideshow": {
     "slide_type": "subslide"
    }
   },
   "source": [
    "## The status of the version\n",
    "\n",
    "Now that you created a git repository, you can ask for the status of the repository:\n",
    "\n",
    "`$ git status`\n",
    "\n",
    "And you will see that your repository is empty and there are no 'commits'. Let's change that!"
   ]
  },
  {
   "cell_type": "markdown",
   "metadata": {
    "slideshow": {
     "slide_type": "subslide"
    }
   },
   "source": [
    "Let's create a new file in the project. It is one of the CLI programs from last session.\n",
    "```bash\n",
    "code cli_replace.py\n",
    "```\n",
    "\n",
    "Copy and paste the following code into the editor window and save the file.\n",
    "\n",
    "```python\n",
    "import sys\n",
    "\n",
    "pattern = sys.argv[1]\n",
    "substitution = sys.argv[2]\n",
    "\n",
    "for line in sys.stdin:\n",
    "    sys.stdout.write(line.replace(pattern, substitution))\n",
    "```"
   ]
  },
  {
   "cell_type": "markdown",
   "metadata": {
    "slideshow": {
     "slide_type": "subslide"
    }
   },
   "source": [
    "Now, we can add that file to be under version control. You have to do that everytime you modified this file and want to keep it's history.\n",
    "\n",
    "~~~bash\n",
    "$ git add cli_replace.py\n",
    "~~~"
   ]
  },
  {
   "cell_type": "markdown",
   "metadata": {
    "slideshow": {
     "slide_type": "fragment"
    }
   },
   "source": [
    "To commit all of the current changes to the history, we have to commit the file together with a message of what we just did.\n",
    "\n",
    "~~~bash\n",
    "$ git commit -m\"Initial commit of a replace command for the command-line\"\n",
    "[master (root-commit) 9a7f59f] Initial commit of a replace command for the command-line\n",
    " 1 file changed, 8 insertions(+)\n",
    " create mode 100644 cli_replace.py\n",
    "~~~"
   ]
  },
  {
   "cell_type": "markdown",
   "metadata": {
    "slideshow": {
     "slide_type": "fragment"
    }
   },
   "source": [
    "To inspect the history of our project, we can ask for the log:\n",
    "\n",
    "~~~bash\n",
    "$ git log\n",
    "commit 9a7f59f0048bd9665567dbf16d4ccea421194f46\n",
    "Author: Helge <rhp@cphbusiness.dk>\n",
    "Date:   Fri Jun 15 10:43:49 2018 +0200\n",
    "\n",
    "    Initial commit of a replace command for the command-line\n",
    "~~~\n",
    "\n",
    "Your `Author` and `Date` lines look likley a bit different."
   ]
  },
  {
   "cell_type": "markdown",
   "metadata": {
    "slideshow": {
     "slide_type": "subslide"
    }
   },
   "source": [
    "You can change the displayed author and the displayed email address via the following two commands respectively:\n",
    "    \n",
    "```bash\n",
    "$ git config --global user.name \"Brian Nielsen\"\n",
    "$ git config --global user.email brian@pære.dk\n",
    "$ git config --global core.editor \"code --wait\"\n",
    "```"
   ]
  },
  {
   "cell_type": "markdown",
   "metadata": {
    "slideshow": {
     "slide_type": "subslide"
    }
   },
   "source": [
    "Now we realize that our program `cli_replace.py` is actually not a good command-line program as there is a line missing, which supresses the execution of the code when imported as a module.\n",
    "\n",
    "So we add a new line on line 3 saying `if __name__ == '__main__':`\n",
    "\n",
    "\n",
    "```python\n",
    "import sys\n",
    "\n",
    "\n",
    "if __name__ == '__main__':\n",
    "    pattern = sys.argv[1]\n",
    "    substitution = sys.argv[2]\n",
    "    for line in sys.stdin:\n",
    "        sys.stdout.write(line.replace(pattern, substitution))\n",
    "```\n"
   ]
  },
  {
   "cell_type": "markdown",
   "metadata": {},
   "source": [
    "After modifications in our repository, we can check for which files we touched and if these changes will be part of the recorded history.\n",
    "\n",
    "~~~bash\n",
    "$ git status\n",
    "On branch master\n",
    "Changes not staged for commit:\n",
    "  (use \"git add <file>...\" to update what will be committed)\n",
    "  (use \"git checkout -- <file>...\" to discard changes in working directory)\n",
    "\n",
    "\tmodified:   cli_replace.py\n",
    "\n",
    "no changes added to commit (use \"git add\" and/or \"git commit -a\")\n",
    "~~~\n",
    "\n",
    "Obviously, they are not yet."
   ]
  },
  {
   "cell_type": "markdown",
   "metadata": {
    "slideshow": {
     "slide_type": "fragment"
    }
   },
   "source": [
    "Consequently, we have to add the file to version control again and we have to commit it to the history.\n",
    "\n",
    "~~~bash\n",
    "$ git add cli_replace.py\n",
    "$ git commit -m\"Added check for program execution from command-line call only.\"\n",
    "[master 236b511] Added check for program execution from command-line call only.\n",
    " 1 file changed, 5 insertions(+), 4 deletions(-)\n",
    "~~~\n",
    "\n"
   ]
  },
  {
   "cell_type": "markdown",
   "metadata": {
    "slideshow": {
     "slide_type": "subslide"
    }
   },
   "source": [
    "The history looks now as in the following:\n",
    "\n",
    "~~~bash\n",
    "$ git log\n",
    "commit 236b5112c5a4e1b1eaf7bbb2cf5b9f01f29199ed\n",
    "Author: Helge <rhp@cphbusiness.dk>\n",
    "Date:   Fri Jun 15 10:45:16 2018 +0200\n",
    "\n",
    "    Added check for program execution from command-line call only.\n",
    "\n",
    "commit 9a7f59f0048bd9665567dbf16d4ccea421194f46\n",
    "Author: Helge <rhp@cphbusiness.dk>\n",
    "Date:   Fri Jun 15 10:43:49 2018 +0200\n",
    "\n",
    "    Initial commit of a replace command for the command-line\n",
    "~~~\n",
    "\n",
    "You can also see a more compressed history via\n",
    "\n",
    "~~~bash\n",
    "$ git log --pretty=oneline\n",
    "236b5112c5a4e1b1eaf7bbb2cf5b9f01f29199ed Added check for program execution from command-line call only.\n",
    "9a7f59f0048bd9665567dbf16d4ccea421194f46 Initial commit of a replace command for the command-line\n",
    "~~~"
   ]
  },
  {
   "cell_type": "markdown",
   "metadata": {
    "slideshow": {
     "slide_type": "subslide"
    }
   },
   "source": [
    "Now, we realize that we better write a bit of documentation next to our program so that we do not forget how to actually use it.\n",
    "\n",
    "Documentation files are often called `README` files and they can be written, e.g., in Markdown, see https://guides.github.com/features/mastering-markdown/. Markdown is a textual syntax for styling text, which is human-readable too.\n",
    "\n",
    "Create a `README.md` file\n",
    "\n",
    "```bash\n",
    "code README.md\n",
    "```\n",
    "\n",
    "And copy and paste the follwowing contents in it:\n",
    "\n",
    "~~~markdown\n",
    "This is a small command-line program, which replaces strings received from StdIn and copies them to StdOut.\n",
    "\n",
    "One can call it from the CLI, for example with:\n",
    "\n",
    "```bash\n",
    "printf \"My cat looks weirdly.\\nThe neighbours cat too...\\n\" | python cli_replace.py cat dog\n",
    "```\n",
    "\n",
    "The program is adapted from: https://wiki.python.org/moin/Powerful%20Python%20One-Liners\n",
    "~~~"
   ]
  },
  {
   "cell_type": "markdown",
   "metadata": {
    "slideshow": {
     "slide_type": "subslide"
    }
   },
   "source": [
    "Save the `README.md` file and do the same as earlier, add and commit it to the history.\n",
    "\n",
    "~~~bash\n",
    "$ git add README.md\n",
    "$ git commit -m\"Added a bit of documentation.\"\n",
    "[master 0a77b68] Added a bit of documentation.\n",
    " 1 file changed, 9 insertions(+)\n",
    " create mode 100644 README.md\n",
    "~~~"
   ]
  },
  {
   "cell_type": "markdown",
   "metadata": {
    "slideshow": {
     "slide_type": "fragment"
    }
   },
   "source": [
    "~~~bash\n",
    "$ git log --pretty=oneline\n",
    "0a77b68fadcb36c5ab8ddf4a32889ae04b0fb9e2 Added a bit of documentation.\n",
    "236b5112c5a4e1b1eaf7bbb2cf5b9f01f29199ed Added check for program execution from command-line call only.\n",
    "9a7f59f0048bd9665567dbf16d4ccea421194f46 Initial commit of a replace command for the command-line\n",
    "~~~"
   ]
  },
  {
   "cell_type": "markdown",
   "metadata": {
    "slideshow": {
     "slide_type": "subslide"
    }
   },
   "source": [
    "Imagine, we continue to work on our `cli_replace.py` program. During that work, we accidently  deleted the first line with the import\n",
    "\n",
    "```python\n",
    "def usage():\n",
    "    print('You have to provide exactly two arguments.')\n",
    "\n",
    "if __name__ == '__main__':\n",
    "    if len(sys.argv) != 3:\n",
    "        usage()\n",
    "        \n",
    "    pattern = sys.argv[1]\n",
    "    substitution = sys.argv[2]\n",
    "\n",
    "    for line in sys.stdin:\n",
    "        sys.stdout.write(line.replace(pattern, substitution))\n",
    "```\n",
    "\n",
    "And the mistake made it into our history...\n",
    "\n",
    "~~~bash\n",
    "$ git add cli_replace.py\n",
    "$ git commit -m\"Added check for right amount of arguments\"\n",
    "[master 3661cdd] Added check for right amount of arguments\n",
    " 1 file changed, 2 insertions(+), 2 deletions(-)\n",
    "~~~"
   ]
  },
  {
   "cell_type": "markdown",
   "metadata": {
    "slideshow": {
     "slide_type": "subslide"
    }
   },
   "source": [
    "You can jump back in history, by pointing to a previous commit.\n",
    "\n",
    "~~~bash\n",
    "$ 3661cdd2e0bdd064ca803f23711e7780120e9a5b Added check for right amount of arguments\n",
    "0a77b68fadcb36c5ab8ddf4a32889ae04b0fb9e2 Added a bit of documentation.\n",
    "236b5112c5a4e1b1eaf7bbb2cf5b9f01f29199ed Added check for program execution from command-line call only.\n",
    "9a7f59f0048bd9665567dbf16d4ccea421194f46 Initial commit of a replace command for the command-line\n",
    "~~~"
   ]
  },
  {
   "cell_type": "markdown",
   "metadata": {
    "slideshow": {
     "slide_type": "subslide"
    }
   },
   "source": [
    "### Hop backwards in history\n",
    "\n",
    "Run the following command and check the contents of `cli_replce.py` in the editor.\n",
    "\n",
    "~~~bash\n",
    "$ git checkout 0a77b68fadcb36c5ab8ddf4a32889ae04b0fb9e2\n",
    "Note: checking out '0a77b68fadcb36c5ab8ddf4a32889ae04b0fb9e2'.\n",
    "\n",
    "You are in 'detached HEAD' state. You can look around, make experimental\n",
    "changes and commit them, and you can discard any commits you make in this\n",
    "state without impacting any branches by performing another checkout.\n",
    "\n",
    "If you want to create a new branch to retain commits you create, you may\n",
    "do so (now or later) by using -b with the checkout command again. Example:\n",
    "\n",
    "  git checkout -b <new-branch-name>\n",
    "\n",
    "HEAD is now at 0a77b68... Added a bit of documentation.\n",
    "~~~"
   ]
  },
  {
   "cell_type": "markdown",
   "metadata": {
    "slideshow": {
     "slide_type": "subslide"
    }
   },
   "source": [
    "### Hop forward in history\n",
    "\n",
    "Run the following command and check the contents of `cli_replce.py` in the editor.\n",
    "\n",
    "~~~bash\n",
    "$ git checkout 3661cdd2e0bdd064ca803f23711e7780120e9a5b\n",
    "Previous HEAD position was 0a77b68... Added a bit of documentation.\n",
    "HEAD is now at 3661cdd... Added check for right amount of arguments\n",
    "~~~~"
   ]
  },
  {
   "cell_type": "markdown",
   "metadata": {
    "slideshow": {
     "slide_type": "subslide"
    }
   },
   "source": [
    "## Compare the contents of two commits\n",
    "\n",
    "~~~bash\n",
    "$ git diff 0a77b68fadcb36c5ab8ddf4a32889ae04b0fb9e2 3661cdd2e0bdd064ca803f23711e7780120e9a5b\n",
    "diff --git a/cli_replace.py b/cli_replace.py\n",
    "index b635549..571c790 100644\n",
    "--- a/cli_replace.py\n",
    "+++ b/cli_replace.py\n",
    "@@ -1,5 +1,5 @@\n",
    "-import sys\n",
    "-\n",
    "+def usage():\n",
    "+    print('You have to provide exactly two arguments.')\n",
    "\n",
    " if __name__ == '__main__':\n",
    "     pattern = sys.argv[1]\n",
    "~~~"
   ]
  },
  {
   "cell_type": "markdown",
   "metadata": {
    "slideshow": {
     "slide_type": "slide"
    }
   },
   "source": [
    "# Github\n",
    "\n",
    "Github is a service for hosting your Git repositories. You can use it as a kind of back-up service and for collaborating with others on a project.\n",
    "\n",
    "For example, so far the history of your project is stored locally on your computer in the _repository_. In case you come to delete the repository with\n",
    "\n",
    "```bash\n",
    "rm -r my_new_python_project\n",
    "```\n",
    "\n",
    "then everything is gone. Your history too!\n",
    "\n",
    "To avoid that happening you can push your repositories to Github."
   ]
  },
  {
   "cell_type": "markdown",
   "metadata": {
    "slideshow": {
     "slide_type": "subslide"
    }
   },
   "source": [
    "## Registering on Github\n",
    "\n",
    "  * Navigate to https://github.com/join?source=header-home\n",
    "  * Choose a `Username`\n",
    "  * Fill-in your email address\n",
    "  * Choose a secure password that you do not use in another online service already.\n",
    "  * Select the _free_ plan.\n",
    "  "
   ]
  },
  {
   "cell_type": "markdown",
   "metadata": {
    "slideshow": {
     "slide_type": "subslide"
    }
   },
   "source": [
    "## Creating a new repository\n",
    "\n",
    "https://help.github.com/articles/creating-a-new-repository/"
   ]
  },
  {
   "cell_type": "code",
   "execution_count": null,
   "metadata": {
    "slideshow": {
     "slide_type": "subslide"
    }
   },
   "outputs": [],
   "source": [
    "from IPython.display import IFrame\n",
    "IFrame('https://help.github.com/articles/creating-a-new-repository/', width='100%', height=500)"
   ]
  },
  {
   "cell_type": "markdown",
   "metadata": {
    "slideshow": {
     "slide_type": "subslide"
    }
   },
   "source": [
    "<img src=\"images/create_repo.png\" alt=\"Drawing\" style=\"width: 500px;\"/>\n",
    "\n",
    "Note, when used as a free service all your repositories and all their contents are publicly accessible on the internet."
   ]
  },
  {
   "cell_type": "markdown",
   "metadata": {
    "slideshow": {
     "slide_type": "subslide"
    }
   },
   "source": [
    "## Push an existing repository from the command line\n",
    "\n",
    "<img src=\"images/create_repo2.png\" alt=\"Drawing\" style=\"width: 500px;\"/>\n",
    "\n"
   ]
  },
  {
   "cell_type": "markdown",
   "metadata": {
    "slideshow": {
     "slide_type": "subslide"
    }
   },
   "source": [
    "That is, to push your repository to Github do:\n",
    "\n",
    "\n",
    "~~~bash\n",
    "$ git remote add origin git@github.com:<HelgeCPH/my_new_python_project.git>\n",
    "$ git push -u origin master\n",
    "~~~\n",
    "\n",
    "You only have to register the remote repository once!"
   ]
  },
  {
   "cell_type": "markdown",
   "metadata": {
    "slideshow": {
     "slide_type": "subslide"
    }
   },
   "source": [
    "After creating a remote repository you usally use the following commands in combination to keep your history and to sync it with Github.\n",
    "\n",
    "~~~bash\n",
    "$ git add\n",
    "$ git commit -m\"...\"\n",
    "$ git push -u origin master\n",
    "~~~"
   ]
  },
  {
   "cell_type": "markdown",
   "metadata": {
    "slideshow": {
     "slide_type": "subslide"
    }
   },
   "source": [
    "If you want to incorporate the latest changes from a remote repository into your local copy you can do that via\n",
    "\n",
    "~~~bash\n",
    "$ git pull\n",
    "~~~"
   ]
  },
  {
   "cell_type": "markdown",
   "metadata": {
    "slideshow": {
     "slide_type": "slide"
    }
   },
   "source": [
    "# Working with the course's repository\n",
    "\n",
    "You will find all lecture material for this course in the repository\n",
    "https://github.com/itu-summer/qualification-seminar-materials-2018"
   ]
  },
  {
   "cell_type": "markdown",
   "metadata": {
    "slideshow": {
     "slide_type": "subslide"
    }
   },
   "source": [
    "### Get the Repository Once\n",
    "\n",
    "~~~bash\n",
    "$ cd ~/path/to/where/you/want/to/have/it\n",
    "$ git clone https://github.com/itu-summer/qualification-seminar-materials-2018.git\n",
    "~~~"
   ]
  },
  {
   "cell_type": "markdown",
   "metadata": {
    "slideshow": {
     "slide_type": "subslide"
    }
   },
   "source": [
    "### Fetch the Latest Updates After Each Session\n",
    "\n",
    "From within the directory containing the repository do:\n",
    "\n",
    "~~~bash\n",
    "$ git pull\n",
    "~~~\n",
    "\n",
    "to get the latest changes that Jens and Helge shared."
   ]
  },
  {
   "cell_type": "markdown",
   "metadata": {
    "slideshow": {
     "slide_type": "subslide"
    }
   },
   "source": [
    "### Separate your Code\n",
    "\n",
    "For this course, do not put your code in the courses repository. Instead, keep a seperate repository with your code."
   ]
  },
  {
   "cell_type": "markdown",
   "metadata": {
    "slideshow": {
     "slide_type": "slide"
    }
   },
   "source": [
    "# Another Github Tidbit\n",
    "\n",
    "You can quickly and easily create a homepage for you as a user or for you projects. See a full guide with styling at: https://pages.github.com"
   ]
  },
  {
   "cell_type": "markdown",
   "metadata": {
    "slideshow": {
     "slide_type": "subslide"
    }
   },
   "source": [
    "## Create the sources for you homepage\n",
    "\n",
    "~~~bash\n",
    "$ mkdir docs\n",
    "$ code docs/README.md\n",
    "~~~\n",
    "\n",
    "And copy the following into the `README.md` file:\n",
    "\n",
    "~~~~markdown\n",
    "# Welcome to My New Homepage\n",
    "\n",
    "This is me:\n",
    "![](https://avatars3.githubusercontent.com/u/21216985?s=400&v=4)\n",
    "\n",
    "And I am located here:\n",
    "<img src=\"http://staticmap.openstreetmap.de/staticmap.php?center=55.6867243, 12.5700724&zoom=5&size=865x512&maptype=mapnik&markers=55.6867243, 12.57007249,lightblue1\"/>\n",
    "\n",
    "Read more from me soon...\n",
    "~~~"
   ]
  },
  {
   "cell_type": "markdown",
   "metadata": {
    "slideshow": {
     "slide_type": "subslide"
    }
   },
   "source": [
    "Commit the new file for your homepage to your repository and share it with the remote one at Github:\n",
    "\n",
    "~~~bash\n",
    "$ git add docs/README.md\n",
    "$ git commit -m\"Added an initial file for homepage\"\n",
    "$ git push\n",
    "~~~"
   ]
  },
  {
   "cell_type": "markdown",
   "metadata": {
    "slideshow": {
     "slide_type": "subslide"
    }
   },
   "source": [
    "Now, on Github, click the settings icon in your repository.\n",
    "\n",
    "<img src=\"images/gh_pages1.png\" alt=\"Drawing\" style=\"width: 500px;\"/>"
   ]
  },
  {
   "cell_type": "markdown",
   "metadata": {
    "slideshow": {
     "slide_type": "subslide"
    }
   },
   "source": [
    "And enable Github Pages by selecting the following\n",
    "\n",
    "<img src=\"images/gh_pages2.png\" alt=\"Drawing\" style=\"width: 500px;\"/>\n",
    "\n",
    "Select a them below if you like.\n",
    "And navigate to your new homepage on \n",
    "`https://<your_user_id>.github.io/my_new_python_project/`"
   ]
  },
  {
   "cell_type": "code",
   "execution_count": null,
   "metadata": {
    "slideshow": {
     "slide_type": "subslide"
    }
   },
   "outputs": [],
   "source": [
    "IFrame('https://helgecph.github.io/my_new_python_project/', width='100%', height=500)"
   ]
  }
 ],
 "metadata": {
  "celltoolbar": "Slideshow",
  "kernelspec": {
   "display_name": "Python 3",
   "language": "python",
   "name": "python3"
  },
  "language_info": {
   "codemirror_mode": {
    "name": "ipython",
    "version": 3
   },
   "file_extension": ".py",
   "mimetype": "text/x-python",
   "name": "python",
   "nbconvert_exporter": "python",
   "pygments_lexer": "ipython3",
   "version": "3.6.3"
  }
 },
 "nbformat": 4,
 "nbformat_minor": 2
}
